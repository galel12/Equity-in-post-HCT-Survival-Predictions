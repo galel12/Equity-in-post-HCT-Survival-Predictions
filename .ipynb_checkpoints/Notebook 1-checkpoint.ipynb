{
 "cells": [
  {
   "cell_type": "markdown",
   "metadata": {
    "cell_id": "13fce0cb73f24f69a13b03731e0c3d74",
    "deepnote_app_block_visible": true,
    "deepnote_cell_type": "image",
    "deepnote_img_src": "header.png",
    "deepnote_img_width": "50%"
   },
   "source": [
    "<img src=\"header.png\" width=\"50%\" align=\"\" />"
   ]
  },
  {
   "cell_type": "markdown",
   "metadata": {
    "cell_id": "2f08f200df64461f99f3ab433037609b",
    "deepnote_app_block_visible": true,
    "deepnote_cell_type": "text-cell-h1",
    "formattedRanges": []
   },
   "source": [
    "# intro"
   ]
  },
  {
   "cell_type": "markdown",
   "metadata": {
    "cell_id": "9e41324410994091949032b49eedac2a",
    "deepnote_app_block_visible": true,
    "deepnote_cell_type": "text-cell-p",
    "formattedRanges": []
   },
   "source": [
    "We are Gal (123456789) and Roy (123456789), computer science students with a strong passion for data science and its applications in healthcare."
   ]
  },
  {
   "cell_type": "markdown",
   "metadata": {
    "cell_id": "385ea1c8c48c47fcb7e05c182366ae45",
    "deepnote_app_block_visible": true,
    "deepnote_cell_type": "text-cell-p",
    "formattedRanges": []
   },
   "source": [
    "For our semester project, we sought to tackle a meaningful challenge while expanding our skill set. After exploring Kaggle competitions, we were immediately drawn to the ‘Equity in post-HCT Survival Predictions’ challenge."
   ]
  },
  {
   "cell_type": "markdown",
   "metadata": {
    "cell_id": "6189274bd7854be89f9e976895f9efa0",
    "deepnote_app_block_visible": true,
    "deepnote_cell_type": "text-cell-p",
    "formattedRanges": []
   },
   "source": [
    "This competition focuses on predicting survival probabilities for patients undergoing hematopoietic cell transplantation (HCT), with an emphasis on ensuring equitable outcomes across different racial groups. The evaluation metric used in this challenge is the Stratified Concordance Index (C-index), which adjusts for racial stratification to promote fairness and equity in the predictions. This makes the challenge particularly impactful in addressing disparities in healthcare outcomes."
   ]
  },
  {
   "cell_type": "markdown",
   "metadata": {
    "cell_id": "a3102488312f42fd93779ecff7cbc7dc",
    "deepnote_app_block_visible": true,
    "deepnote_cell_type": "text-cell-p",
    "formattedRanges": []
   },
   "source": [
    "We are excited to dive into this project, combining our data science skills with our interest in advancing equity in medicine."
   ]
  },
  {
   "cell_type": "markdown",
   "metadata": {
    "cell_id": "788fab7f504543db953a300266b0da20",
    "deepnote_app_block_visible": true,
    "deepnote_cell_type": "text-cell-h1",
    "formattedRanges": []
   },
   "source": [
    "# The problem"
   ]
  },
  {
   "cell_type": "markdown",
   "metadata": {
    "cell_id": "83562f994b2944988287fcf29e10aa21",
    "deepnote_app_block_visible": true,
    "deepnote_cell_type": "text-cell-p",
    "formattedRanges": [
     {
      "fromCodePoint": 69,
      "ranges": [],
      "toCodePoint": 97,
      "type": "link",
      "url": "https://www.kaggle.com/competitions/equity-post-HCT-survival-predictions/overview/description"
     }
    ]
   },
   "source": [
    "We couldn’t explain the problem any better as it was outlined in the kaggle challenge description:"
   ]
  },
  {
   "cell_type": "markdown",
   "metadata": {
    "cell_id": "40a09792057c462c9783953dbd185392",
    "deepnote_app_block_visible": true,
    "deepnote_cell_type": "text-cell-p",
    "formattedRanges": []
   },
   "source": [
    "Improving survival predictions for allogeneic HCT patients is a vital healthcare challenge. Current predictive models often fall short in addressing disparities related to socioeconomic status, race, and geography. Addressing these gaps is crucial for enhancing patient care, optimizing resource utilization, and rebuilding trust in the healthcare system."
   ]
  },
  {
   "cell_type": "markdown",
   "metadata": {
    "cell_id": "e43f346eb8b34894846e0489d807fc01",
    "deepnote_app_block_visible": true,
    "deepnote_cell_type": "text-cell-p",
    "formattedRanges": []
   },
   "source": [
    "This competition aims to encourage participants to advance predictive modeling by ensuring that survival predictions are both precise and fair for patients across diverse groups. By using synthetic data—which mirrors real-world situations while protecting patient privacy—participants can build and improve models that more effectively consider diverse backgrounds and conditions."
   ]
  },
  {
   "cell_type": "markdown",
   "metadata": {
    "cell_id": "5079c53a3d6f478d855f4bf14827bbe4",
    "deepnote_app_block_visible": true,
    "deepnote_cell_type": "text-cell-p",
    "formattedRanges": []
   },
   "source": [
    "You’re challenged to develop advanced predictive models for allogeneic HCT that enhance both accuracy and fairness in survival predictions. The goal is to address disparities by bridging diverse data sources, refining algorithms, and reducing biases to ensure equitable outcomes for patients across diverse race groups. Your work will help create a more just and effective healthcare environment, ensuring every patient receives the care they deserve."
   ]
  },
  {
   "cell_type": "markdown",
   "metadata": {
    "cell_id": "6e83f492e9464e69a243dae747cbd19f",
    "deepnote_app_block_visible": false,
    "deepnote_cell_type": "text-cell-h1",
    "formattedRanges": []
   },
   "source": [
    "# Domain knowledge dive"
   ]
  },
  {
   "cell_type": "markdown",
   "metadata": {
    "cell_id": "d95d78b36d6d4512857679a661b20529",
    "deepnote_app_block_visible": true,
    "deepnote_cell_type": "text-cell-h1",
    "formattedRanges": []
   },
   "source": [
    "# Risk Score"
   ]
  },
  {
   "cell_type": "markdown",
   "metadata": {
    "cell_id": "f162b9d29e314239b7e3823e0b918256",
    "deepnote_app_block_visible": true,
    "deepnote_cell_type": "text-cell-p",
    "formattedRanges": []
   },
   "source": [
    "In the “Equity in post-HCT Survival Predictions” challenge, survival predictions are quantified as risk scores. These scores represent the likelihood of an adverse event (i.e., death, relapse, rejection, or moderate to severe GVHD) occurring within a specific timeframe after hematopoietic cell transplantation (HCT). To evaluate the predictions, the risk scores are compared to actual survival outcomes, and their discrimination ability is assessed using the Stratified Concordance Index (C-index)."
   ]
  },
  {
   "cell_type": "markdown",
   "metadata": {
    "cell_id": "25fb20a6e1b24c8085ac14955ff2629a",
    "deepnote_app_block_visible": true,
    "deepnote_cell_type": "text-cell-p",
    "formattedRanges": [
     {
      "fromCodePoint": 0,
      "marks": {
       "bold": true
      },
      "toCodePoint": 12,
      "type": "marks"
     }
    ]
   },
   "source": [
    "Key Details:\n",
    "1. Risk Score Scale:"
   ]
  },
  {
   "cell_type": "markdown",
   "metadata": {
    "cell_id": "04cf74c2cc39447a9061258c1ee691e7",
    "deepnote_app_block_visible": true,
    "deepnote_cell_type": "text-cell-bullet",
    "formattedRanges": []
   },
   "source": [
    "- A higher risk score indicates a higher likelihood of the target event (e.g., shorter survival time or higher mortality risk)."
   ]
  },
  {
   "cell_type": "markdown",
   "metadata": {
    "cell_id": "5cd3bcb0bac74e4ca2373331a387fef7",
    "deepnote_app_block_visible": true,
    "deepnote_cell_type": "text-cell-bullet",
    "formattedRanges": []
   },
   "source": [
    "- A lower risk score suggests a lower probability of the target event (e.g., longer survival time or lower mortality risk)."
   ]
  },
  {
   "cell_type": "markdown",
   "metadata": {
    "cell_id": "df0793595db54e599bb92b789506be09",
    "deepnote_app_block_visible": true,
    "deepnote_cell_type": "text-cell-p",
    "formattedRanges": []
   },
   "source": [
    "2. Stratification for Fairness:"
   ]
  },
  {
   "cell_type": "markdown",
   "metadata": {
    "cell_id": "3f8e9088b8e647e1af2d99fd1b77b19c",
    "deepnote_app_block_visible": true,
    "deepnote_cell_type": "text-cell-bullet",
    "formattedRanges": []
   },
   "source": [
    "- The risk scores are stratified across different racial groups to evaluate fairness."
   ]
  },
  {
   "cell_type": "markdown",
   "metadata": {
    "cell_id": "e190ef9a78994e04b8778d5a7f832717",
    "deepnote_app_block_visible": true,
    "deepnote_cell_type": "text-cell-bullet",
    "formattedRanges": []
   },
   "source": [
    "- Consistent and unbiased predictions across groups are critical for equitable healthcare applications."
   ]
  },
  {
   "cell_type": "markdown",
   "metadata": {
    "cell_id": "c45bf8e65e1c4148bcd6e7a5dd0332b6",
    "deepnote_app_block_visible": true,
    "deepnote_cell_type": "text-cell-p",
    "formattedRanges": []
   },
   "source": [
    "3. Clinical Implications:"
   ]
  },
  {
   "cell_type": "markdown",
   "metadata": {
    "cell_id": "c6ca88e3678d4515902b996f1c52bdbe",
    "deepnote_app_block_visible": true,
    "deepnote_cell_type": "text-cell-bullet",
    "formattedRanges": []
   },
   "source": [
    "- These risk scores may guide clinical decision-making by identifying patients at higher risk, enabling personalized follow-up and care."
   ]
  },
  {
   "cell_type": "markdown",
   "metadata": {
    "cell_id": "2095850c1f264dc19d2d625d252f6d38",
    "deepnote_app_block_visible": false,
    "deepnote_cell_type": "text-cell-h1",
    "formattedRanges": []
   },
   "source": [
    "# Solution evaluation\n"
   ]
  },
  {
   "cell_type": "markdown",
   "metadata": {
    "cell_id": "502a0b2ded064a1eafcb6998a6e02c53",
    "deepnote_app_block_visible": false,
    "deepnote_cell_type": "text-cell-h1",
    "formattedRanges": []
   },
   "source": [
    "# Further details"
   ]
  },
  {
   "cell_type": "markdown",
   "metadata": {
    "cell_id": "948fac8a250343be9926e05956706c33",
    "deepnote_app_block_visible": true,
    "deepnote_cell_type": "text-cell-h1",
    "formattedRanges": []
   },
   "source": [
    "# EDA"
   ]
  },
  {
   "cell_type": "code",
   "execution_count": 10,
   "metadata": {
    "cell_id": "89de0a23d480433a8322bdb7d6796462",
    "deepnote_app_block_visible": true,
    "deepnote_app_is_code_hidden": false,
    "deepnote_app_is_output_hidden": false,
    "deepnote_cell_type": "code",
    "execution_context_id": "253f212a-52c9-4a6a-a70e-bf980c65b184",
    "execution_millis": 876,
    "execution_start": 1738762366346,
    "source_hash": "c05532e8"
   },
   "outputs": [
    {
     "name": "stderr",
     "output_type": "stream",
     "text": [
      "\n",
      "A module that was compiled using NumPy 1.x cannot be run in\n",
      "NumPy 2.0.2 as it may crash. To support both 1.x and 2.x\n",
      "versions of NumPy, modules must be compiled with NumPy 2.0.\n",
      "Some module may need to rebuild instead e.g. with 'pybind11>=2.12'.\n",
      "\n",
      "If you are a user of the module, the easiest solution will be to\n",
      "downgrade to 'numpy<2' or try to upgrade the affected module.\n",
      "We expect that some modules will need time to support NumPy 2.\n",
      "\n",
      "Traceback (most recent call last):  File \"<frozen runpy>\", line 198, in _run_module_as_main\n",
      "  File \"<frozen runpy>\", line 88, in _run_code\n",
      "  File \"/Users/galelharar/Library/Python/3.11/lib/python/site-packages/ipykernel_launcher.py\", line 18, in <module>\n",
      "    app.launch_new_instance()\n",
      "  File \"/Users/galelharar/Library/Python/3.11/lib/python/site-packages/traitlets/config/application.py\", line 1075, in launch_instance\n",
      "    app.start()\n",
      "  File \"/Users/galelharar/Library/Python/3.11/lib/python/site-packages/ipykernel/kernelapp.py\", line 739, in start\n",
      "    self.io_loop.start()\n",
      "  File \"/Users/galelharar/Library/Python/3.11/lib/python/site-packages/tornado/platform/asyncio.py\", line 205, in start\n",
      "    self.asyncio_loop.run_forever()\n",
      "  File \"/Library/Frameworks/Python.framework/Versions/3.11/lib/python3.11/asyncio/base_events.py\", line 607, in run_forever\n",
      "    self._run_once()\n",
      "  File \"/Library/Frameworks/Python.framework/Versions/3.11/lib/python3.11/asyncio/base_events.py\", line 1922, in _run_once\n",
      "    handle._run()\n",
      "  File \"/Library/Frameworks/Python.framework/Versions/3.11/lib/python3.11/asyncio/events.py\", line 80, in _run\n",
      "    self._context.run(self._callback, *self._args)\n",
      "  File \"/Users/galelharar/Library/Python/3.11/lib/python/site-packages/ipykernel/kernelbase.py\", line 545, in dispatch_queue\n",
      "    await self.process_one()\n",
      "  File \"/Users/galelharar/Library/Python/3.11/lib/python/site-packages/ipykernel/kernelbase.py\", line 534, in process_one\n",
      "    await dispatch(*args)\n",
      "  File \"/Users/galelharar/Library/Python/3.11/lib/python/site-packages/ipykernel/kernelbase.py\", line 437, in dispatch_shell\n",
      "    await result\n",
      "  File \"/Users/galelharar/Library/Python/3.11/lib/python/site-packages/ipykernel/ipkernel.py\", line 362, in execute_request\n",
      "    await super().execute_request(stream, ident, parent)\n",
      "  File \"/Users/galelharar/Library/Python/3.11/lib/python/site-packages/ipykernel/kernelbase.py\", line 778, in execute_request\n",
      "    reply_content = await reply_content\n",
      "  File \"/Users/galelharar/Library/Python/3.11/lib/python/site-packages/ipykernel/ipkernel.py\", line 449, in do_execute\n",
      "    res = shell.run_cell(\n",
      "  File \"/Users/galelharar/Library/Python/3.11/lib/python/site-packages/ipykernel/zmqshell.py\", line 549, in run_cell\n",
      "    return super().run_cell(*args, **kwargs)\n",
      "  File \"/Users/galelharar/Library/Python/3.11/lib/python/site-packages/IPython/core/interactiveshell.py\", line 3077, in run_cell\n",
      "    result = self._run_cell(\n",
      "  File \"/Users/galelharar/Library/Python/3.11/lib/python/site-packages/IPython/core/interactiveshell.py\", line 3132, in _run_cell\n",
      "    result = runner(coro)\n",
      "  File \"/Users/galelharar/Library/Python/3.11/lib/python/site-packages/IPython/core/async_helpers.py\", line 128, in _pseudo_sync_runner\n",
      "    coro.send(None)\n",
      "  File \"/Users/galelharar/Library/Python/3.11/lib/python/site-packages/IPython/core/interactiveshell.py\", line 3336, in run_cell_async\n",
      "    has_raised = await self.run_ast_nodes(code_ast.body, cell_name,\n",
      "  File \"/Users/galelharar/Library/Python/3.11/lib/python/site-packages/IPython/core/interactiveshell.py\", line 3519, in run_ast_nodes\n",
      "    if await self.run_code(code, result, async_=asy):\n",
      "  File \"/Users/galelharar/Library/Python/3.11/lib/python/site-packages/IPython/core/interactiveshell.py\", line 3579, in run_code\n",
      "    exec(code_obj, self.user_global_ns, self.user_ns)\n",
      "  File \"/var/folders/9x/qwgbpdr543b34nh5hq856q840000gn/T/ipykernel_60830/4149376171.py\", line 2, in <module>\n",
      "    import matplotlib.pyplot as plt\n",
      "  File \"/Library/Frameworks/Python.framework/Versions/3.11/lib/python3.11/site-packages/matplotlib/__init__.py\", line 131, in <module>\n",
      "    from . import _api, _version, cbook, _docstring, rcsetup\n",
      "  File \"/Library/Frameworks/Python.framework/Versions/3.11/lib/python3.11/site-packages/matplotlib/rcsetup.py\", line 27, in <module>\n",
      "    from matplotlib.colors import Colormap, is_color_like\n",
      "  File \"/Library/Frameworks/Python.framework/Versions/3.11/lib/python3.11/site-packages/matplotlib/colors.py\", line 56, in <module>\n",
      "    from matplotlib import _api, _cm, cbook, scale\n",
      "  File \"/Library/Frameworks/Python.framework/Versions/3.11/lib/python3.11/site-packages/matplotlib/scale.py\", line 22, in <module>\n",
      "    from matplotlib.ticker import (\n",
      "  File \"/Library/Frameworks/Python.framework/Versions/3.11/lib/python3.11/site-packages/matplotlib/ticker.py\", line 138, in <module>\n",
      "    from matplotlib import transforms as mtransforms\n",
      "  File \"/Library/Frameworks/Python.framework/Versions/3.11/lib/python3.11/site-packages/matplotlib/transforms.py\", line 49, in <module>\n",
      "    from matplotlib._path import (\n"
     ]
    },
    {
     "ename": "AttributeError",
     "evalue": "_ARRAY_API not found",
     "output_type": "error",
     "traceback": [
      "\u001b[0;31m---------------------------------------------------------------------------\u001b[0m",
      "\u001b[0;31mAttributeError\u001b[0m                            Traceback (most recent call last)",
      "\u001b[0;31mAttributeError\u001b[0m: _ARRAY_API not found"
     ]
    },
    {
     "ename": "ImportError",
     "evalue": "numpy.core.multiarray failed to import",
     "output_type": "error",
     "traceback": [
      "\u001b[0;31m---------------------------------------------------------------------------\u001b[0m",
      "\u001b[0;31mImportError\u001b[0m                               Traceback (most recent call last)",
      "Cell \u001b[0;32mIn[10], line 2\u001b[0m\n\u001b[1;32m      1\u001b[0m \u001b[38;5;28;01mimport\u001b[39;00m\u001b[38;5;250m \u001b[39m\u001b[38;5;21;01mpandas\u001b[39;00m\u001b[38;5;250m \u001b[39m\u001b[38;5;28;01mas\u001b[39;00m\u001b[38;5;250m \u001b[39m\u001b[38;5;21;01mpd\u001b[39;00m\n\u001b[0;32m----> 2\u001b[0m \u001b[38;5;28;01mimport\u001b[39;00m\u001b[38;5;250m \u001b[39m\u001b[38;5;21;01mmatplotlib\u001b[39;00m\u001b[38;5;21;01m.\u001b[39;00m\u001b[38;5;21;01mpyplot\u001b[39;00m\u001b[38;5;250m \u001b[39m\u001b[38;5;28;01mas\u001b[39;00m\u001b[38;5;250m \u001b[39m\u001b[38;5;21;01mplt\u001b[39;00m\n\u001b[1;32m      3\u001b[0m \u001b[38;5;28;01mimport\u001b[39;00m\u001b[38;5;250m \u001b[39m\u001b[38;5;21;01mseaborn\u001b[39;00m\u001b[38;5;250m \u001b[39m\u001b[38;5;28;01mas\u001b[39;00m\u001b[38;5;250m \u001b[39m\u001b[38;5;21;01msns\u001b[39;00m\n\u001b[1;32m      4\u001b[0m \u001b[38;5;28;01mimport\u001b[39;00m\u001b[38;5;250m \u001b[39m\u001b[38;5;21;01mrandom\u001b[39;00m\n",
      "File \u001b[0;32m/Library/Frameworks/Python.framework/Versions/3.11/lib/python3.11/site-packages/matplotlib/__init__.py:131\u001b[0m\n\u001b[1;32m    127\u001b[0m \u001b[38;5;28;01mfrom\u001b[39;00m\u001b[38;5;250m \u001b[39m\u001b[38;5;21;01mpackaging\u001b[39;00m\u001b[38;5;21;01m.\u001b[39;00m\u001b[38;5;21;01mversion\u001b[39;00m\u001b[38;5;250m \u001b[39m\u001b[38;5;28;01mimport\u001b[39;00m parse \u001b[38;5;28;01mas\u001b[39;00m parse_version\n\u001b[1;32m    129\u001b[0m \u001b[38;5;66;03m# cbook must import matplotlib only within function\u001b[39;00m\n\u001b[1;32m    130\u001b[0m \u001b[38;5;66;03m# definitions, so it is safe to import from it here.\u001b[39;00m\n\u001b[0;32m--> 131\u001b[0m \u001b[38;5;28;01mfrom\u001b[39;00m\u001b[38;5;250m \u001b[39m\u001b[38;5;21;01m.\u001b[39;00m\u001b[38;5;250m \u001b[39m\u001b[38;5;28;01mimport\u001b[39;00m _api, _version, cbook, _docstring, rcsetup\n\u001b[1;32m    132\u001b[0m \u001b[38;5;28;01mfrom\u001b[39;00m\u001b[38;5;250m \u001b[39m\u001b[38;5;21;01mmatplotlib\u001b[39;00m\u001b[38;5;21;01m.\u001b[39;00m\u001b[38;5;21;01mcbook\u001b[39;00m\u001b[38;5;250m \u001b[39m\u001b[38;5;28;01mimport\u001b[39;00m sanitize_sequence\n\u001b[1;32m    133\u001b[0m \u001b[38;5;28;01mfrom\u001b[39;00m\u001b[38;5;250m \u001b[39m\u001b[38;5;21;01mmatplotlib\u001b[39;00m\u001b[38;5;21;01m.\u001b[39;00m\u001b[38;5;21;01m_api\u001b[39;00m\u001b[38;5;250m \u001b[39m\u001b[38;5;28;01mimport\u001b[39;00m MatplotlibDeprecationWarning\n",
      "File \u001b[0;32m/Library/Frameworks/Python.framework/Versions/3.11/lib/python3.11/site-packages/matplotlib/rcsetup.py:27\u001b[0m\n\u001b[1;32m     25\u001b[0m \u001b[38;5;28;01mfrom\u001b[39;00m\u001b[38;5;250m \u001b[39m\u001b[38;5;21;01mmatplotlib\u001b[39;00m\u001b[38;5;250m \u001b[39m\u001b[38;5;28;01mimport\u001b[39;00m _api, cbook\n\u001b[1;32m     26\u001b[0m \u001b[38;5;28;01mfrom\u001b[39;00m\u001b[38;5;250m \u001b[39m\u001b[38;5;21;01mmatplotlib\u001b[39;00m\u001b[38;5;21;01m.\u001b[39;00m\u001b[38;5;21;01mcbook\u001b[39;00m\u001b[38;5;250m \u001b[39m\u001b[38;5;28;01mimport\u001b[39;00m ls_mapper\n\u001b[0;32m---> 27\u001b[0m \u001b[38;5;28;01mfrom\u001b[39;00m\u001b[38;5;250m \u001b[39m\u001b[38;5;21;01mmatplotlib\u001b[39;00m\u001b[38;5;21;01m.\u001b[39;00m\u001b[38;5;21;01mcolors\u001b[39;00m\u001b[38;5;250m \u001b[39m\u001b[38;5;28;01mimport\u001b[39;00m Colormap, is_color_like\n\u001b[1;32m     28\u001b[0m \u001b[38;5;28;01mfrom\u001b[39;00m\u001b[38;5;250m \u001b[39m\u001b[38;5;21;01mmatplotlib\u001b[39;00m\u001b[38;5;21;01m.\u001b[39;00m\u001b[38;5;21;01m_fontconfig_pattern\u001b[39;00m\u001b[38;5;250m \u001b[39m\u001b[38;5;28;01mimport\u001b[39;00m parse_fontconfig_pattern\n\u001b[1;32m     29\u001b[0m \u001b[38;5;28;01mfrom\u001b[39;00m\u001b[38;5;250m \u001b[39m\u001b[38;5;21;01mmatplotlib\u001b[39;00m\u001b[38;5;21;01m.\u001b[39;00m\u001b[38;5;21;01m_enums\u001b[39;00m\u001b[38;5;250m \u001b[39m\u001b[38;5;28;01mimport\u001b[39;00m JoinStyle, CapStyle\n",
      "File \u001b[0;32m/Library/Frameworks/Python.framework/Versions/3.11/lib/python3.11/site-packages/matplotlib/colors.py:56\u001b[0m\n\u001b[1;32m     54\u001b[0m \u001b[38;5;28;01mimport\u001b[39;00m\u001b[38;5;250m \u001b[39m\u001b[38;5;21;01mmatplotlib\u001b[39;00m\u001b[38;5;250m \u001b[39m\u001b[38;5;28;01mas\u001b[39;00m\u001b[38;5;250m \u001b[39m\u001b[38;5;21;01mmpl\u001b[39;00m\n\u001b[1;32m     55\u001b[0m \u001b[38;5;28;01mimport\u001b[39;00m\u001b[38;5;250m \u001b[39m\u001b[38;5;21;01mnumpy\u001b[39;00m\u001b[38;5;250m \u001b[39m\u001b[38;5;28;01mas\u001b[39;00m\u001b[38;5;250m \u001b[39m\u001b[38;5;21;01mnp\u001b[39;00m\n\u001b[0;32m---> 56\u001b[0m \u001b[38;5;28;01mfrom\u001b[39;00m\u001b[38;5;250m \u001b[39m\u001b[38;5;21;01mmatplotlib\u001b[39;00m\u001b[38;5;250m \u001b[39m\u001b[38;5;28;01mimport\u001b[39;00m _api, _cm, cbook, scale\n\u001b[1;32m     57\u001b[0m \u001b[38;5;28;01mfrom\u001b[39;00m\u001b[38;5;250m \u001b[39m\u001b[38;5;21;01m.\u001b[39;00m\u001b[38;5;21;01m_color_data\u001b[39;00m\u001b[38;5;250m \u001b[39m\u001b[38;5;28;01mimport\u001b[39;00m BASE_COLORS, TABLEAU_COLORS, CSS4_COLORS, XKCD_COLORS\n\u001b[1;32m     60\u001b[0m \u001b[38;5;28;01mclass\u001b[39;00m\u001b[38;5;250m \u001b[39m\u001b[38;5;21;01m_ColorMapping\u001b[39;00m(\u001b[38;5;28mdict\u001b[39m):\n",
      "File \u001b[0;32m/Library/Frameworks/Python.framework/Versions/3.11/lib/python3.11/site-packages/matplotlib/scale.py:22\u001b[0m\n\u001b[1;32m     20\u001b[0m \u001b[38;5;28;01mimport\u001b[39;00m\u001b[38;5;250m \u001b[39m\u001b[38;5;21;01mmatplotlib\u001b[39;00m\u001b[38;5;250m \u001b[39m\u001b[38;5;28;01mas\u001b[39;00m\u001b[38;5;250m \u001b[39m\u001b[38;5;21;01mmpl\u001b[39;00m\n\u001b[1;32m     21\u001b[0m \u001b[38;5;28;01mfrom\u001b[39;00m\u001b[38;5;250m \u001b[39m\u001b[38;5;21;01mmatplotlib\u001b[39;00m\u001b[38;5;250m \u001b[39m\u001b[38;5;28;01mimport\u001b[39;00m _api, _docstring\n\u001b[0;32m---> 22\u001b[0m \u001b[38;5;28;01mfrom\u001b[39;00m\u001b[38;5;250m \u001b[39m\u001b[38;5;21;01mmatplotlib\u001b[39;00m\u001b[38;5;21;01m.\u001b[39;00m\u001b[38;5;21;01mticker\u001b[39;00m\u001b[38;5;250m \u001b[39m\u001b[38;5;28;01mimport\u001b[39;00m (\n\u001b[1;32m     23\u001b[0m     NullFormatter, ScalarFormatter, LogFormatterSciNotation, LogitFormatter,\n\u001b[1;32m     24\u001b[0m     NullLocator, LogLocator, AutoLocator, AutoMinorLocator,\n\u001b[1;32m     25\u001b[0m     SymmetricalLogLocator, AsinhLocator, LogitLocator)\n\u001b[1;32m     26\u001b[0m \u001b[38;5;28;01mfrom\u001b[39;00m\u001b[38;5;250m \u001b[39m\u001b[38;5;21;01mmatplotlib\u001b[39;00m\u001b[38;5;21;01m.\u001b[39;00m\u001b[38;5;21;01mtransforms\u001b[39;00m\u001b[38;5;250m \u001b[39m\u001b[38;5;28;01mimport\u001b[39;00m Transform, IdentityTransform\n\u001b[1;32m     29\u001b[0m \u001b[38;5;28;01mclass\u001b[39;00m\u001b[38;5;250m \u001b[39m\u001b[38;5;21;01mScaleBase\u001b[39;00m:\n",
      "File \u001b[0;32m/Library/Frameworks/Python.framework/Versions/3.11/lib/python3.11/site-packages/matplotlib/ticker.py:138\u001b[0m\n\u001b[1;32m    136\u001b[0m \u001b[38;5;28;01mimport\u001b[39;00m\u001b[38;5;250m \u001b[39m\u001b[38;5;21;01mmatplotlib\u001b[39;00m\u001b[38;5;250m \u001b[39m\u001b[38;5;28;01mas\u001b[39;00m\u001b[38;5;250m \u001b[39m\u001b[38;5;21;01mmpl\u001b[39;00m\n\u001b[1;32m    137\u001b[0m \u001b[38;5;28;01mfrom\u001b[39;00m\u001b[38;5;250m \u001b[39m\u001b[38;5;21;01mmatplotlib\u001b[39;00m\u001b[38;5;250m \u001b[39m\u001b[38;5;28;01mimport\u001b[39;00m _api, cbook\n\u001b[0;32m--> 138\u001b[0m \u001b[38;5;28;01mfrom\u001b[39;00m\u001b[38;5;250m \u001b[39m\u001b[38;5;21;01mmatplotlib\u001b[39;00m\u001b[38;5;250m \u001b[39m\u001b[38;5;28;01mimport\u001b[39;00m transforms \u001b[38;5;28;01mas\u001b[39;00m mtransforms\n\u001b[1;32m    140\u001b[0m _log \u001b[38;5;241m=\u001b[39m logging\u001b[38;5;241m.\u001b[39mgetLogger(\u001b[38;5;18m__name__\u001b[39m)\n\u001b[1;32m    142\u001b[0m __all__ \u001b[38;5;241m=\u001b[39m (\u001b[38;5;124m'\u001b[39m\u001b[38;5;124mTickHelper\u001b[39m\u001b[38;5;124m'\u001b[39m, \u001b[38;5;124m'\u001b[39m\u001b[38;5;124mFormatter\u001b[39m\u001b[38;5;124m'\u001b[39m, \u001b[38;5;124m'\u001b[39m\u001b[38;5;124mFixedFormatter\u001b[39m\u001b[38;5;124m'\u001b[39m,\n\u001b[1;32m    143\u001b[0m            \u001b[38;5;124m'\u001b[39m\u001b[38;5;124mNullFormatter\u001b[39m\u001b[38;5;124m'\u001b[39m, \u001b[38;5;124m'\u001b[39m\u001b[38;5;124mFuncFormatter\u001b[39m\u001b[38;5;124m'\u001b[39m, \u001b[38;5;124m'\u001b[39m\u001b[38;5;124mFormatStrFormatter\u001b[39m\u001b[38;5;124m'\u001b[39m,\n\u001b[1;32m    144\u001b[0m            \u001b[38;5;124m'\u001b[39m\u001b[38;5;124mStrMethodFormatter\u001b[39m\u001b[38;5;124m'\u001b[39m, \u001b[38;5;124m'\u001b[39m\u001b[38;5;124mScalarFormatter\u001b[39m\u001b[38;5;124m'\u001b[39m, \u001b[38;5;124m'\u001b[39m\u001b[38;5;124mLogFormatter\u001b[39m\u001b[38;5;124m'\u001b[39m,\n\u001b[0;32m   (...)\u001b[0m\n\u001b[1;32m    150\u001b[0m            \u001b[38;5;124m'\u001b[39m\u001b[38;5;124mMultipleLocator\u001b[39m\u001b[38;5;124m'\u001b[39m, \u001b[38;5;124m'\u001b[39m\u001b[38;5;124mMaxNLocator\u001b[39m\u001b[38;5;124m'\u001b[39m, \u001b[38;5;124m'\u001b[39m\u001b[38;5;124mAutoMinorLocator\u001b[39m\u001b[38;5;124m'\u001b[39m,\n\u001b[1;32m    151\u001b[0m            \u001b[38;5;124m'\u001b[39m\u001b[38;5;124mSymmetricalLogLocator\u001b[39m\u001b[38;5;124m'\u001b[39m, \u001b[38;5;124m'\u001b[39m\u001b[38;5;124mAsinhLocator\u001b[39m\u001b[38;5;124m'\u001b[39m, \u001b[38;5;124m'\u001b[39m\u001b[38;5;124mLogitLocator\u001b[39m\u001b[38;5;124m'\u001b[39m)\n",
      "File \u001b[0;32m/Library/Frameworks/Python.framework/Versions/3.11/lib/python3.11/site-packages/matplotlib/transforms.py:49\u001b[0m\n\u001b[1;32m     46\u001b[0m \u001b[38;5;28;01mfrom\u001b[39;00m\u001b[38;5;250m \u001b[39m\u001b[38;5;21;01mnumpy\u001b[39;00m\u001b[38;5;21;01m.\u001b[39;00m\u001b[38;5;21;01mlinalg\u001b[39;00m\u001b[38;5;250m \u001b[39m\u001b[38;5;28;01mimport\u001b[39;00m inv\n\u001b[1;32m     48\u001b[0m \u001b[38;5;28;01mfrom\u001b[39;00m\u001b[38;5;250m \u001b[39m\u001b[38;5;21;01mmatplotlib\u001b[39;00m\u001b[38;5;250m \u001b[39m\u001b[38;5;28;01mimport\u001b[39;00m _api\n\u001b[0;32m---> 49\u001b[0m \u001b[38;5;28;01mfrom\u001b[39;00m\u001b[38;5;250m \u001b[39m\u001b[38;5;21;01mmatplotlib\u001b[39;00m\u001b[38;5;21;01m.\u001b[39;00m\u001b[38;5;21;01m_path\u001b[39;00m\u001b[38;5;250m \u001b[39m\u001b[38;5;28;01mimport\u001b[39;00m (\n\u001b[1;32m     50\u001b[0m     affine_transform, count_bboxes_overlapping_bbox, update_path_extents)\n\u001b[1;32m     51\u001b[0m \u001b[38;5;28;01mfrom\u001b[39;00m\u001b[38;5;250m \u001b[39m\u001b[38;5;21;01m.\u001b[39;00m\u001b[38;5;21;01mpath\u001b[39;00m\u001b[38;5;250m \u001b[39m\u001b[38;5;28;01mimport\u001b[39;00m Path\n\u001b[1;32m     53\u001b[0m DEBUG \u001b[38;5;241m=\u001b[39m \u001b[38;5;28;01mFalse\u001b[39;00m\n",
      "\u001b[0;31mImportError\u001b[0m: numpy.core.multiarray failed to import"
     ]
    }
   ],
   "source": [
    "import pandas as pd\n",
    "import matplotlib.pyplot as plt\n",
    "import seaborn as sns\n",
    "import random\n",
    "import numpy as np"
   ]
  },
  {
   "cell_type": "code",
   "execution_count": 2,
   "metadata": {
    "cell_id": "696fb178918345799f94f745913b7e9e",
    "deepnote_app_block_visible": true,
    "deepnote_app_is_code_hidden": false,
    "deepnote_app_is_output_hidden": false,
    "deepnote_cell_type": "code",
    "execution_context_id": "253f212a-52c9-4a6a-a70e-bf980c65b184",
    "execution_millis": 0,
    "execution_start": 1738762367268,
    "source_hash": "bd746fdf"
   },
   "outputs": [],
   "source": [
    "SEED = 1337\n",
    "random.seed(SEED)"
   ]
  },
  {
   "cell_type": "markdown",
   "metadata": {
    "cell_id": "29473fcee30e44ccad0866d060c35111",
    "deepnote_app_block_visible": true,
    "deepnote_cell_type": "text-cell-p",
    "formattedRanges": []
   },
   "source": [
    "Let's load our data as a pandas dataframe:"
   ]
  },
  {
   "cell_type": "code",
   "execution_count": 3,
   "metadata": {
    "cell_id": "281442d1d81f44d88a9b0e06e13ab2ba",
    "deepnote_app_block_visible": true,
    "deepnote_app_is_code_hidden": false,
    "deepnote_app_is_output_hidden": false,
    "deepnote_cell_type": "code",
    "execution_context_id": "253f212a-52c9-4a6a-a70e-bf980c65b184",
    "execution_millis": 288,
    "execution_start": 1738762367316,
    "source_hash": "1b3a8345"
   },
   "outputs": [
    {
     "data": {
      "application/vnd.deepnote.dataframe.v3+json": {
       "column_count": 60,
       "columns": [
        {
         "dtype": "int64",
         "name": "ID",
         "stats": {
          "histogram": [
           {
            "bin_end": 0.4,
            "bin_start": 0,
            "count": 1
           },
           {
            "bin_end": 0.8,
            "bin_start": 0.4,
            "count": 0
           },
           {
            "bin_end": 1.2000000000000002,
            "bin_start": 0.8,
            "count": 1
           },
           {
            "bin_end": 1.6,
            "bin_start": 1.2000000000000002,
            "count": 0
           },
           {
            "bin_end": 2,
            "bin_start": 1.6,
            "count": 0
           },
           {
            "bin_end": 2.4000000000000004,
            "bin_start": 2,
            "count": 1
           },
           {
            "bin_end": 2.8000000000000003,
            "bin_start": 2.4000000000000004,
            "count": 0
           },
           {
            "bin_end": 3.2,
            "bin_start": 2.8000000000000003,
            "count": 1
           },
           {
            "bin_end": 3.6,
            "bin_start": 3.2,
            "count": 0
           },
           {
            "bin_end": 4,
            "bin_start": 3.6,
            "count": 1
           }
          ],
          "max": "4",
          "min": "0",
          "nan_count": 0,
          "unique_count": 5
         }
        },
        {
         "dtype": "object",
         "name": "dri_score",
         "stats": {
          "categories": [
           {
            "count": 2,
            "name": "N/A - non-malignant indication"
           },
           {
            "count": 2,
            "name": "High"
           },
           {
            "count": 1,
            "name": "Intermediate"
           }
          ],
          "nan_count": 0,
          "unique_count": 3
         }
        },
        {
         "dtype": "object",
         "name": "psych_disturb",
         "stats": {
          "categories": [
           {
            "count": 5,
            "name": "No"
           }
          ],
          "nan_count": 0,
          "unique_count": 1
         }
        },
        {
         "dtype": "object",
         "name": "cyto_score",
         "stats": {
          "categories": [
           {
            "count": 2,
            "name": "Intermediate"
           },
           {
            "count": 3,
            "name": "Missing"
           }
          ],
          "nan_count": 3,
          "unique_count": 1
         }
        },
        {
         "dtype": "object",
         "name": "diabetes",
         "stats": {
          "categories": [
           {
            "count": 5,
            "name": "No"
           }
          ],
          "nan_count": 0,
          "unique_count": 1
         }
        },
        {
         "dtype": "float64",
         "name": "hla_match_c_high",
         "stats": {
          "histogram": [
           {
            "bin_end": 1.6,
            "bin_start": 1.5,
            "count": 0
           },
           {
            "bin_end": 1.7,
            "bin_start": 1.6,
            "count": 0
           },
           {
            "bin_end": 1.8,
            "bin_start": 1.7,
            "count": 0
           },
           {
            "bin_end": 1.9,
            "bin_start": 1.8,
            "count": 0
           },
           {
            "bin_end": 2,
            "bin_start": 1.9,
            "count": 0
           },
           {
            "bin_end": 2.1,
            "bin_start": 2,
            "count": 4
           },
           {
            "bin_end": 2.2,
            "bin_start": 2.1,
            "count": 0
           },
           {
            "bin_end": 2.3,
            "bin_start": 2.2,
            "count": 0
           },
           {
            "bin_end": 2.4,
            "bin_start": 2.3,
            "count": 0
           },
           {
            "bin_end": 2.5,
            "bin_start": 2.4,
            "count": 0
           }
          ],
          "max": "2.0",
          "min": "2.0",
          "nan_count": 1,
          "unique_count": 1
         }
        },
        {
         "dtype": "float64",
         "name": "hla_high_res_8",
         "stats": {
          "histogram": [
           {
            "bin_end": 7.6,
            "bin_start": 7.5,
            "count": 0
           },
           {
            "bin_end": 7.7,
            "bin_start": 7.6,
            "count": 0
           },
           {
            "bin_end": 7.8,
            "bin_start": 7.7,
            "count": 0
           },
           {
            "bin_end": 7.9,
            "bin_start": 7.8,
            "count": 0
           },
           {
            "bin_end": 8,
            "bin_start": 7.9,
            "count": 0
           },
           {
            "bin_end": 8.1,
            "bin_start": 8,
            "count": 4
           },
           {
            "bin_end": 8.2,
            "bin_start": 8.1,
            "count": 0
           },
           {
            "bin_end": 8.3,
            "bin_start": 8.2,
            "count": 0
           },
           {
            "bin_end": 8.4,
            "bin_start": 8.3,
            "count": 0
           },
           {
            "bin_end": 8.5,
            "bin_start": 8.4,
            "count": 0
           }
          ],
          "max": "8.0",
          "min": "8.0",
          "nan_count": 1,
          "unique_count": 1
         }
        },
        {
         "dtype": "object",
         "name": "tbi_status",
         "stats": {
          "categories": [
           {
            "count": 4,
            "name": "No TBI"
           },
           {
            "count": 1,
            "name": "TBI +- Other, >cGy"
           }
          ],
          "nan_count": 0,
          "unique_count": 2
         }
        },
        {
         "dtype": "object",
         "name": "arrhythmia",
         "stats": {
          "categories": [
           {
            "count": 5,
            "name": "No"
           }
          ],
          "nan_count": 0,
          "unique_count": 1
         }
        },
        {
         "dtype": "float64",
         "name": "hla_low_res_6",
         "stats": {
          "histogram": [
           {
            "bin_end": 5.6,
            "bin_start": 5.5,
            "count": 0
           },
           {
            "bin_end": 5.7,
            "bin_start": 5.6,
            "count": 0
           },
           {
            "bin_end": 5.8,
            "bin_start": 5.7,
            "count": 0
           },
           {
            "bin_end": 5.9,
            "bin_start": 5.8,
            "count": 0
           },
           {
            "bin_end": 6,
            "bin_start": 5.9,
            "count": 0
           },
           {
            "bin_end": 6.1,
            "bin_start": 6,
            "count": 5
           },
           {
            "bin_end": 6.2,
            "bin_start": 6.1,
            "count": 0
           },
           {
            "bin_end": 6.3,
            "bin_start": 6.2,
            "count": 0
           },
           {
            "bin_end": 6.4,
            "bin_start": 6.3,
            "count": 0
           },
           {
            "bin_end": 6.5,
            "bin_start": 6.4,
            "count": 0
           }
          ],
          "max": "6.0",
          "min": "6.0",
          "nan_count": 0,
          "unique_count": 1
         }
        },
        {
         "dtype": "object",
         "name": "graft_type",
         "stats": {
          "categories": [
           {
            "count": 3,
            "name": "Bone marrow"
           },
           {
            "count": 2,
            "name": "Peripheral blood"
           }
          ],
          "nan_count": 0,
          "unique_count": 2
         }
        },
        {
         "dtype": "object",
         "name": "vent_hist",
         "stats": {
          "categories": [
           {
            "count": 5,
            "name": "No"
           }
          ],
          "nan_count": 0,
          "unique_count": 1
         }
        },
        {
         "dtype": "object",
         "name": "renal_issue",
         "stats": {
          "categories": [
           {
            "count": 5,
            "name": "No"
           }
          ],
          "nan_count": 0,
          "unique_count": 1
         }
        },
        {
         "dtype": "object",
         "name": "pulm_severe",
         "stats": {
          "categories": [
           {
            "count": 5,
            "name": "No"
           }
          ],
          "nan_count": 0,
          "unique_count": 1
         }
        },
        {
         "dtype": "object",
         "name": "prim_disease_hct",
         "stats": {
          "categories": [
           {
            "count": 1,
            "name": "IEA"
           },
           {
            "count": 1,
            "name": "AML"
           },
           {
            "count": 3,
            "name": "3 others"
           }
          ],
          "nan_count": 0,
          "unique_count": 5
         }
        },
        {
         "dtype": "float64",
         "name": "hla_high_res_6",
         "stats": {
          "histogram": [
           {
            "bin_end": 5.6,
            "bin_start": 5.5,
            "count": 0
           },
           {
            "bin_end": 5.7,
            "bin_start": 5.6,
            "count": 0
           },
           {
            "bin_end": 5.8,
            "bin_start": 5.7,
            "count": 0
           },
           {
            "bin_end": 5.9,
            "bin_start": 5.8,
            "count": 0
           },
           {
            "bin_end": 6,
            "bin_start": 5.9,
            "count": 0
           },
           {
            "bin_end": 6.1,
            "bin_start": 6,
            "count": 5
           },
           {
            "bin_end": 6.2,
            "bin_start": 6.1,
            "count": 0
           },
           {
            "bin_end": 6.3,
            "bin_start": 6.2,
            "count": 0
           },
           {
            "bin_end": 6.4,
            "bin_start": 6.3,
            "count": 0
           },
           {
            "bin_end": 6.5,
            "bin_start": 6.4,
            "count": 0
           }
          ],
          "max": "6.0",
          "min": "6.0",
          "nan_count": 0,
          "unique_count": 1
         }
        },
        {
         "dtype": "object",
         "name": "cmv_status",
         "stats": {
          "categories": [
           {
            "count": 5,
            "name": "+/+"
           }
          ],
          "nan_count": 0,
          "unique_count": 1
         }
        },
        {
         "dtype": "float64",
         "name": "hla_high_res_10",
         "stats": {
          "histogram": [
           {
            "bin_end": 9.6,
            "bin_start": 9.5,
            "count": 0
           },
           {
            "bin_end": 9.7,
            "bin_start": 9.6,
            "count": 0
           },
           {
            "bin_end": 9.8,
            "bin_start": 9.7,
            "count": 0
           },
           {
            "bin_end": 9.9,
            "bin_start": 9.8,
            "count": 0
           },
           {
            "bin_end": 10,
            "bin_start": 9.9,
            "count": 0
           },
           {
            "bin_end": 10.1,
            "bin_start": 10,
            "count": 4
           },
           {
            "bin_end": 10.2,
            "bin_start": 10.1,
            "count": 0
           },
           {
            "bin_end": 10.3,
            "bin_start": 10.2,
            "count": 0
           },
           {
            "bin_end": 10.4,
            "bin_start": 10.3,
            "count": 0
           },
           {
            "bin_end": 10.5,
            "bin_start": 10.4,
            "count": 0
           }
          ],
          "max": "10.0",
          "min": "10.0",
          "nan_count": 1,
          "unique_count": 1
         }
        },
        {
         "dtype": "float64",
         "name": "hla_match_dqb1_high",
         "stats": {
          "histogram": [
           {
            "bin_end": 1.6,
            "bin_start": 1.5,
            "count": 0
           },
           {
            "bin_end": 1.7,
            "bin_start": 1.6,
            "count": 0
           },
           {
            "bin_end": 1.8,
            "bin_start": 1.7,
            "count": 0
           },
           {
            "bin_end": 1.9,
            "bin_start": 1.8,
            "count": 0
           },
           {
            "bin_end": 2,
            "bin_start": 1.9,
            "count": 0
           },
           {
            "bin_end": 2.1,
            "bin_start": 2,
            "count": 5
           },
           {
            "bin_end": 2.2,
            "bin_start": 2.1,
            "count": 0
           },
           {
            "bin_end": 2.3,
            "bin_start": 2.2,
            "count": 0
           },
           {
            "bin_end": 2.4,
            "bin_start": 2.3,
            "count": 0
           },
           {
            "bin_end": 2.5,
            "bin_start": 2.4,
            "count": 0
           }
          ],
          "max": "2.0",
          "min": "2.0",
          "nan_count": 0,
          "unique_count": 1
         }
        },
        {
         "dtype": "object",
         "name": "tce_imm_match",
         "stats": {
          "categories": [
           {
            "count": 3,
            "name": "P/P"
           },
           {
            "count": 2,
            "name": "Missing"
           }
          ],
          "nan_count": 2,
          "unique_count": 1
         }
        },
        {
         "dtype": "float64",
         "name": "hla_nmdp_6",
         "stats": {
          "histogram": [
           {
            "bin_end": 5.1,
            "bin_start": 5,
            "count": 1
           },
           {
            "bin_end": 5.2,
            "bin_start": 5.1,
            "count": 0
           },
           {
            "bin_end": 5.3,
            "bin_start": 5.2,
            "count": 0
           },
           {
            "bin_end": 5.4,
            "bin_start": 5.3,
            "count": 0
           },
           {
            "bin_end": 5.5,
            "bin_start": 5.4,
            "count": 0
           },
           {
            "bin_end": 5.6,
            "bin_start": 5.5,
            "count": 0
           },
           {
            "bin_end": 5.7,
            "bin_start": 5.6,
            "count": 0
           },
           {
            "bin_end": 5.8,
            "bin_start": 5.7,
            "count": 0
           },
           {
            "bin_end": 5.9,
            "bin_start": 5.8,
            "count": 0
           },
           {
            "bin_end": 6,
            "bin_start": 5.9,
            "count": 4
           }
          ],
          "max": "6.0",
          "min": "5.0",
          "nan_count": 0,
          "unique_count": 2
         }
        },
        {
         "dtype": "float64",
         "name": "hla_match_c_low",
         "stats": {
          "histogram": [
           {
            "bin_end": 1.6,
            "bin_start": 1.5,
            "count": 0
           },
           {
            "bin_end": 1.7,
            "bin_start": 1.6,
            "count": 0
           },
           {
            "bin_end": 1.8,
            "bin_start": 1.7,
            "count": 0
           },
           {
            "bin_end": 1.9,
            "bin_start": 1.8,
            "count": 0
           },
           {
            "bin_end": 2,
            "bin_start": 1.9,
            "count": 0
           },
           {
            "bin_end": 2.1,
            "bin_start": 2,
            "count": 5
           },
           {
            "bin_end": 2.2,
            "bin_start": 2.1,
            "count": 0
           },
           {
            "bin_end": 2.3,
            "bin_start": 2.2,
            "count": 0
           },
           {
            "bin_end": 2.4,
            "bin_start": 2.3,
            "count": 0
           },
           {
            "bin_end": 2.5,
            "bin_start": 2.4,
            "count": 0
           }
          ],
          "max": "2.0",
          "min": "2.0",
          "nan_count": 0,
          "unique_count": 1
         }
        },
        {
         "dtype": "object",
         "name": "rituximab",
         "stats": {
          "categories": [
           {
            "count": 5,
            "name": "No"
           }
          ],
          "nan_count": 0,
          "unique_count": 1
         }
        },
        {
         "dtype": "float64",
         "name": "hla_match_drb1_low",
         "stats": {
          "histogram": [
           {
            "bin_end": 1.6,
            "bin_start": 1.5,
            "count": 0
           },
           {
            "bin_end": 1.7,
            "bin_start": 1.6,
            "count": 0
           },
           {
            "bin_end": 1.8,
            "bin_start": 1.7,
            "count": 0
           },
           {
            "bin_end": 1.9,
            "bin_start": 1.8,
            "count": 0
           },
           {
            "bin_end": 2,
            "bin_start": 1.9,
            "count": 0
           },
           {
            "bin_end": 2.1,
            "bin_start": 2,
            "count": 5
           },
           {
            "bin_end": 2.2,
            "bin_start": 2.1,
            "count": 0
           },
           {
            "bin_end": 2.3,
            "bin_start": 2.2,
            "count": 0
           },
           {
            "bin_end": 2.4,
            "bin_start": 2.3,
            "count": 0
           },
           {
            "bin_end": 2.5,
            "bin_start": 2.4,
            "count": 0
           }
          ],
          "max": "2.0",
          "min": "2.0",
          "nan_count": 0,
          "unique_count": 1
         }
        },
        {
         "dtype": "float64",
         "name": "hla_match_dqb1_low",
         "stats": {
          "histogram": [
           {
            "bin_end": 1.6,
            "bin_start": 1.5,
            "count": 0
           },
           {
            "bin_end": 1.7,
            "bin_start": 1.6,
            "count": 0
           },
           {
            "bin_end": 1.8,
            "bin_start": 1.7,
            "count": 0
           },
           {
            "bin_end": 1.9,
            "bin_start": 1.8,
            "count": 0
           },
           {
            "bin_end": 2,
            "bin_start": 1.9,
            "count": 0
           },
           {
            "bin_end": 2.1,
            "bin_start": 2,
            "count": 5
           },
           {
            "bin_end": 2.2,
            "bin_start": 2.1,
            "count": 0
           },
           {
            "bin_end": 2.3,
            "bin_start": 2.2,
            "count": 0
           },
           {
            "bin_end": 2.4,
            "bin_start": 2.3,
            "count": 0
           },
           {
            "bin_end": 2.5,
            "bin_start": 2.4,
            "count": 0
           }
          ],
          "max": "2.0",
          "min": "2.0",
          "nan_count": 0,
          "unique_count": 1
         }
        },
        {
         "dtype": "object",
         "name": "prod_type",
         "stats": {
          "categories": [
           {
            "count": 3,
            "name": "BM"
           },
           {
            "count": 2,
            "name": "PB"
           }
          ],
          "nan_count": 0,
          "unique_count": 2
         }
        },
        {
         "dtype": "object",
         "name": "cyto_score_detail",
         "stats": {
          "categories": [
           {
            "count": 2,
            "name": "Intermediate"
           },
           {
            "count": 3,
            "name": "Missing"
           }
          ],
          "nan_count": 3,
          "unique_count": 1
         }
        },
        {
         "dtype": "object",
         "name": "conditioning_intensity",
         "stats": {
          "categories": [
           {
            "count": 3,
            "name": "MAC"
           },
           {
            "count": 2,
            "name": "Missing"
           }
          ],
          "nan_count": 2,
          "unique_count": 1
         }
        },
        {
         "dtype": "object",
         "name": "ethnicity",
         "stats": {
          "categories": [
           {
            "count": 4,
            "name": "Not Hispanic or Latino"
           },
           {
            "count": 1,
            "name": "Hispanic or Latino"
           }
          ],
          "nan_count": 0,
          "unique_count": 2
         }
        },
        {
         "dtype": "int64",
         "name": "year_hct",
         "stats": {
          "histogram": [
           {
            "bin_end": 2009.1,
            "bin_start": 2008,
            "count": 2
           },
           {
            "bin_end": 2010.2,
            "bin_start": 2009.1,
            "count": 0
           },
           {
            "bin_end": 2011.3,
            "bin_start": 2010.2,
            "count": 0
           },
           {
            "bin_end": 2012.4,
            "bin_start": 2011.3,
            "count": 0
           },
           {
            "bin_end": 2013.5,
            "bin_start": 2012.4,
            "count": 0
           },
           {
            "bin_end": 2014.6,
            "bin_start": 2013.5,
            "count": 0
           },
           {
            "bin_end": 2015.7,
            "bin_start": 2014.6,
            "count": 0
           },
           {
            "bin_end": 2016.8,
            "bin_start": 2015.7,
            "count": 1
           },
           {
            "bin_end": 2017.9,
            "bin_start": 2016.8,
            "count": 0
           },
           {
            "bin_end": 2019,
            "bin_start": 2017.9,
            "count": 2
           }
          ],
          "max": "2019",
          "min": "2008",
          "nan_count": 0,
          "unique_count": 5
         }
        },
        {
         "dtype": "object",
         "name": "obesity",
         "stats": {
          "categories": [
           {
            "count": 5,
            "name": "No"
           }
          ],
          "nan_count": 0,
          "unique_count": 1
         }
        },
        {
         "dtype": "object",
         "name": "mrd_hct",
         "stats": {
          "categories": [
           {
            "count": 2,
            "name": "Positive"
           },
           {
            "count": 3,
            "name": "Missing"
           }
          ],
          "nan_count": 3,
          "unique_count": 1
         }
        },
        {
         "dtype": "object",
         "name": "in_vivo_tcd",
         "stats": {
          "categories": [
           {
            "count": 3,
            "name": "Yes"
           },
           {
            "count": 2,
            "name": "No"
           }
          ],
          "nan_count": 0,
          "unique_count": 2
         }
        },
        {
         "dtype": "object",
         "name": "tce_match",
         "stats": {
          "categories": [
           {
            "count": 2,
            "name": "Permissive"
           },
           {
            "count": 3,
            "name": "Missing"
           }
          ],
          "nan_count": 3,
          "unique_count": 1
         }
        },
        {
         "dtype": "float64",
         "name": "hla_match_a_high",
         "stats": {
          "histogram": [
           {
            "bin_end": 1.6,
            "bin_start": 1.5,
            "count": 0
           },
           {
            "bin_end": 1.7,
            "bin_start": 1.6,
            "count": 0
           },
           {
            "bin_end": 1.8,
            "bin_start": 1.7,
            "count": 0
           },
           {
            "bin_end": 1.9,
            "bin_start": 1.8,
            "count": 0
           },
           {
            "bin_end": 2,
            "bin_start": 1.9,
            "count": 0
           },
           {
            "bin_end": 2.1,
            "bin_start": 2,
            "count": 5
           },
           {
            "bin_end": 2.2,
            "bin_start": 2.1,
            "count": 0
           },
           {
            "bin_end": 2.3,
            "bin_start": 2.2,
            "count": 0
           },
           {
            "bin_end": 2.4,
            "bin_start": 2.3,
            "count": 0
           },
           {
            "bin_end": 2.5,
            "bin_start": 2.4,
            "count": 0
           }
          ],
          "max": "2.0",
          "min": "2.0",
          "nan_count": 0,
          "unique_count": 1
         }
        },
        {
         "dtype": "object",
         "name": "hepatic_severe",
         "stats": {
          "categories": [
           {
            "count": 5,
            "name": "No"
           }
          ],
          "nan_count": 0,
          "unique_count": 1
         }
        },
        {
         "dtype": "float64",
         "name": "donor_age",
         "stats": {
          "histogram": [
           {
            "bin_end": 33.536,
            "bin_start": 29.23,
            "count": 1
           },
           {
            "bin_end": 37.842,
            "bin_start": 33.536,
            "count": 0
           },
           {
            "bin_end": 42.147999999999996,
            "bin_start": 37.842,
            "count": 0
           },
           {
            "bin_end": 46.454,
            "bin_start": 42.147999999999996,
            "count": 0
           },
           {
            "bin_end": 50.760000000000005,
            "bin_start": 46.454,
            "count": 0
           },
           {
            "bin_end": 55.066,
            "bin_start": 50.760000000000005,
            "count": 0
           },
           {
            "bin_end": 59.372,
            "bin_start": 55.066,
            "count": 1
           },
           {
            "bin_end": 63.678,
            "bin_start": 59.372,
            "count": 0
           },
           {
            "bin_end": 67.984,
            "bin_start": 63.678,
            "count": 0
           },
           {
            "bin_end": 72.29,
            "bin_start": 67.984,
            "count": 1
           }
          ],
          "max": "72.29",
          "min": "29.23",
          "nan_count": 2,
          "unique_count": 3
         }
        },
        {
         "dtype": "object",
         "name": "prior_tumor",
         "stats": {
          "categories": [
           {
            "count": 5,
            "name": "No"
           }
          ],
          "nan_count": 0,
          "unique_count": 1
         }
        },
        {
         "dtype": "float64",
         "name": "hla_match_b_low",
         "stats": {
          "histogram": [
           {
            "bin_end": 1.6,
            "bin_start": 1.5,
            "count": 0
           },
           {
            "bin_end": 1.7,
            "bin_start": 1.6,
            "count": 0
           },
           {
            "bin_end": 1.8,
            "bin_start": 1.7,
            "count": 0
           },
           {
            "bin_end": 1.9,
            "bin_start": 1.8,
            "count": 0
           },
           {
            "bin_end": 2,
            "bin_start": 1.9,
            "count": 0
           },
           {
            "bin_end": 2.1,
            "bin_start": 2,
            "count": 5
           },
           {
            "bin_end": 2.2,
            "bin_start": 2.1,
            "count": 0
           },
           {
            "bin_end": 2.3,
            "bin_start": 2.2,
            "count": 0
           },
           {
            "bin_end": 2.4,
            "bin_start": 2.3,
            "count": 0
           },
           {
            "bin_end": 2.5,
            "bin_start": 2.4,
            "count": 0
           }
          ],
          "max": "2.0",
          "min": "2.0",
          "nan_count": 0,
          "unique_count": 1
         }
        },
        {
         "dtype": "object",
         "name": "peptic_ulcer",
         "stats": {
          "categories": [
           {
            "count": 5,
            "name": "No"
           }
          ],
          "nan_count": 0,
          "unique_count": 1
         }
        },
        {
         "dtype": "float64",
         "name": "age_at_hct",
         "stats": {
          "histogram": [
           {
            "bin_end": 13.3183,
            "bin_start": 9.942,
            "count": 1
           },
           {
            "bin_end": 16.6946,
            "bin_start": 13.3183,
            "count": 0
           },
           {
            "bin_end": 20.070899999999998,
            "bin_start": 16.6946,
            "count": 0
           },
           {
            "bin_end": 23.4472,
            "bin_start": 20.070899999999998,
            "count": 0
           },
           {
            "bin_end": 26.8235,
            "bin_start": 23.4472,
            "count": 0
           },
           {
            "bin_end": 30.199799999999996,
            "bin_start": 26.8235,
            "count": 1
           },
           {
            "bin_end": 33.5761,
            "bin_start": 30.199799999999996,
            "count": 0
           },
           {
            "bin_end": 36.9524,
            "bin_start": 33.5761,
            "count": 1
           },
           {
            "bin_end": 40.3287,
            "bin_start": 36.9524,
            "count": 0
           },
           {
            "bin_end": 43.705,
            "bin_start": 40.3287,
            "count": 2
           }
          ],
          "max": "43.705",
          "min": "9.942",
          "nan_count": 0,
          "unique_count": 5
         }
        },
        {
         "dtype": "float64",
         "name": "hla_match_a_low",
         "stats": {
          "histogram": [
           {
            "bin_end": 1.6,
            "bin_start": 1.5,
            "count": 0
           },
           {
            "bin_end": 1.7,
            "bin_start": 1.6,
            "count": 0
           },
           {
            "bin_end": 1.8,
            "bin_start": 1.7,
            "count": 0
           },
           {
            "bin_end": 1.9,
            "bin_start": 1.8,
            "count": 0
           },
           {
            "bin_end": 2,
            "bin_start": 1.9,
            "count": 0
           },
           {
            "bin_end": 2.1,
            "bin_start": 2,
            "count": 5
           },
           {
            "bin_end": 2.2,
            "bin_start": 2.1,
            "count": 0
           },
           {
            "bin_end": 2.3,
            "bin_start": 2.2,
            "count": 0
           },
           {
            "bin_end": 2.4,
            "bin_start": 2.3,
            "count": 0
           },
           {
            "bin_end": 2.5,
            "bin_start": 2.4,
            "count": 0
           }
          ],
          "max": "2.0",
          "min": "2.0",
          "nan_count": 0,
          "unique_count": 1
         }
        },
        {
         "dtype": "object",
         "name": "gvhd_proph",
         "stats": {
          "categories": [
           {
            "count": 1,
            "name": "FKalone"
           },
           {
            "count": 1,
            "name": "Other GVHD Prophylaxis"
           },
           {
            "count": 3,
            "name": "3 others"
           }
          ],
          "nan_count": 0,
          "unique_count": 5
         }
        },
        {
         "dtype": "object",
         "name": "rheum_issue",
         "stats": {
          "categories": [
           {
            "count": 5,
            "name": "No"
           }
          ],
          "nan_count": 0,
          "unique_count": 1
         }
        },
        {
         "dtype": "object",
         "name": "sex_match",
         "stats": {
          "categories": [
           {
            "count": 2,
            "name": "M-F"
           },
           {
            "count": 1,
            "name": "F-F"
           },
           {
            "count": 2,
            "name": "2 others"
           }
          ],
          "nan_count": 0,
          "unique_count": 4
         }
        },
        {
         "dtype": "float64",
         "name": "hla_match_b_high",
         "stats": {
          "histogram": [
           {
            "bin_end": 1.6,
            "bin_start": 1.5,
            "count": 0
           },
           {
            "bin_end": 1.7,
            "bin_start": 1.6,
            "count": 0
           },
           {
            "bin_end": 1.8,
            "bin_start": 1.7,
            "count": 0
           },
           {
            "bin_end": 1.9,
            "bin_start": 1.8,
            "count": 0
           },
           {
            "bin_end": 2,
            "bin_start": 1.9,
            "count": 0
           },
           {
            "bin_end": 2.1,
            "bin_start": 2,
            "count": 5
           },
           {
            "bin_end": 2.2,
            "bin_start": 2.1,
            "count": 0
           },
           {
            "bin_end": 2.3,
            "bin_start": 2.2,
            "count": 0
           },
           {
            "bin_end": 2.4,
            "bin_start": 2.3,
            "count": 0
           },
           {
            "bin_end": 2.5,
            "bin_start": 2.4,
            "count": 0
           }
          ],
          "max": "2.0",
          "min": "2.0",
          "nan_count": 0,
          "unique_count": 1
         }
        },
        {
         "dtype": "object",
         "name": "race_group",
         "stats": {
          "categories": [
           {
            "count": 2,
            "name": "More than one race"
           },
           {
            "count": 1,
            "name": "Asian"
           },
           {
            "count": 2,
            "name": "2 others"
           }
          ],
          "nan_count": 0,
          "unique_count": 4
         }
        },
        {
         "dtype": "float64",
         "name": "comorbidity_score",
         "stats": {
          "histogram": [
           {
            "bin_end": 0.3,
            "bin_start": 0,
            "count": 3
           },
           {
            "bin_end": 0.6,
            "bin_start": 0.3,
            "count": 0
           },
           {
            "bin_end": 0.8999999999999999,
            "bin_start": 0.6,
            "count": 0
           },
           {
            "bin_end": 1.2,
            "bin_start": 0.8999999999999999,
            "count": 1
           },
           {
            "bin_end": 1.5,
            "bin_start": 1.2,
            "count": 0
           },
           {
            "bin_end": 1.7999999999999998,
            "bin_start": 1.5,
            "count": 0
           },
           {
            "bin_end": 2.1,
            "bin_start": 1.7999999999999998,
            "count": 0
           },
           {
            "bin_end": 2.4,
            "bin_start": 2.1,
            "count": 0
           },
           {
            "bin_end": 2.6999999999999997,
            "bin_start": 2.4,
            "count": 0
           },
           {
            "bin_end": 3,
            "bin_start": 2.6999999999999997,
            "count": 1
           }
          ],
          "max": "3.0",
          "min": "0.0",
          "nan_count": 0,
          "unique_count": 3
         }
        },
        {
         "dtype": "float64",
         "name": "karnofsky_score",
         "stats": {
          "histogram": [
           {
            "bin_end": 89.6,
            "bin_start": 89.5,
            "count": 0
           },
           {
            "bin_end": 89.7,
            "bin_start": 89.6,
            "count": 0
           },
           {
            "bin_end": 89.8,
            "bin_start": 89.7,
            "count": 0
           },
           {
            "bin_end": 89.9,
            "bin_start": 89.8,
            "count": 0
           },
           {
            "bin_end": 90,
            "bin_start": 89.9,
            "count": 0
           },
           {
            "bin_end": 90.1,
            "bin_start": 90,
            "count": 5
           },
           {
            "bin_end": 90.2,
            "bin_start": 90.1,
            "count": 0
           },
           {
            "bin_end": 90.3,
            "bin_start": 90.2,
            "count": 0
           },
           {
            "bin_end": 90.4,
            "bin_start": 90.3,
            "count": 0
           },
           {
            "bin_end": 90.5,
            "bin_start": 90.4,
            "count": 0
           }
          ],
          "max": "90.0",
          "min": "90.0",
          "nan_count": 0,
          "unique_count": 1
         }
        },
        {
         "dtype": "object",
         "name": "hepatic_mild",
         "stats": {
          "categories": [
           {
            "count": 4,
            "name": "No"
           },
           {
            "count": 1,
            "name": "Yes"
           }
          ],
          "nan_count": 0,
          "unique_count": 2
         }
        },
        {
         "dtype": "object",
         "name": "tce_div_match",
         "stats": {
          "categories": [
           {
            "count": 4,
            "name": "Permissive mismatched"
           },
           {
            "count": 1,
            "name": "Missing"
           }
          ],
          "nan_count": 1,
          "unique_count": 1
         }
        },
        {
         "dtype": "object",
         "name": "donor_related",
         "stats": {
          "categories": [
           {
            "count": 3,
            "name": "Related"
           },
           {
            "count": 2,
            "name": "Unrelated"
           }
          ],
          "nan_count": 0,
          "unique_count": 2
         }
        },
        {
         "dtype": "object",
         "name": "melphalan_dose",
         "stats": {
          "categories": [
           {
            "count": 4,
            "name": "N/A, Mel not given"
           },
           {
            "count": 1,
            "name": "MEL"
           }
          ],
          "nan_count": 0,
          "unique_count": 2
         }
        },
        {
         "dtype": "float64",
         "name": "hla_low_res_8",
         "stats": {
          "histogram": [
           {
            "bin_end": 7.6,
            "bin_start": 7.5,
            "count": 0
           },
           {
            "bin_end": 7.7,
            "bin_start": 7.6,
            "count": 0
           },
           {
            "bin_end": 7.8,
            "bin_start": 7.7,
            "count": 0
           },
           {
            "bin_end": 7.9,
            "bin_start": 7.8,
            "count": 0
           },
           {
            "bin_end": 8,
            "bin_start": 7.9,
            "count": 0
           },
           {
            "bin_end": 8.1,
            "bin_start": 8,
            "count": 5
           },
           {
            "bin_end": 8.2,
            "bin_start": 8.1,
            "count": 0
           },
           {
            "bin_end": 8.3,
            "bin_start": 8.2,
            "count": 0
           },
           {
            "bin_end": 8.4,
            "bin_start": 8.3,
            "count": 0
           },
           {
            "bin_end": 8.5,
            "bin_start": 8.4,
            "count": 0
           }
          ],
          "max": "8.0",
          "min": "8.0",
          "nan_count": 0,
          "unique_count": 1
         }
        },
        {
         "dtype": "object",
         "name": "cardiac",
         "stats": {
          "categories": [
           {
            "count": 5,
            "name": "No"
           }
          ],
          "nan_count": 0,
          "unique_count": 1
         }
        },
        {
         "dtype": "float64",
         "name": "hla_match_drb1_high",
         "stats": {
          "histogram": [
           {
            "bin_end": 1.6,
            "bin_start": 1.5,
            "count": 0
           },
           {
            "bin_end": 1.7,
            "bin_start": 1.6,
            "count": 0
           },
           {
            "bin_end": 1.8,
            "bin_start": 1.7,
            "count": 0
           },
           {
            "bin_end": 1.9,
            "bin_start": 1.8,
            "count": 0
           },
           {
            "bin_end": 2,
            "bin_start": 1.9,
            "count": 0
           },
           {
            "bin_end": 2.1,
            "bin_start": 2,
            "count": 5
           },
           {
            "bin_end": 2.2,
            "bin_start": 2.1,
            "count": 0
           },
           {
            "bin_end": 2.3,
            "bin_start": 2.2,
            "count": 0
           },
           {
            "bin_end": 2.4,
            "bin_start": 2.3,
            "count": 0
           },
           {
            "bin_end": 2.5,
            "bin_start": 2.4,
            "count": 0
           }
          ],
          "max": "2.0",
          "min": "2.0",
          "nan_count": 0,
          "unique_count": 1
         }
        },
        {
         "dtype": "object",
         "name": "pulm_moderate",
         "stats": {
          "categories": [
           {
            "count": 4,
            "name": "No"
           },
           {
            "count": 1,
            "name": "Yes"
           }
          ],
          "nan_count": 0,
          "unique_count": 2
         }
        },
        {
         "dtype": "float64",
         "name": "hla_low_res_10",
         "stats": {
          "histogram": [
           {
            "bin_end": 9.6,
            "bin_start": 9.5,
            "count": 0
           },
           {
            "bin_end": 9.7,
            "bin_start": 9.6,
            "count": 0
           },
           {
            "bin_end": 9.8,
            "bin_start": 9.7,
            "count": 0
           },
           {
            "bin_end": 9.9,
            "bin_start": 9.8,
            "count": 0
           },
           {
            "bin_end": 10,
            "bin_start": 9.9,
            "count": 0
           },
           {
            "bin_end": 10.1,
            "bin_start": 10,
            "count": 5
           },
           {
            "bin_end": 10.2,
            "bin_start": 10.1,
            "count": 0
           },
           {
            "bin_end": 10.3,
            "bin_start": 10.2,
            "count": 0
           },
           {
            "bin_end": 10.4,
            "bin_start": 10.3,
            "count": 0
           },
           {
            "bin_end": 10.5,
            "bin_start": 10.4,
            "count": 0
           }
          ],
          "max": "10.0",
          "min": "10.0",
          "nan_count": 0,
          "unique_count": 1
         }
        },
        {
         "dtype": "float64",
         "name": "efs",
         "stats": {
          "histogram": [
           {
            "bin_end": 0.1,
            "bin_start": 0,
            "count": 4
           },
           {
            "bin_end": 0.2,
            "bin_start": 0.1,
            "count": 0
           },
           {
            "bin_end": 0.30000000000000004,
            "bin_start": 0.2,
            "count": 0
           },
           {
            "bin_end": 0.4,
            "bin_start": 0.30000000000000004,
            "count": 0
           },
           {
            "bin_end": 0.5,
            "bin_start": 0.4,
            "count": 0
           },
           {
            "bin_end": 0.6000000000000001,
            "bin_start": 0.5,
            "count": 0
           },
           {
            "bin_end": 0.7000000000000001,
            "bin_start": 0.6000000000000001,
            "count": 0
           },
           {
            "bin_end": 0.8,
            "bin_start": 0.7000000000000001,
            "count": 0
           },
           {
            "bin_end": 0.9,
            "bin_start": 0.8,
            "count": 0
           },
           {
            "bin_end": 1,
            "bin_start": 0.9,
            "count": 1
           }
          ],
          "max": "1.0",
          "min": "0.0",
          "nan_count": 0,
          "unique_count": 2
         }
        },
        {
         "dtype": "float64",
         "name": "efs_time",
         "stats": {
          "histogram": [
           {
            "bin_end": 14.439700000000002,
            "bin_start": 4.672,
            "count": 1
           },
           {
            "bin_end": 24.207400000000003,
            "bin_start": 14.439700000000002,
            "count": 2
           },
           {
            "bin_end": 33.975100000000005,
            "bin_start": 24.207400000000003,
            "count": 0
           },
           {
            "bin_end": 43.7428,
            "bin_start": 33.975100000000005,
            "count": 1
           },
           {
            "bin_end": 53.51050000000001,
            "bin_start": 43.7428,
            "count": 0
           },
           {
            "bin_end": 63.278200000000005,
            "bin_start": 53.51050000000001,
            "count": 0
           },
           {
            "bin_end": 73.0459,
            "bin_start": 63.278200000000005,
            "count": 0
           },
           {
            "bin_end": 82.81360000000001,
            "bin_start": 73.0459,
            "count": 0
           },
           {
            "bin_end": 92.58130000000001,
            "bin_start": 82.81360000000001,
            "count": 0
           },
           {
            "bin_end": 102.349,
            "bin_start": 92.58130000000001,
            "count": 1
           }
          ],
          "max": "102.349",
          "min": "4.672",
          "nan_count": 0,
          "unique_count": 5
         }
        },
        {
         "dtype": "int64",
         "name": "_deepnote_index_column"
        }
       ],
       "row_count": 5,
       "rows": [
        {
         "ID": 0,
         "_deepnote_index_column": 0,
         "age_at_hct": 9.942,
         "arrhythmia": "No",
         "cardiac": "No",
         "cmv_status": "+/+",
         "comorbidity_score": 0,
         "conditioning_intensity": "nan",
         "cyto_score": "nan",
         "cyto_score_detail": "nan",
         "diabetes": "No",
         "donor_age": "nan",
         "donor_related": "Unrelated",
         "dri_score": "N/A - non-malignant indication",
         "efs": 0,
         "efs_time": 42.356,
         "ethnicity": "Not Hispanic or Latino",
         "graft_type": "Bone marrow",
         "gvhd_proph": "FKalone",
         "hepatic_mild": "No",
         "hepatic_severe": "No",
         "hla_high_res_10": "nan",
         "hla_high_res_6": 6,
         "hla_high_res_8": "nan",
         "hla_low_res_10": 10,
         "hla_low_res_6": 6,
         "hla_low_res_8": 8,
         "hla_match_a_high": 2,
         "hla_match_a_low": 2,
         "hla_match_b_high": 2,
         "hla_match_b_low": 2,
         "hla_match_c_high": "nan",
         "hla_match_c_low": 2,
         "hla_match_dqb1_high": 2,
         "hla_match_dqb1_low": 2,
         "hla_match_drb1_high": 2,
         "hla_match_drb1_low": 2,
         "hla_nmdp_6": 6,
         "in_vivo_tcd": "Yes",
         "karnofsky_score": 90,
         "melphalan_dose": "N/A, Mel not given",
         "mrd_hct": "nan",
         "obesity": "No",
         "peptic_ulcer": "No",
         "prim_disease_hct": "IEA",
         "prior_tumor": "No",
         "prod_type": "BM",
         "psych_disturb": "No",
         "pulm_moderate": "No",
         "pulm_severe": "No",
         "race_group": "More than one race",
         "renal_issue": "No",
         "rheum_issue": "No",
         "rituximab": "No",
         "sex_match": "M-F",
         "tbi_status": "No TBI",
         "tce_div_match": "nan",
         "tce_imm_match": "nan",
         "tce_match": "nan",
         "vent_hist": "No",
         "year_hct": 2016
        },
        {
         "ID": 1,
         "_deepnote_index_column": 1,
         "age_at_hct": 43.705,
         "arrhythmia": "No",
         "cardiac": "No",
         "cmv_status": "+/+",
         "comorbidity_score": 3,
         "conditioning_intensity": "MAC",
         "cyto_score": "Intermediate",
         "cyto_score_detail": "Intermediate",
         "diabetes": "No",
         "donor_age": 72.29,
         "donor_related": "Related",
         "dri_score": "Intermediate",
         "efs": 1,
         "efs_time": 4.672,
         "ethnicity": "Not Hispanic or Latino",
         "graft_type": "Peripheral blood",
         "gvhd_proph": "Other GVHD Prophylaxis",
         "hepatic_mild": "No",
         "hepatic_severe": "No",
         "hla_high_res_10": 10,
         "hla_high_res_6": 6,
         "hla_high_res_8": 8,
         "hla_low_res_10": 10,
         "hla_low_res_6": 6,
         "hla_low_res_8": 8,
         "hla_match_a_high": 2,
         "hla_match_a_low": 2,
         "hla_match_b_high": 2,
         "hla_match_b_low": 2,
         "hla_match_c_high": 2,
         "hla_match_c_low": 2,
         "hla_match_dqb1_high": 2,
         "hla_match_dqb1_low": 2,
         "hla_match_drb1_high": 2,
         "hla_match_drb1_low": 2,
         "hla_nmdp_6": 6,
         "in_vivo_tcd": "No",
         "karnofsky_score": 90,
         "melphalan_dose": "N/A, Mel not given",
         "mrd_hct": "Positive",
         "obesity": "No",
         "peptic_ulcer": "No",
         "prim_disease_hct": "AML",
         "prior_tumor": "No",
         "prod_type": "PB",
         "psych_disturb": "No",
         "pulm_moderate": "Yes",
         "pulm_severe": "No",
         "race_group": "Asian",
         "renal_issue": "No",
         "rheum_issue": "No",
         "rituximab": "No",
         "sex_match": "F-F",
         "tbi_status": "TBI +- Other, >cGy",
         "tce_div_match": "Permissive mismatched",
         "tce_imm_match": "P/P",
         "tce_match": "Permissive",
         "vent_hist": "No",
         "year_hct": 2008
        },
        {
         "ID": 2,
         "_deepnote_index_column": 2,
         "age_at_hct": 33.997,
         "arrhythmia": "No",
         "cardiac": "No",
         "cmv_status": "+/+",
         "comorbidity_score": 0,
         "conditioning_intensity": "nan",
         "cyto_score": "nan",
         "cyto_score_detail": "nan",
         "diabetes": "No",
         "donor_age": "nan",
         "donor_related": "Related",
         "dri_score": "N/A - non-malignant indication",
         "efs": 0,
         "efs_time": 19.793,
         "ethnicity": "Not Hispanic or Latino",
         "graft_type": "Bone marrow",
         "gvhd_proph": "Cyclophosphamide alone",
         "hepatic_mild": "No",
         "hepatic_severe": "No",
         "hla_high_res_10": 10,
         "hla_high_res_6": 6,
         "hla_high_res_8": 8,
         "hla_low_res_10": 10,
         "hla_low_res_6": 6,
         "hla_low_res_8": 8,
         "hla_match_a_high": 2,
         "hla_match_a_low": 2,
         "hla_match_b_high": 2,
         "hla_match_b_low": 2,
         "hla_match_c_high": 2,
         "hla_match_c_low": 2,
         "hla_match_dqb1_high": 2,
         "hla_match_dqb1_low": 2,
         "hla_match_drb1_high": 2,
         "hla_match_drb1_low": 2,
         "hla_nmdp_6": 6,
         "in_vivo_tcd": "Yes",
         "karnofsky_score": 90,
         "melphalan_dose": "N/A, Mel not given",
         "mrd_hct": "nan",
         "obesity": "No",
         "peptic_ulcer": "No",
         "prim_disease_hct": "HIS",
         "prior_tumor": "No",
         "prod_type": "BM",
         "psych_disturb": "No",
         "pulm_moderate": "No",
         "pulm_severe": "No",
         "race_group": "More than one race",
         "renal_issue": "No",
         "rheum_issue": "No",
         "rituximab": "No",
         "sex_match": "F-M",
         "tbi_status": "No TBI",
         "tce_div_match": "Permissive mismatched",
         "tce_imm_match": "P/P",
         "tce_match": "nan",
         "vent_hist": "No",
         "year_hct": 2019
        },
        {
         "ID": 3,
         "_deepnote_index_column": 3,
         "age_at_hct": 43.245,
         "arrhythmia": "No",
         "cardiac": "No",
         "cmv_status": "+/+",
         "comorbidity_score": 0,
         "conditioning_intensity": "MAC",
         "cyto_score": "Intermediate",
         "cyto_score_detail": "Intermediate",
         "diabetes": "No",
         "donor_age": 29.23,
         "donor_related": "Unrelated",
         "dri_score": "High",
         "efs": 0,
         "efs_time": 102.349,
         "ethnicity": "Not Hispanic or Latino",
         "graft_type": "Bone marrow",
         "gvhd_proph": "FK+ MMF +- others",
         "hepatic_mild": "Yes",
         "hepatic_severe": "No",
         "hla_high_res_10": 10,
         "hla_high_res_6": 6,
         "hla_high_res_8": 8,
         "hla_low_res_10": 10,
         "hla_low_res_6": 6,
         "hla_low_res_8": 8,
         "hla_match_a_high": 2,
         "hla_match_a_low": 2,
         "hla_match_b_high": 2,
         "hla_match_b_low": 2,
         "hla_match_c_high": 2,
         "hla_match_c_low": 2,
         "hla_match_dqb1_high": 2,
         "hla_match_dqb1_low": 2,
         "hla_match_drb1_high": 2,
         "hla_match_drb1_low": 2,
         "hla_nmdp_6": 6,
         "in_vivo_tcd": "No",
         "karnofsky_score": 90,
         "melphalan_dose": "N/A, Mel not given",
         "mrd_hct": "Positive",
         "obesity": "No",
         "peptic_ulcer": "No",
         "prim_disease_hct": "ALL",
         "prior_tumor": "No",
         "prod_type": "BM",
         "psych_disturb": "No",
         "pulm_moderate": "No",
         "pulm_severe": "No",
         "race_group": "White",
         "renal_issue": "No",
         "rheum_issue": "No",
         "rituximab": "No",
         "sex_match": "M-M",
         "tbi_status": "No TBI",
         "tce_div_match": "Permissive mismatched",
         "tce_imm_match": "P/P",
         "tce_match": "Permissive",
         "vent_hist": "No",
         "year_hct": 2009
        },
        {
         "ID": 4,
         "_deepnote_index_column": 4,
         "age_at_hct": 29.74,
         "arrhythmia": "No",
         "cardiac": "No",
         "cmv_status": "+/+",
         "comorbidity_score": 1,
         "conditioning_intensity": "MAC",
         "cyto_score": "nan",
         "cyto_score_detail": "nan",
         "diabetes": "No",
         "donor_age": 56.81,
         "donor_related": "Related",
         "dri_score": "High",
         "efs": 0,
         "efs_time": 16.223,
         "ethnicity": "Hispanic or Latino",
         "graft_type": "Peripheral blood",
         "gvhd_proph": "TDEPLETION +- other",
         "hepatic_mild": "No",
         "hepatic_severe": "No",
         "hla_high_res_10": 10,
         "hla_high_res_6": 6,
         "hla_high_res_8": 8,
         "hla_low_res_10": 10,
         "hla_low_res_6": 6,
         "hla_low_res_8": 8,
         "hla_match_a_high": 2,
         "hla_match_a_low": 2,
         "hla_match_b_high": 2,
         "hla_match_b_low": 2,
         "hla_match_c_high": 2,
         "hla_match_c_low": 2,
         "hla_match_dqb1_high": 2,
         "hla_match_dqb1_low": 2,
         "hla_match_drb1_high": 2,
         "hla_match_drb1_low": 2,
         "hla_nmdp_6": 5,
         "in_vivo_tcd": "Yes",
         "karnofsky_score": 90,
         "melphalan_dose": "MEL",
         "mrd_hct": "nan",
         "obesity": "No",
         "peptic_ulcer": "No",
         "prim_disease_hct": "MPN",
         "prior_tumor": "No",
         "prod_type": "PB",
         "psych_disturb": "No",
         "pulm_moderate": "No",
         "pulm_severe": "No",
         "race_group": "American Indian or Alaska Native",
         "renal_issue": "No",
         "rheum_issue": "No",
         "rituximab": "No",
         "sex_match": "M-F",
         "tbi_status": "No TBI",
         "tce_div_match": "Permissive mismatched",
         "tce_imm_match": "nan",
         "tce_match": "nan",
         "vent_hist": "No",
         "year_hct": 2018
        }
       ]
      },
      "text/html": [
       "<div>\n",
       "<style scoped>\n",
       "    .dataframe tbody tr th:only-of-type {\n",
       "        vertical-align: middle;\n",
       "    }\n",
       "\n",
       "    .dataframe tbody tr th {\n",
       "        vertical-align: top;\n",
       "    }\n",
       "\n",
       "    .dataframe thead th {\n",
       "        text-align: right;\n",
       "    }\n",
       "</style>\n",
       "<table border=\"1\" class=\"dataframe\">\n",
       "  <thead>\n",
       "    <tr style=\"text-align: right;\">\n",
       "      <th></th>\n",
       "      <th>ID</th>\n",
       "      <th>dri_score</th>\n",
       "      <th>psych_disturb</th>\n",
       "      <th>cyto_score</th>\n",
       "      <th>diabetes</th>\n",
       "      <th>hla_match_c_high</th>\n",
       "      <th>hla_high_res_8</th>\n",
       "      <th>tbi_status</th>\n",
       "      <th>arrhythmia</th>\n",
       "      <th>hla_low_res_6</th>\n",
       "      <th>...</th>\n",
       "      <th>tce_div_match</th>\n",
       "      <th>donor_related</th>\n",
       "      <th>melphalan_dose</th>\n",
       "      <th>hla_low_res_8</th>\n",
       "      <th>cardiac</th>\n",
       "      <th>hla_match_drb1_high</th>\n",
       "      <th>pulm_moderate</th>\n",
       "      <th>hla_low_res_10</th>\n",
       "      <th>efs</th>\n",
       "      <th>efs_time</th>\n",
       "    </tr>\n",
       "  </thead>\n",
       "  <tbody>\n",
       "    <tr>\n",
       "      <th>0</th>\n",
       "      <td>0</td>\n",
       "      <td>N/A - non-malignant indication</td>\n",
       "      <td>No</td>\n",
       "      <td>NaN</td>\n",
       "      <td>No</td>\n",
       "      <td>NaN</td>\n",
       "      <td>NaN</td>\n",
       "      <td>No TBI</td>\n",
       "      <td>No</td>\n",
       "      <td>6.0</td>\n",
       "      <td>...</td>\n",
       "      <td>NaN</td>\n",
       "      <td>Unrelated</td>\n",
       "      <td>N/A, Mel not given</td>\n",
       "      <td>8.0</td>\n",
       "      <td>No</td>\n",
       "      <td>2.0</td>\n",
       "      <td>No</td>\n",
       "      <td>10.0</td>\n",
       "      <td>0.0</td>\n",
       "      <td>42.356</td>\n",
       "    </tr>\n",
       "    <tr>\n",
       "      <th>1</th>\n",
       "      <td>1</td>\n",
       "      <td>Intermediate</td>\n",
       "      <td>No</td>\n",
       "      <td>Intermediate</td>\n",
       "      <td>No</td>\n",
       "      <td>2.0</td>\n",
       "      <td>8.0</td>\n",
       "      <td>TBI +- Other, &gt;cGy</td>\n",
       "      <td>No</td>\n",
       "      <td>6.0</td>\n",
       "      <td>...</td>\n",
       "      <td>Permissive mismatched</td>\n",
       "      <td>Related</td>\n",
       "      <td>N/A, Mel not given</td>\n",
       "      <td>8.0</td>\n",
       "      <td>No</td>\n",
       "      <td>2.0</td>\n",
       "      <td>Yes</td>\n",
       "      <td>10.0</td>\n",
       "      <td>1.0</td>\n",
       "      <td>4.672</td>\n",
       "    </tr>\n",
       "    <tr>\n",
       "      <th>2</th>\n",
       "      <td>2</td>\n",
       "      <td>N/A - non-malignant indication</td>\n",
       "      <td>No</td>\n",
       "      <td>NaN</td>\n",
       "      <td>No</td>\n",
       "      <td>2.0</td>\n",
       "      <td>8.0</td>\n",
       "      <td>No TBI</td>\n",
       "      <td>No</td>\n",
       "      <td>6.0</td>\n",
       "      <td>...</td>\n",
       "      <td>Permissive mismatched</td>\n",
       "      <td>Related</td>\n",
       "      <td>N/A, Mel not given</td>\n",
       "      <td>8.0</td>\n",
       "      <td>No</td>\n",
       "      <td>2.0</td>\n",
       "      <td>No</td>\n",
       "      <td>10.0</td>\n",
       "      <td>0.0</td>\n",
       "      <td>19.793</td>\n",
       "    </tr>\n",
       "    <tr>\n",
       "      <th>3</th>\n",
       "      <td>3</td>\n",
       "      <td>High</td>\n",
       "      <td>No</td>\n",
       "      <td>Intermediate</td>\n",
       "      <td>No</td>\n",
       "      <td>2.0</td>\n",
       "      <td>8.0</td>\n",
       "      <td>No TBI</td>\n",
       "      <td>No</td>\n",
       "      <td>6.0</td>\n",
       "      <td>...</td>\n",
       "      <td>Permissive mismatched</td>\n",
       "      <td>Unrelated</td>\n",
       "      <td>N/A, Mel not given</td>\n",
       "      <td>8.0</td>\n",
       "      <td>No</td>\n",
       "      <td>2.0</td>\n",
       "      <td>No</td>\n",
       "      <td>10.0</td>\n",
       "      <td>0.0</td>\n",
       "      <td>102.349</td>\n",
       "    </tr>\n",
       "    <tr>\n",
       "      <th>4</th>\n",
       "      <td>4</td>\n",
       "      <td>High</td>\n",
       "      <td>No</td>\n",
       "      <td>NaN</td>\n",
       "      <td>No</td>\n",
       "      <td>2.0</td>\n",
       "      <td>8.0</td>\n",
       "      <td>No TBI</td>\n",
       "      <td>No</td>\n",
       "      <td>6.0</td>\n",
       "      <td>...</td>\n",
       "      <td>Permissive mismatched</td>\n",
       "      <td>Related</td>\n",
       "      <td>MEL</td>\n",
       "      <td>8.0</td>\n",
       "      <td>No</td>\n",
       "      <td>2.0</td>\n",
       "      <td>No</td>\n",
       "      <td>10.0</td>\n",
       "      <td>0.0</td>\n",
       "      <td>16.223</td>\n",
       "    </tr>\n",
       "  </tbody>\n",
       "</table>\n",
       "<p>5 rows × 60 columns</p>\n",
       "</div>"
      ],
      "text/plain": [
       "   ID                       dri_score psych_disturb    cyto_score diabetes  \\\n",
       "0   0  N/A - non-malignant indication            No           NaN       No   \n",
       "1   1                    Intermediate            No  Intermediate       No   \n",
       "2   2  N/A - non-malignant indication            No           NaN       No   \n",
       "3   3                            High            No  Intermediate       No   \n",
       "4   4                            High            No           NaN       No   \n",
       "\n",
       "   hla_match_c_high  hla_high_res_8          tbi_status arrhythmia  \\\n",
       "0               NaN             NaN              No TBI         No   \n",
       "1               2.0             8.0  TBI +- Other, >cGy         No   \n",
       "2               2.0             8.0              No TBI         No   \n",
       "3               2.0             8.0              No TBI         No   \n",
       "4               2.0             8.0              No TBI         No   \n",
       "\n",
       "   hla_low_res_6  ...          tce_div_match donor_related  \\\n",
       "0            6.0  ...                    NaN     Unrelated   \n",
       "1            6.0  ...  Permissive mismatched       Related   \n",
       "2            6.0  ...  Permissive mismatched       Related   \n",
       "3            6.0  ...  Permissive mismatched     Unrelated   \n",
       "4            6.0  ...  Permissive mismatched       Related   \n",
       "\n",
       "       melphalan_dose hla_low_res_8 cardiac  hla_match_drb1_high  \\\n",
       "0  N/A, Mel not given           8.0      No                  2.0   \n",
       "1  N/A, Mel not given           8.0      No                  2.0   \n",
       "2  N/A, Mel not given           8.0      No                  2.0   \n",
       "3  N/A, Mel not given           8.0      No                  2.0   \n",
       "4                 MEL           8.0      No                  2.0   \n",
       "\n",
       "  pulm_moderate  hla_low_res_10  efs efs_time  \n",
       "0            No            10.0  0.0   42.356  \n",
       "1           Yes            10.0  1.0    4.672  \n",
       "2            No            10.0  0.0   19.793  \n",
       "3            No            10.0  0.0  102.349  \n",
       "4            No            10.0  0.0   16.223  \n",
       "\n",
       "[5 rows x 60 columns]"
      ]
     },
     "execution_count": 3,
     "metadata": {},
     "output_type": "execute_result"
    }
   ],
   "source": [
    "train = pd.read_csv(\"train.csv\")\n",
    "train.head()"
   ]
  },
  {
   "cell_type": "markdown",
   "metadata": {
    "cell_id": "53815feee0a047869f5fe43266fca9a4",
    "deepnote_app_block_visible": true,
    "deepnote_cell_type": "text-cell-p",
    "formattedRanges": []
   },
   "source": [
    "Before diving into the analysis, we first understand the dataset structure.\n",
    "This helps us answer key questions:"
   ]
  },
  {
   "cell_type": "markdown",
   "metadata": {
    "cell_id": "bdfeb4d90d204a678ef0e46ecca4ba73",
    "deepnote_app_block_visible": true,
    "deepnote_cell_type": "text-cell-p",
    "formattedRanges": []
   },
   "source": [
    "What features do we have? \n",
    "Are there missing values? \n",
    "What types of data are present (numerical, categorical, etc.)? \n",
    "Are there any potential issues in the dataset? "
   ]
  },
  {
   "cell_type": "code",
   "execution_count": 4,
   "metadata": {
    "cell_id": "9bb01db5c84e44198a25375a8889c30d",
    "deepnote_app_block_visible": true,
    "deepnote_app_is_code_hidden": false,
    "deepnote_app_is_output_hidden": false,
    "deepnote_cell_type": "code",
    "execution_context_id": "253f212a-52c9-4a6a-a70e-bf980c65b184",
    "execution_millis": 58,
    "execution_start": 1738762367688,
    "source_hash": "7071762d"
   },
   "outputs": [
    {
     "name": "stdout",
     "output_type": "stream",
     "text": [
      "📌 Basic Info of Dataset:\n",
      "<class 'pandas.core.frame.DataFrame'>\n",
      "RangeIndex: 28800 entries, 0 to 28799\n",
      "Data columns (total 60 columns):\n",
      " #   Column                  Non-Null Count  Dtype  \n",
      "---  ------                  --------------  -----  \n",
      " 0   ID                      28800 non-null  int64  \n",
      " 1   dri_score               28646 non-null  object \n",
      " 2   psych_disturb           26738 non-null  object \n",
      " 3   cyto_score              20732 non-null  object \n",
      " 4   diabetes                26681 non-null  object \n",
      " 5   hla_match_c_high        24180 non-null  float64\n",
      " 6   hla_high_res_8          22971 non-null  float64\n",
      " 7   tbi_status              28800 non-null  object \n",
      " 8   arrhythmia              26598 non-null  object \n",
      " 9   hla_low_res_6           25530 non-null  float64\n",
      " 10  graft_type              28800 non-null  object \n",
      " 11  vent_hist               28541 non-null  object \n",
      " 12  renal_issue             26885 non-null  object \n",
      " 13  pulm_severe             26665 non-null  object \n",
      " 14  prim_disease_hct        28800 non-null  object \n",
      " 15  hla_high_res_6          23516 non-null  float64\n",
      " 16  cmv_status              28166 non-null  object \n",
      " 17  hla_high_res_10         21637 non-null  float64\n",
      " 18  hla_match_dqb1_high     23601 non-null  float64\n",
      " 19  tce_imm_match           17667 non-null  object \n",
      " 20  hla_nmdp_6              24603 non-null  float64\n",
      " 21  hla_match_c_low         26000 non-null  float64\n",
      " 22  rituximab               26652 non-null  object \n",
      " 23  hla_match_drb1_low      26157 non-null  float64\n",
      " 24  hla_match_dqb1_low      24606 non-null  float64\n",
      " 25  prod_type               28800 non-null  object \n",
      " 26  cyto_score_detail       16877 non-null  object \n",
      " 27  conditioning_intensity  24011 non-null  object \n",
      " 28  ethnicity               28213 non-null  object \n",
      " 29  year_hct                28800 non-null  int64  \n",
      " 30  obesity                 27040 non-null  object \n",
      " 31  mrd_hct                 12203 non-null  object \n",
      " 32  in_vivo_tcd             28575 non-null  object \n",
      " 33  tce_match               9804 non-null   object \n",
      " 34  hla_match_a_high        24499 non-null  float64\n",
      " 35  hepatic_severe          26929 non-null  object \n",
      " 36  donor_age               26992 non-null  float64\n",
      " 37  prior_tumor             27122 non-null  object \n",
      " 38  hla_match_b_low         26235 non-null  float64\n",
      " 39  peptic_ulcer            26381 non-null  object \n",
      " 40  age_at_hct              28800 non-null  float64\n",
      " 41  hla_match_a_low         26410 non-null  float64\n",
      " 42  gvhd_proph              28575 non-null  object \n",
      " 43  rheum_issue             26617 non-null  object \n",
      " 44  sex_match               28539 non-null  object \n",
      " 45  hla_match_b_high        24712 non-null  float64\n",
      " 46  race_group              28800 non-null  object \n",
      " 47  comorbidity_score       28323 non-null  float64\n",
      " 48  karnofsky_score         27930 non-null  float64\n",
      " 49  hepatic_mild            26883 non-null  object \n",
      " 50  tce_div_match           17404 non-null  object \n",
      " 51  donor_related           28642 non-null  object \n",
      " 52  melphalan_dose          27395 non-null  object \n",
      " 53  hla_low_res_8           25147 non-null  float64\n",
      " 54  cardiac                 26258 non-null  object \n",
      " 55  hla_match_drb1_high     25448 non-null  float64\n",
      " 56  pulm_moderate           26753 non-null  object \n",
      " 57  hla_low_res_10          23736 non-null  float64\n",
      " 58  efs                     28800 non-null  float64\n",
      " 59  efs_time                28800 non-null  float64\n",
      "dtypes: float64(23), int64(2), object(35)\n",
      "memory usage: 13.2+ MB\n",
      "None\n",
      "\n",
      "📌 Descriptive Statistics of Numeric Features:\n",
      "                 ID  hla_match_c_high  hla_high_res_8  hla_low_res_6  \\\n",
      "count  28800.000000      24180.000000    22971.000000   25530.000000   \n",
      "mean   14399.500000          1.764516        6.876801       5.143322   \n",
      "std     8313.988213          0.431941        1.564313       1.207757   \n",
      "min        0.000000          0.000000        2.000000       2.000000   \n",
      "25%     7199.750000          2.000000        6.000000       4.000000   \n",
      "50%    14399.500000          2.000000        8.000000       6.000000   \n",
      "75%    21599.250000          2.000000        8.000000       6.000000   \n",
      "max    28799.000000          2.000000        8.000000       6.000000   \n",
      "\n",
      "       hla_high_res_6  hla_high_res_10  hla_match_dqb1_high    hla_nmdp_6  \\\n",
      "count    23516.000000     21637.000000         23601.000000  24603.000000   \n",
      "mean         5.109202         8.617230             1.736876      5.160346   \n",
      "std          1.214162         1.905125             0.447687      1.203240   \n",
      "min          0.000000         3.000000             0.000000      2.000000   \n",
      "25%          4.000000         7.000000             1.000000      4.000000   \n",
      "50%          6.000000        10.000000             2.000000      6.000000   \n",
      "75%          6.000000        10.000000             2.000000      6.000000   \n",
      "max          6.000000        10.000000             2.000000      6.000000   \n",
      "\n",
      "       hla_match_c_low  hla_match_drb1_low  ...    age_at_hct  \\\n",
      "count     26000.000000        26157.000000  ...  28800.000000   \n",
      "mean          1.757808            1.715296  ...     38.663162   \n",
      "std           0.435453            0.451282  ...     21.147581   \n",
      "min           0.000000            1.000000  ...      0.044000   \n",
      "25%           2.000000            1.000000  ...     19.539000   \n",
      "50%           2.000000            2.000000  ...     41.006000   \n",
      "75%           2.000000            2.000000  ...     55.965250   \n",
      "max           2.000000            2.000000  ...     73.726000   \n",
      "\n",
      "       hla_match_a_low  hla_match_b_high  comorbidity_score  karnofsky_score  \\\n",
      "count     26410.000000       24712.00000       28323.000000      27930.00000   \n",
      "mean          1.709087           1.69962           1.702327         83.83208   \n",
      "std           0.458259           0.46518           1.994443         11.02884   \n",
      "min           0.000000           0.00000           0.000000         40.00000   \n",
      "25%           1.000000           1.00000           0.000000         70.00000   \n",
      "50%           2.000000           2.00000           1.000000         90.00000   \n",
      "75%           2.000000           2.00000           2.000000         90.00000   \n",
      "max           2.000000           2.00000          10.000000        100.00000   \n",
      "\n",
      "       hla_low_res_8  hla_match_drb1_high  hla_low_res_10           efs  \\\n",
      "count   25147.000000         25448.000000    23736.000000  28800.000000   \n",
      "mean        6.903448             1.707128        8.664687      0.539306   \n",
      "std         1.565017             0.461179        1.882746      0.498461   \n",
      "min         2.000000             0.000000        4.000000      0.000000   \n",
      "25%         6.000000             1.000000        7.000000      0.000000   \n",
      "50%         8.000000             2.000000       10.000000      1.000000   \n",
      "75%         8.000000             2.000000       10.000000      1.000000   \n",
      "max         8.000000             2.000000       10.000000      1.000000   \n",
      "\n",
      "           efs_time  \n",
      "count  28800.000000  \n",
      "mean      23.237678  \n",
      "std       24.799748  \n",
      "min        0.333000  \n",
      "25%        5.619750  \n",
      "50%        9.796500  \n",
      "75%       35.100000  \n",
      "max      156.819000  \n",
      "\n",
      "[8 rows x 25 columns]\n",
      "\n",
      "📌 Unique Values in Categorical Features:\n",
      "dri_score: 11 unique values\n",
      "psych_disturb: 3 unique values\n",
      "cyto_score: 7 unique values\n",
      "diabetes: 3 unique values\n",
      "tbi_status: 8 unique values\n",
      "arrhythmia: 3 unique values\n",
      "graft_type: 2 unique values\n",
      "vent_hist: 2 unique values\n",
      "renal_issue: 3 unique values\n",
      "pulm_severe: 3 unique values\n",
      "prim_disease_hct: 18 unique values\n",
      "cmv_status: 4 unique values\n",
      "tce_imm_match: 8 unique values\n",
      "rituximab: 2 unique values\n",
      "prod_type: 2 unique values\n",
      "cyto_score_detail: 5 unique values\n",
      "conditioning_intensity: 6 unique values\n",
      "ethnicity: 3 unique values\n",
      "obesity: 3 unique values\n",
      "mrd_hct: 2 unique values\n",
      "in_vivo_tcd: 2 unique values\n",
      "tce_match: 4 unique values\n",
      "hepatic_severe: 3 unique values\n",
      "prior_tumor: 3 unique values\n",
      "peptic_ulcer: 3 unique values\n",
      "gvhd_proph: 17 unique values\n",
      "rheum_issue: 3 unique values\n",
      "sex_match: 4 unique values\n",
      "race_group: 6 unique values\n",
      "hepatic_mild: 3 unique values\n",
      "tce_div_match: 4 unique values\n",
      "donor_related: 3 unique values\n",
      "melphalan_dose: 2 unique values\n",
      "cardiac: 3 unique values\n",
      "pulm_moderate: 3 unique values\n"
     ]
    }
   ],
   "source": [
    "# Basic Information about the dataset\n",
    "print(\"📌 Basic Info of Dataset:\")\n",
    "print(train.info())  # Checking data types and missing values\n",
    "\n",
    "# Descriptive Statistics of numerical features\n",
    "print(\"\\n📌 Descriptive Statistics of Numeric Features:\")\n",
    "print(train.describe())\n",
    "\n",
    "# Check unique values in categorical columns\n",
    "print(\"\\n📌 Unique Values in Categorical Features:\")\n",
    "categorical_cols = train.select_dtypes(include=['object']).columns\n",
    "for col in categorical_cols:\n",
    "    print(f\"{col}: {train[col].nunique()} unique values\")\n"
   ]
  },
  {
   "cell_type": "markdown",
   "metadata": {
    "cell_id": "fc24fddc60004675a97d4d5092427127",
    "deepnote_app_block_visible": true,
    "deepnote_cell_type": "text-cell-p",
    "formattedRanges": []
   },
   "source": [
    "From the basic dataset summary, we can see:  "
   ]
  },
  {
   "cell_type": "markdown",
   "metadata": {
    "cell_id": "d1cf70bc63f440c6af2b5d62313ae345",
    "deepnote_app_block_visible": true,
    "deepnote_cell_type": "text-cell-p",
    "formattedRanges": []
   },
   "source": [
    "The dataset has 28,800 rows and 60 columns, with a mix of numerical and categorical features."
   ]
  },
  {
   "cell_type": "markdown",
   "metadata": {
    "cell_id": "4720a38a1399479288ccbbeee98a5851",
    "deepnote_app_block_visible": true,
    "deepnote_cell_type": "text-cell-p",
    "formattedRanges": []
   },
   "source": [
    "Some columns have missing values, so we may need to fill or remove them."
   ]
  },
  {
   "cell_type": "markdown",
   "metadata": {
    "cell_id": "dd7b5c75e3404d668d3913c208117539",
    "deepnote_app_block_visible": true,
    "deepnote_cell_type": "text-cell-p",
    "formattedRanges": []
   },
   "source": [
    "Some features have only a few unique values (e.g., diabetes, arrhythmia), while others vary more (e.g., race_group, prim_disease_hct)."
   ]
  },
  {
   "cell_type": "markdown",
   "metadata": {
    "cell_id": "86246e8070ab4ad2bd158888a41f2f72",
    "deepnote_app_block_visible": true,
    "deepnote_cell_type": "text-cell-p",
    "formattedRanges": []
   },
   "source": [
    "The dataset includes efs (event-free survival) and efs_time (survival time), which seem to be the key prediction targets."
   ]
  },
  {
   "cell_type": "markdown",
   "metadata": {
    "cell_id": "de26a06dfa024518bc0e4b2cc5096743",
    "deepnote_app_block_visible": true,
    "deepnote_cell_type": "text-cell-p",
    "formattedRanges": []
   },
   "source": [
    "Before using the data, we need to check for missing values. Missing data can affect our model's accuracy, so we must decide whether to fill (impute) or remove them."
   ]
  },
  {
   "cell_type": "code",
   "execution_count": 5,
   "metadata": {
    "cell_id": "9c251eadf8d54beba9f7f4c0b7ee0596",
    "deepnote_app_block_visible": true,
    "deepnote_app_is_code_hidden": false,
    "deepnote_app_is_output_hidden": false,
    "deepnote_cell_type": "code",
    "execution_context_id": "253f212a-52c9-4a6a-a70e-bf980c65b184",
    "execution_millis": 0,
    "execution_start": 1738762367796,
    "source_hash": "425a0f5f"
   },
   "outputs": [
    {
     "name": "stdout",
     "output_type": "stream",
     "text": [
      "Missing Values Found in Dataset:\n",
      "tce_match                 18996\n",
      "mrd_hct                   16597\n",
      "cyto_score_detail         11923\n",
      "tce_div_match             11396\n",
      "tce_imm_match             11133\n",
      "cyto_score                 8068\n",
      "hla_high_res_10            7163\n",
      "hla_high_res_8             5829\n",
      "hla_high_res_6             5284\n",
      "hla_match_dqb1_high        5199\n",
      "hla_low_res_10             5064\n",
      "conditioning_intensity     4789\n",
      "hla_match_c_high           4620\n",
      "hla_match_a_high           4301\n",
      "hla_nmdp_6                 4197\n",
      "hla_match_dqb1_low         4194\n",
      "hla_match_b_high           4088\n",
      "hla_low_res_8              3653\n",
      "hla_match_drb1_high        3352\n",
      "hla_low_res_6              3270\n",
      "hla_match_c_low            2800\n",
      "hla_match_drb1_low         2643\n",
      "hla_match_b_low            2565\n",
      "cardiac                    2542\n",
      "peptic_ulcer               2419\n",
      "hla_match_a_low            2390\n",
      "arrhythmia                 2202\n",
      "rheum_issue                2183\n",
      "rituximab                  2148\n",
      "pulm_severe                2135\n",
      "diabetes                   2119\n",
      "psych_disturb              2062\n",
      "pulm_moderate              2047\n",
      "hepatic_mild               1917\n",
      "renal_issue                1915\n",
      "hepatic_severe             1871\n",
      "donor_age                  1808\n",
      "obesity                    1760\n",
      "prior_tumor                1678\n",
      "melphalan_dose             1405\n",
      "karnofsky_score             870\n",
      "cmv_status                  634\n",
      "ethnicity                   587\n",
      "comorbidity_score           477\n",
      "sex_match                   261\n",
      "vent_hist                   259\n",
      "in_vivo_tcd                 225\n",
      "gvhd_proph                  225\n",
      "donor_related               158\n",
      "dri_score                   154\n",
      "dtype: int64\n"
     ]
    }
   ],
   "source": [
    "# Checking for missing values\n",
    "missing_values = train.isnull().sum().sort_values(ascending=False)\n",
    "missing_values = missing_values[missing_values > 0]  # Only show features with missing values\n",
    "\n",
    "if not missing_values.empty:\n",
    "    print(\"Missing Values Found in Dataset:\")\n",
    "    print(missing_values)\n",
    "else:\n",
    "    print(\"No Missing Values Found!\")"
   ]
  },
  {
   "cell_type": "markdown",
   "metadata": {
    "cell_id": "cca47d7aec52411a822836c1048a1bc4",
    "deepnote_app_block_visible": true,
    "deepnote_cell_type": "text-cell-p",
    "formattedRanges": []
   },
   "source": [
    "Some features have a lot of missing values, which might affect our analysis!"
   ]
  },
  {
   "cell_type": "markdown",
   "metadata": {},
   "source": [
    "Now that we’ve examined missing values, let's explore the relationships between numerical features.\n",
    "Correlations can help us identify redundant features, where one variable provides almost the same information as another.\n",
    "High correlation (close to 1 or -1) means we might consider removing one of the features to avoid redundancy."
   ]
  },
  {
   "cell_type": "code",
   "execution_count": null,
   "metadata": {},
   "outputs": [
    {
     "ename": "NameError",
     "evalue": "name 'plt' is not defined",
     "output_type": "error",
     "traceback": [
      "\u001b[0;31m---------------------------------------------------------------------------\u001b[0m",
      "\u001b[0;31mNameError\u001b[0m                                 Traceback (most recent call last)",
      "Cell \u001b[0;32mIn[5], line 2\u001b[0m\n\u001b[1;32m      1\u001b[0m \u001b[38;5;66;03m# Generate a correlation heatmap\u001b[39;00m\n\u001b[0;32m----> 2\u001b[0m \u001b[43mplt\u001b[49m\u001b[38;5;241m.\u001b[39mfigure(figsize\u001b[38;5;241m=\u001b[39m(\u001b[38;5;241m12\u001b[39m, \u001b[38;5;241m8\u001b[39m))\n\u001b[1;32m      3\u001b[0m corr_matrix \u001b[38;5;241m=\u001b[39m train\u001b[38;5;241m.\u001b[39mcorr(numeric_only\u001b[38;5;241m=\u001b[39m\u001b[38;5;28;01mTrue\u001b[39;00m)  \u001b[38;5;66;03m# Only numerical columns\u001b[39;00m\n\u001b[1;32m      4\u001b[0m sns\u001b[38;5;241m.\u001b[39mheatmap(corr_matrix, cmap\u001b[38;5;241m=\u001b[39m\u001b[38;5;124m\"\u001b[39m\u001b[38;5;124mcoolwarm\u001b[39m\u001b[38;5;124m\"\u001b[39m, annot\u001b[38;5;241m=\u001b[39m\u001b[38;5;28;01mFalse\u001b[39;00m, linewidths\u001b[38;5;241m=\u001b[39m\u001b[38;5;241m0.5\u001b[39m)\n",
      "\u001b[0;31mNameError\u001b[0m: name 'plt' is not defined"
     ]
    }
   ],
   "source": [
    "# Generate a correlation heatmap\n",
    "plt.figure(figsize=(12, 8))\n",
    "corr_matrix = train.corr(numeric_only=True)  # Only numerical columns\n",
    "sns.heatmap(corr_matrix, cmap=\"coolwarm\", annot=False, linewidths=0.5)\n",
    "plt.title(\"Correlation Heatmap of Numerical Features\")\n",
    "plt.show()"
   ]
  },
  {
   "cell_type": "markdown",
   "metadata": {
    "cell_id": "4889e0eb00594261a9d1361a934639f0",
    "deepnote_app_block_visible": true,
    "deepnote_cell_type": "text-cell-p",
    "formattedRanges": [
     {
      "fromCodePoint": 18,
      "marks": {
       "code": true
      },
      "toCodePoint": 23,
      "type": "marks"
     },
     {
      "fromCodePoint": 68,
      "marks": {
       "code": true
      },
      "toCodePoint": 76,
      "type": "marks"
     },
     {
      "fromCodePoint": 96,
      "marks": {
       "code": true
      },
      "toCodePoint": 101,
      "type": "marks"
     },
     {
      "fromCodePoint": 105,
      "marks": {
       "bold": true
      },
      "toCodePoint": 116,
      "type": "marks"
     },
     {
      "fromCodePoint": 221,
      "marks": {
       "code": true
      },
      "toCodePoint": 229,
      "type": "marks"
     },
     {
      "fromCodePoint": 254,
      "marks": {
       "code": true
      },
      "toCodePoint": 260,
      "type": "marks"
     },
     {
      "fromCodePoint": 283,
      "marks": {
       "bold": true
      },
      "toCodePoint": 290,
      "type": "marks"
     },
     {
      "fromCodePoint": 291,
      "marks": {
       "code": true
      },
      "toCodePoint": 299,
      "type": "marks"
     },
     {
      "fromCodePoint": 310,
      "marks": {
       "code": true
      },
      "toCodePoint": 315,
      "type": "marks"
     },
     {
      "fromCodePoint": 338,
      "marks": {
       "bold": true
      },
      "toCodePoint": 346,
      "type": "marks"
     },
     {
      "fromCodePoint": 347,
      "marks": {
       "code": true
      },
      "toCodePoint": 355,
      "type": "marks"
     }
    ]
   },
   "source": [
    "Each patient with efs=1 had an event, and the time before event was efs_time. Each patient with efs=0 we do not know if they had an event or did not have an event. All we know is that they were without event for at least efs_time long. To summarize, each efs=1 was without event for exactly efs_time. And each efs=0 was without event for at least efs_time."
   ]
  },
  {
   "cell_type": "markdown",
   "metadata": {
    "cell_id": "2fcaf489ecd1422e86cb204f69a63e5d",
    "deepnote_app_block_visible": true,
    "deepnote_cell_type": "text-cell-p",
    "formattedRanges": []
   },
   "source": [
    "Let's see the distribution of the EFS field:"
   ]
  },
  {
   "cell_type": "code",
   "execution_count": 6,
   "metadata": {
    "cell_id": "3b7b0730e391461bb27662ebb22e9b13",
    "deepnote_app_block_visible": true,
    "deepnote_app_is_code_hidden": false,
    "deepnote_app_is_output_hidden": false,
    "deepnote_cell_type": "code",
    "execution_context_id": "253f212a-52c9-4a6a-a70e-bf980c65b184",
    "execution_millis": 138,
    "execution_start": 1738762367844,
    "source_hash": "775925b3"
   },
   "outputs": [
    {
     "data": {
      "image/png": "[encoded data removed]",
      "text/plain": [
       "<Figure size 600x600 with 1 Axes>"
      ]
     },
     "metadata": {
      "image/png": {
       "height": 504,
       "width": 771
      }
     },
     "output_type": "display_data"
    }
   ],
   "source": [
    "plt.figure(figsize=(6, 6))\n",
    "labels = ['event occurance known', 'event occurance unknown']\n",
    "efs_counts = train['efs'].value_counts()\n",
    "plt.pie(efs_counts, labels=labels, autopct='%1.1f%%', startangle=90)\n",
    "plt.title(\"Distribution of Event-Free Survival (EFS)\") \n",
    "plt.ylabel('')\n",
    "plt.show()"
   ]
  },
  {
   "cell_type": "markdown",
   "metadata": {
    "cell_id": "1c7995cef7bd469eb6ac43bc0b45fc1e",
    "deepnote_app_block_visible": true,
    "deepnote_cell_type": "text-cell-p",
    "formattedRanges": []
   },
   "source": [
    "And the distribution of EFS time by efs:"
   ]
  },
  {
   "cell_type": "code",
   "execution_count": 7,
   "metadata": {
    "cell_id": "7f3d7437b595439ba6a861d9d5bfd946",
    "deepnote_app_block_visible": true,
    "deepnote_app_is_code_hidden": false,
    "deepnote_app_is_output_hidden": false,
    "deepnote_cell_type": "code",
    "execution_context_id": "253f212a-52c9-4a6a-a70e-bf980c65b184",
    "execution_millis": 448,
    "execution_start": 1738762368032,
    "source_hash": "af6f8766"
   },
   "outputs": [
    {
     "data": {
      "image/png": "[encoded data removed]",
      "text/plain": [
       "<Figure size 1200x500 with 1 Axes>"
      ]
     },
     "metadata": {
      "image/png": {
       "height": 470,
       "width": 1014
      }
     },
     "output_type": "display_data"
    }
   ],
   "source": [
    "import matplotlib.pyplot as plt  # Ensure this import is present\n",
    "\n",
    "# The rest of the plotting code remains the same\n",
    "plt.figure(figsize=(12, 5))\n",
    "sns.histplot(data=train, x='efs_time', bins=80, hue=\"efs\", multiple=\"dodge\")\n",
    "max_val = train['efs_time'].max()\n",
    "xticks = np.arange(0, max_val + 1, 6)\n",
    "\n",
    "plt.xticks(xticks)\n",
    "plt.xlabel('EFS Time (Months)')\n",
    "plt.ylabel('Count')\n",
    "plt.title('Distribution of EFS Time')\n",
    "plt.show()"
   ]
  },
  {
   "cell_type": "markdown",
   "metadata": {
    "cell_id": "1e68739bf68945a38eedacc18574928e",
    "deepnote_app_block_visible": true,
    "deepnote_cell_type": "text-cell-p",
    "formattedRanges": []
   },
   "source": [
    "As we can see, almost all known events occur within a year post-HCT.\n",
    "As for the unkown events:"
   ]
  },
  {
   "cell_type": "code",
   "execution_count": 8,
   "metadata": {
    "cell_id": "ccd2d3ce65844617b738631ebdefc7f8",
    "deepnote_app_block_visible": true,
    "deepnote_app_is_code_hidden": false,
    "deepnote_app_is_output_hidden": false,
    "deepnote_cell_type": "code",
    "execution_context_id": "253f212a-52c9-4a6a-a70e-bf980c65b184",
    "execution_millis": 20,
    "execution_start": 1738762368528,
    "source_hash": "f7075256"
   },
   "outputs": [
    {
     "data": {
      "application/vnd.deepnote.dataframe.v3+json": {
       "column_count": 60,
       "columns": [
        {
         "dtype": "int64",
         "name": "ID",
         "stats": {
          "histogram": [
           {
            "bin_end": 10251.9,
            "bin_start": 9747,
            "count": 1
           },
           {
            "bin_end": 10756.8,
            "bin_start": 10251.9,
            "count": 0
           },
           {
            "bin_end": 11261.7,
            "bin_start": 10756.8,
            "count": 0
           },
           {
            "bin_end": 11766.6,
            "bin_start": 11261.7,
            "count": 0
           },
           {
            "bin_end": 12271.5,
            "bin_start": 11766.6,
            "count": 0
           },
           {
            "bin_end": 12776.4,
            "bin_start": 12271.5,
            "count": 0
           },
           {
            "bin_end": 13281.3,
            "bin_start": 12776.4,
            "count": 0
           },
           {
            "bin_end": 13786.2,
            "bin_start": 13281.3,
            "count": 0
           },
           {
            "bin_end": 14291.099999999999,
            "bin_start": 13786.2,
            "count": 0
           },
           {
            "bin_end": 14796,
            "bin_start": 14291.099999999999,
            "count": 1
           }
          ],
          "max": "14796",
          "min": "9747",
          "nan_count": 0,
          "unique_count": 2
         }
        },
        {
         "dtype": "object",
         "name": "dri_score",
         "stats": {
          "categories": [
           {
            "count": 1,
            "name": "Intermediate - TED AML case <missing cytogenetics"
           },
           {
            "count": 1,
            "name": "N/A - pediatric"
           }
          ],
          "nan_count": 0,
          "unique_count": 2
         }
        },
        {
         "dtype": "object",
         "name": "psych_disturb",
         "stats": {
          "categories": [
           {
            "count": 1,
            "name": "No"
           },
           {
            "count": 1,
            "name": "Missing"
           }
          ],
          "nan_count": 1,
          "unique_count": 1
         }
        },
        {
         "dtype": "object",
         "name": "cyto_score",
         "stats": {
          "categories": [
           {
            "count": 1,
            "name": "TBD"
           },
           {
            "count": 1,
            "name": "Missing"
           }
          ],
          "nan_count": 1,
          "unique_count": 1
         }
        },
        {
         "dtype": "object",
         "name": "diabetes",
         "stats": {
          "categories": [
           {
            "count": 2,
            "name": "No"
           }
          ],
          "nan_count": 0,
          "unique_count": 1
         }
        },
        {
         "dtype": "float64",
         "name": "hla_match_c_high",
         "stats": {
          "histogram": [
           {
            "bin_end": 1.1,
            "bin_start": 1,
            "count": 1
           },
           {
            "bin_end": 1.2,
            "bin_start": 1.1,
            "count": 0
           },
           {
            "bin_end": 1.3,
            "bin_start": 1.2,
            "count": 0
           },
           {
            "bin_end": 1.4,
            "bin_start": 1.3,
            "count": 0
           },
           {
            "bin_end": 1.5,
            "bin_start": 1.4,
            "count": 0
           },
           {
            "bin_end": 1.6,
            "bin_start": 1.5,
            "count": 0
           },
           {
            "bin_end": 1.7000000000000002,
            "bin_start": 1.6,
            "count": 0
           },
           {
            "bin_end": 1.8,
            "bin_start": 1.7000000000000002,
            "count": 0
           },
           {
            "bin_end": 1.9,
            "bin_start": 1.8,
            "count": 0
           },
           {
            "bin_end": 2,
            "bin_start": 1.9,
            "count": 1
           }
          ],
          "max": "2.0",
          "min": "1.0",
          "nan_count": 0,
          "unique_count": 2
         }
        },
        {
         "dtype": "float64",
         "name": "hla_high_res_8",
         "stats": {
          "histogram": [
           {
            "bin_end": 4.4,
            "bin_start": 4,
            "count": 1
           },
           {
            "bin_end": 4.8,
            "bin_start": 4.4,
            "count": 0
           },
           {
            "bin_end": 5.2,
            "bin_start": 4.8,
            "count": 0
           },
           {
            "bin_end": 5.6,
            "bin_start": 5.2,
            "count": 0
           },
           {
            "bin_end": 6,
            "bin_start": 5.6,
            "count": 0
           },
           {
            "bin_end": 6.4,
            "bin_start": 6,
            "count": 0
           },
           {
            "bin_end": 6.800000000000001,
            "bin_start": 6.4,
            "count": 0
           },
           {
            "bin_end": 7.2,
            "bin_start": 6.800000000000001,
            "count": 0
           },
           {
            "bin_end": 7.6,
            "bin_start": 7.2,
            "count": 0
           },
           {
            "bin_end": 8,
            "bin_start": 7.6,
            "count": 1
           }
          ],
          "max": "8.0",
          "min": "4.0",
          "nan_count": 0,
          "unique_count": 2
         }
        },
        {
         "dtype": "object",
         "name": "tbi_status",
         "stats": {
          "categories": [
           {
            "count": 1,
            "name": "TBI + Cy +- Other"
           },
           {
            "count": 1,
            "name": "No TBI"
           }
          ],
          "nan_count": 0,
          "unique_count": 2
         }
        },
        {
         "dtype": "object",
         "name": "arrhythmia",
         "stats": {
          "categories": [
           {
            "count": 1,
            "name": "No"
           },
           {
            "count": 1,
            "name": "Missing"
           }
          ],
          "nan_count": 1,
          "unique_count": 1
         }
        },
        {
         "dtype": "float64",
         "name": "hla_low_res_6",
         "stats": {
          "histogram": [
           {
            "bin_end": 5.6,
            "bin_start": 5.5,
            "count": 0
           },
           {
            "bin_end": 5.7,
            "bin_start": 5.6,
            "count": 0
           },
           {
            "bin_end": 5.8,
            "bin_start": 5.7,
            "count": 0
           },
           {
            "bin_end": 5.9,
            "bin_start": 5.8,
            "count": 0
           },
           {
            "bin_end": 6,
            "bin_start": 5.9,
            "count": 0
           },
           {
            "bin_end": 6.1,
            "bin_start": 6,
            "count": 1
           },
           {
            "bin_end": 6.2,
            "bin_start": 6.1,
            "count": 0
           },
           {
            "bin_end": 6.3,
            "bin_start": 6.2,
            "count": 0
           },
           {
            "bin_end": 6.4,
            "bin_start": 6.3,
            "count": 0
           },
           {
            "bin_end": 6.5,
            "bin_start": 6.4,
            "count": 0
           }
          ],
          "max": "6.0",
          "min": "6.0",
          "nan_count": 1,
          "unique_count": 1
         }
        },
        {
         "dtype": "object",
         "name": "graft_type",
         "stats": {
          "categories": [
           {
            "count": 1,
            "name": "Peripheral blood"
           },
           {
            "count": 1,
            "name": "Bone marrow"
           }
          ],
          "nan_count": 0,
          "unique_count": 2
         }
        },
        {
         "dtype": "object",
         "name": "vent_hist",
         "stats": {
          "categories": [
           {
            "count": 2,
            "name": "No"
           }
          ],
          "nan_count": 0,
          "unique_count": 1
         }
        },
        {
         "dtype": "object",
         "name": "renal_issue",
         "stats": {
          "categories": [
           {
            "count": 1,
            "name": "No"
           },
           {
            "count": 1,
            "name": "Missing"
           }
          ],
          "nan_count": 1,
          "unique_count": 1
         }
        },
        {
         "dtype": "object",
         "name": "pulm_severe",
         "stats": {
          "categories": [
           {
            "count": 1,
            "name": "No"
           },
           {
            "count": 1,
            "name": "Missing"
           }
          ],
          "nan_count": 1,
          "unique_count": 1
         }
        },
        {
         "dtype": "object",
         "name": "prim_disease_hct",
         "stats": {
          "categories": [
           {
            "count": 1,
            "name": "ALL"
           },
           {
            "count": 1,
            "name": "IEA"
           }
          ],
          "nan_count": 0,
          "unique_count": 2
         }
        },
        {
         "dtype": "float64",
         "name": "hla_high_res_6",
         "stats": {
          "histogram": [
           {
            "bin_end": 3.3,
            "bin_start": 3,
            "count": 1
           },
           {
            "bin_end": 3.6,
            "bin_start": 3.3,
            "count": 0
           },
           {
            "bin_end": 3.9,
            "bin_start": 3.6,
            "count": 0
           },
           {
            "bin_end": 4.2,
            "bin_start": 3.9,
            "count": 0
           },
           {
            "bin_end": 4.5,
            "bin_start": 4.2,
            "count": 0
           },
           {
            "bin_end": 4.8,
            "bin_start": 4.5,
            "count": 0
           },
           {
            "bin_end": 5.1,
            "bin_start": 4.8,
            "count": 0
           },
           {
            "bin_end": 5.4,
            "bin_start": 5.1,
            "count": 0
           },
           {
            "bin_end": 5.699999999999999,
            "bin_start": 5.4,
            "count": 0
           },
           {
            "bin_end": 6,
            "bin_start": 5.699999999999999,
            "count": 1
           }
          ],
          "max": "6.0",
          "min": "3.0",
          "nan_count": 0,
          "unique_count": 2
         }
        },
        {
         "dtype": "object",
         "name": "cmv_status",
         "stats": {
          "categories": [
           {
            "count": 2,
            "name": "+/+"
           }
          ],
          "nan_count": 0,
          "unique_count": 1
         }
        },
        {
         "dtype": "float64",
         "name": "hla_high_res_10",
         "stats": {
          "histogram": [
           {
            "bin_end": 8.6,
            "bin_start": 8.5,
            "count": 0
           },
           {
            "bin_end": 8.7,
            "bin_start": 8.6,
            "count": 0
           },
           {
            "bin_end": 8.8,
            "bin_start": 8.7,
            "count": 0
           },
           {
            "bin_end": 8.9,
            "bin_start": 8.8,
            "count": 0
           },
           {
            "bin_end": 9,
            "bin_start": 8.9,
            "count": 0
           },
           {
            "bin_end": 9.1,
            "bin_start": 9,
            "count": 1
           },
           {
            "bin_end": 9.2,
            "bin_start": 9.1,
            "count": 0
           },
           {
            "bin_end": 9.3,
            "bin_start": 9.2,
            "count": 0
           },
           {
            "bin_end": 9.4,
            "bin_start": 9.3,
            "count": 0
           },
           {
            "bin_end": 9.5,
            "bin_start": 9.4,
            "count": 0
           }
          ],
          "max": "9.0",
          "min": "9.0",
          "nan_count": 1,
          "unique_count": 1
         }
        },
        {
         "dtype": "float64",
         "name": "hla_match_dqb1_high",
         "stats": {
          "histogram": [
           {
            "bin_end": 0.6,
            "bin_start": 0.5,
            "count": 0
           },
           {
            "bin_end": 0.7,
            "bin_start": 0.6,
            "count": 0
           },
           {
            "bin_end": 0.8,
            "bin_start": 0.7,
            "count": 0
           },
           {
            "bin_end": 0.9,
            "bin_start": 0.8,
            "count": 0
           },
           {
            "bin_end": 1,
            "bin_start": 0.9,
            "count": 0
           },
           {
            "bin_end": 1.1,
            "bin_start": 1,
            "count": 1
           },
           {
            "bin_end": 1.2000000000000002,
            "bin_start": 1.1,
            "count": 0
           },
           {
            "bin_end": 1.3,
            "bin_start": 1.2000000000000002,
            "count": 0
           },
           {
            "bin_end": 1.4,
            "bin_start": 1.3,
            "count": 0
           },
           {
            "bin_end": 1.5,
            "bin_start": 1.4,
            "count": 0
           }
          ],
          "max": "1.0",
          "min": "1.0",
          "nan_count": 1,
          "unique_count": 1
         }
        },
        {
         "dtype": "object",
         "name": "tce_imm_match",
         "stats": {
          "categories": [
           {
            "count": 1,
            "name": "P/P"
           },
           {
            "count": 1,
            "name": "Missing"
           }
          ],
          "nan_count": 1,
          "unique_count": 1
         }
        },
        {
         "dtype": "float64",
         "name": "hla_nmdp_6",
         "stats": {
          "histogram": [
           {
            "bin_end": 3.3,
            "bin_start": 3,
            "count": 1
           },
           {
            "bin_end": 3.6,
            "bin_start": 3.3,
            "count": 0
           },
           {
            "bin_end": 3.9,
            "bin_start": 3.6,
            "count": 0
           },
           {
            "bin_end": 4.2,
            "bin_start": 3.9,
            "count": 0
           },
           {
            "bin_end": 4.5,
            "bin_start": 4.2,
            "count": 0
           },
           {
            "bin_end": 4.8,
            "bin_start": 4.5,
            "count": 0
           },
           {
            "bin_end": 5.1,
            "bin_start": 4.8,
            "count": 0
           },
           {
            "bin_end": 5.4,
            "bin_start": 5.1,
            "count": 0
           },
           {
            "bin_end": 5.699999999999999,
            "bin_start": 5.4,
            "count": 0
           },
           {
            "bin_end": 6,
            "bin_start": 5.699999999999999,
            "count": 1
           }
          ],
          "max": "6.0",
          "min": "3.0",
          "nan_count": 0,
          "unique_count": 2
         }
        },
        {
         "dtype": "float64",
         "name": "hla_match_c_low",
         "stats": {
          "histogram": [
           {
            "bin_end": 1.6,
            "bin_start": 1.5,
            "count": 0
           },
           {
            "bin_end": 1.7,
            "bin_start": 1.6,
            "count": 0
           },
           {
            "bin_end": 1.8,
            "bin_start": 1.7,
            "count": 0
           },
           {
            "bin_end": 1.9,
            "bin_start": 1.8,
            "count": 0
           },
           {
            "bin_end": 2,
            "bin_start": 1.9,
            "count": 0
           },
           {
            "bin_end": 2.1,
            "bin_start": 2,
            "count": 2
           },
           {
            "bin_end": 2.2,
            "bin_start": 2.1,
            "count": 0
           },
           {
            "bin_end": 2.3,
            "bin_start": 2.2,
            "count": 0
           },
           {
            "bin_end": 2.4,
            "bin_start": 2.3,
            "count": 0
           },
           {
            "bin_end": 2.5,
            "bin_start": 2.4,
            "count": 0
           }
          ],
          "max": "2.0",
          "min": "2.0",
          "nan_count": 0,
          "unique_count": 1
         }
        },
        {
         "dtype": "object",
         "name": "rituximab",
         "stats": {
          "categories": [
           {
            "count": 1,
            "name": "No"
           },
           {
            "count": 1,
            "name": "Missing"
           }
          ],
          "nan_count": 1,
          "unique_count": 1
         }
        },
        {
         "dtype": "float64",
         "name": "hla_match_drb1_low",
         "stats": {
          "histogram": [
           {
            "bin_end": 1.6,
            "bin_start": 1.5,
            "count": 0
           },
           {
            "bin_end": 1.7,
            "bin_start": 1.6,
            "count": 0
           },
           {
            "bin_end": 1.8,
            "bin_start": 1.7,
            "count": 0
           },
           {
            "bin_end": 1.9,
            "bin_start": 1.8,
            "count": 0
           },
           {
            "bin_end": 2,
            "bin_start": 1.9,
            "count": 0
           },
           {
            "bin_end": 2.1,
            "bin_start": 2,
            "count": 2
           },
           {
            "bin_end": 2.2,
            "bin_start": 2.1,
            "count": 0
           },
           {
            "bin_end": 2.3,
            "bin_start": 2.2,
            "count": 0
           },
           {
            "bin_end": 2.4,
            "bin_start": 2.3,
            "count": 0
           },
           {
            "bin_end": 2.5,
            "bin_start": 2.4,
            "count": 0
           }
          ],
          "max": "2.0",
          "min": "2.0",
          "nan_count": 0,
          "unique_count": 1
         }
        },
        {
         "dtype": "float64",
         "name": "hla_match_dqb1_low",
         "stats": {
          "histogram": [
           {
            "bin_end": 1.6,
            "bin_start": 1.5,
            "count": 0
           },
           {
            "bin_end": 1.7,
            "bin_start": 1.6,
            "count": 0
           },
           {
            "bin_end": 1.8,
            "bin_start": 1.7,
            "count": 0
           },
           {
            "bin_end": 1.9,
            "bin_start": 1.8,
            "count": 0
           },
           {
            "bin_end": 2,
            "bin_start": 1.9,
            "count": 0
           },
           {
            "bin_end": 2.1,
            "bin_start": 2,
            "count": 1
           },
           {
            "bin_end": 2.2,
            "bin_start": 2.1,
            "count": 0
           },
           {
            "bin_end": 2.3,
            "bin_start": 2.2,
            "count": 0
           },
           {
            "bin_end": 2.4,
            "bin_start": 2.3,
            "count": 0
           },
           {
            "bin_end": 2.5,
            "bin_start": 2.4,
            "count": 0
           }
          ],
          "max": "2.0",
          "min": "2.0",
          "nan_count": 1,
          "unique_count": 1
         }
        },
        {
         "dtype": "object",
         "name": "prod_type",
         "stats": {
          "categories": [
           {
            "count": 1,
            "name": "PB"
           },
           {
            "count": 1,
            "name": "BM"
           }
          ],
          "nan_count": 0,
          "unique_count": 2
         }
        },
        {
         "dtype": "object",
         "name": "cyto_score_detail",
         "stats": {
          "categories": [
           {
            "count": 2,
            "name": "Missing"
           }
          ],
          "nan_count": 2,
          "unique_count": 0
         }
        },
        {
         "dtype": "object",
         "name": "conditioning_intensity",
         "stats": {
          "categories": [
           {
            "count": 1,
            "name": "RIC"
           },
           {
            "count": 1,
            "name": "Missing"
           }
          ],
          "nan_count": 1,
          "unique_count": 1
         }
        },
        {
         "dtype": "object",
         "name": "ethnicity",
         "stats": {
          "categories": [
           {
            "count": 2,
            "name": "Not Hispanic or Latino"
           }
          ],
          "nan_count": 0,
          "unique_count": 1
         }
        },
        {
         "dtype": "int64",
         "name": "year_hct",
         "stats": {
          "histogram": [
           {
            "bin_end": 2019.6,
            "bin_start": 2019.5,
            "count": 0
           },
           {
            "bin_end": 2019.7,
            "bin_start": 2019.6,
            "count": 0
           },
           {
            "bin_end": 2019.8,
            "bin_start": 2019.7,
            "count": 0
           },
           {
            "bin_end": 2019.9,
            "bin_start": 2019.8,
            "count": 0
           },
           {
            "bin_end": 2020,
            "bin_start": 2019.9,
            "count": 0
           },
           {
            "bin_end": 2020.1,
            "bin_start": 2020,
            "count": 2
           },
           {
            "bin_end": 2020.2,
            "bin_start": 2020.1,
            "count": 0
           },
           {
            "bin_end": 2020.3,
            "bin_start": 2020.2,
            "count": 0
           },
           {
            "bin_end": 2020.4,
            "bin_start": 2020.3,
            "count": 0
           },
           {
            "bin_end": 2020.5,
            "bin_start": 2020.4,
            "count": 0
           }
          ],
          "max": "2020",
          "min": "2020",
          "nan_count": 0,
          "unique_count": 1
         }
        },
        {
         "dtype": "object",
         "name": "obesity",
         "stats": {
          "categories": [
           {
            "count": 1,
            "name": "No"
           },
           {
            "count": 1,
            "name": "Missing"
           }
          ],
          "nan_count": 1,
          "unique_count": 1
         }
        },
        {
         "dtype": "object",
         "name": "mrd_hct",
         "stats": {
          "categories": [
           {
            "count": 1,
            "name": "Negative"
           },
           {
            "count": 1,
            "name": "Missing"
           }
          ],
          "nan_count": 1,
          "unique_count": 1
         }
        },
        {
         "dtype": "object",
         "name": "in_vivo_tcd",
         "stats": {
          "categories": [
           {
            "count": 2,
            "name": "No"
           }
          ],
          "nan_count": 0,
          "unique_count": 1
         }
        },
        {
         "dtype": "object",
         "name": "tce_match",
         "stats": {
          "categories": [
           {
            "count": 2,
            "name": "Missing"
           }
          ],
          "nan_count": 2,
          "unique_count": 0
         }
        },
        {
         "dtype": "float64",
         "name": "hla_match_a_high",
         "stats": {
          "histogram": [
           {
            "bin_end": 1.1,
            "bin_start": 1,
            "count": 1
           },
           {
            "bin_end": 1.2,
            "bin_start": 1.1,
            "count": 0
           },
           {
            "bin_end": 1.3,
            "bin_start": 1.2,
            "count": 0
           },
           {
            "bin_end": 1.4,
            "bin_start": 1.3,
            "count": 0
           },
           {
            "bin_end": 1.5,
            "bin_start": 1.4,
            "count": 0
           },
           {
            "bin_end": 1.6,
            "bin_start": 1.5,
            "count": 0
           },
           {
            "bin_end": 1.7000000000000002,
            "bin_start": 1.6,
            "count": 0
           },
           {
            "bin_end": 1.8,
            "bin_start": 1.7000000000000002,
            "count": 0
           },
           {
            "bin_end": 1.9,
            "bin_start": 1.8,
            "count": 0
           },
           {
            "bin_end": 2,
            "bin_start": 1.9,
            "count": 1
           }
          ],
          "max": "2.0",
          "min": "1.0",
          "nan_count": 0,
          "unique_count": 2
         }
        },
        {
         "dtype": "object",
         "name": "hepatic_severe",
         "stats": {
          "categories": [
           {
            "count": 1,
            "name": "No"
           },
           {
            "count": 1,
            "name": "Missing"
           }
          ],
          "nan_count": 1,
          "unique_count": 1
         }
        },
        {
         "dtype": "float64",
         "name": "donor_age",
         "stats": {
          "histogram": [
           {
            "bin_end": 33.656,
            "bin_start": 33.556,
            "count": 0
           },
           {
            "bin_end": 33.756,
            "bin_start": 33.656,
            "count": 0
           },
           {
            "bin_end": 33.855999999999995,
            "bin_start": 33.756,
            "count": 0
           },
           {
            "bin_end": 33.955999999999996,
            "bin_start": 33.855999999999995,
            "count": 0
           },
           {
            "bin_end": 34.056,
            "bin_start": 33.955999999999996,
            "count": 0
           },
           {
            "bin_end": 34.156,
            "bin_start": 34.056,
            "count": 1
           },
           {
            "bin_end": 34.256,
            "bin_start": 34.156,
            "count": 0
           },
           {
            "bin_end": 34.355999999999995,
            "bin_start": 34.256,
            "count": 0
           },
           {
            "bin_end": 34.455999999999996,
            "bin_start": 34.355999999999995,
            "count": 0
           },
           {
            "bin_end": 34.556,
            "bin_start": 34.455999999999996,
            "count": 0
           }
          ],
          "max": "34.056",
          "min": "34.056",
          "nan_count": 1,
          "unique_count": 1
         }
        },
        {
         "dtype": "object",
         "name": "prior_tumor",
         "stats": {
          "categories": [
           {
            "count": 2,
            "name": "No"
           }
          ],
          "nan_count": 0,
          "unique_count": 1
         }
        },
        {
         "dtype": "float64",
         "name": "hla_match_b_low",
         "stats": {
          "histogram": [
           {
            "bin_end": 1.1,
            "bin_start": 1,
            "count": 1
           },
           {
            "bin_end": 1.2,
            "bin_start": 1.1,
            "count": 0
           },
           {
            "bin_end": 1.3,
            "bin_start": 1.2,
            "count": 0
           },
           {
            "bin_end": 1.4,
            "bin_start": 1.3,
            "count": 0
           },
           {
            "bin_end": 1.5,
            "bin_start": 1.4,
            "count": 0
           },
           {
            "bin_end": 1.6,
            "bin_start": 1.5,
            "count": 0
           },
           {
            "bin_end": 1.7000000000000002,
            "bin_start": 1.6,
            "count": 0
           },
           {
            "bin_end": 1.8,
            "bin_start": 1.7000000000000002,
            "count": 0
           },
           {
            "bin_end": 1.9,
            "bin_start": 1.8,
            "count": 0
           },
           {
            "bin_end": 2,
            "bin_start": 1.9,
            "count": 1
           }
          ],
          "max": "2.0",
          "min": "1.0",
          "nan_count": 0,
          "unique_count": 2
         }
        },
        {
         "dtype": "object",
         "name": "peptic_ulcer",
         "stats": {
          "categories": [
           {
            "count": 1,
            "name": "No"
           },
           {
            "count": 1,
            "name": "Missing"
           }
          ],
          "nan_count": 1,
          "unique_count": 1
         }
        },
        {
         "dtype": "float64",
         "name": "age_at_hct",
         "stats": {
          "histogram": [
           {
            "bin_end": 15.0809,
            "bin_start": 10.578,
            "count": 1
           },
           {
            "bin_end": 19.583799999999997,
            "bin_start": 15.0809,
            "count": 0
           },
           {
            "bin_end": 24.086699999999997,
            "bin_start": 19.583799999999997,
            "count": 0
           },
           {
            "bin_end": 28.589599999999997,
            "bin_start": 24.086699999999997,
            "count": 0
           },
           {
            "bin_end": 33.0925,
            "bin_start": 28.589599999999997,
            "count": 0
           },
           {
            "bin_end": 37.5954,
            "bin_start": 33.0925,
            "count": 0
           },
           {
            "bin_end": 42.098299999999995,
            "bin_start": 37.5954,
            "count": 0
           },
           {
            "bin_end": 46.60119999999999,
            "bin_start": 42.098299999999995,
            "count": 0
           },
           {
            "bin_end": 51.10409999999999,
            "bin_start": 46.60119999999999,
            "count": 0
           },
           {
            "bin_end": 55.607,
            "bin_start": 51.10409999999999,
            "count": 1
           }
          ],
          "max": "55.607",
          "min": "10.578",
          "nan_count": 0,
          "unique_count": 2
         }
        },
        {
         "dtype": "float64",
         "name": "hla_match_a_low",
         "stats": {
          "histogram": [
           {
            "bin_end": 1.6,
            "bin_start": 1.5,
            "count": 0
           },
           {
            "bin_end": 1.7,
            "bin_start": 1.6,
            "count": 0
           },
           {
            "bin_end": 1.8,
            "bin_start": 1.7,
            "count": 0
           },
           {
            "bin_end": 1.9,
            "bin_start": 1.8,
            "count": 0
           },
           {
            "bin_end": 2,
            "bin_start": 1.9,
            "count": 0
           },
           {
            "bin_end": 2.1,
            "bin_start": 2,
            "count": 1
           },
           {
            "bin_end": 2.2,
            "bin_start": 2.1,
            "count": 0
           },
           {
            "bin_end": 2.3,
            "bin_start": 2.2,
            "count": 0
           },
           {
            "bin_end": 2.4,
            "bin_start": 2.3,
            "count": 0
           },
           {
            "bin_end": 2.5,
            "bin_start": 2.4,
            "count": 0
           }
          ],
          "max": "2.0",
          "min": "2.0",
          "nan_count": 1,
          "unique_count": 1
         }
        },
        {
         "dtype": "object",
         "name": "gvhd_proph",
         "stats": {
          "categories": [
           {
            "count": 1,
            "name": "Cyclophosphamide alone"
           },
           {
            "count": 1,
            "name": "CSA + MMF +- others(not FK)"
           }
          ],
          "nan_count": 0,
          "unique_count": 2
         }
        },
        {
         "dtype": "object",
         "name": "rheum_issue",
         "stats": {
          "categories": [
           {
            "count": 1,
            "name": "No"
           },
           {
            "count": 1,
            "name": "Missing"
           }
          ],
          "nan_count": 1,
          "unique_count": 1
         }
        },
        {
         "dtype": "object",
         "name": "sex_match",
         "stats": {
          "categories": [
           {
            "count": 2,
            "name": "F-M"
           }
          ],
          "nan_count": 0,
          "unique_count": 1
         }
        },
        {
         "dtype": "float64",
         "name": "hla_match_b_high",
         "stats": {
          "histogram": [
           {
            "bin_end": 1.1,
            "bin_start": 1,
            "count": 1
           },
           {
            "bin_end": 1.2,
            "bin_start": 1.1,
            "count": 0
           },
           {
            "bin_end": 1.3,
            "bin_start": 1.2,
            "count": 0
           },
           {
            "bin_end": 1.4,
            "bin_start": 1.3,
            "count": 0
           },
           {
            "bin_end": 1.5,
            "bin_start": 1.4,
            "count": 0
           },
           {
            "bin_end": 1.6,
            "bin_start": 1.5,
            "count": 0
           },
           {
            "bin_end": 1.7000000000000002,
            "bin_start": 1.6,
            "count": 0
           },
           {
            "bin_end": 1.8,
            "bin_start": 1.7000000000000002,
            "count": 0
           },
           {
            "bin_end": 1.9,
            "bin_start": 1.8,
            "count": 0
           },
           {
            "bin_end": 2,
            "bin_start": 1.9,
            "count": 1
           }
          ],
          "max": "2.0",
          "min": "1.0",
          "nan_count": 0,
          "unique_count": 2
         }
        },
        {
         "dtype": "object",
         "name": "race_group",
         "stats": {
          "categories": [
           {
            "count": 1,
            "name": "Native Hawaiian or other Pacific Islander"
           },
           {
            "count": 1,
            "name": "More than one race"
           }
          ],
          "nan_count": 0,
          "unique_count": 2
         }
        },
        {
         "dtype": "float64",
         "name": "comorbidity_score",
         "stats": {
          "histogram": [
           {
            "bin_end": 2.1,
            "bin_start": 2,
            "count": 1
           },
           {
            "bin_end": 2.2,
            "bin_start": 2.1,
            "count": 0
           },
           {
            "bin_end": 2.3,
            "bin_start": 2.2,
            "count": 0
           },
           {
            "bin_end": 2.4,
            "bin_start": 2.3,
            "count": 0
           },
           {
            "bin_end": 2.5,
            "bin_start": 2.4,
            "count": 0
           },
           {
            "bin_end": 2.6,
            "bin_start": 2.5,
            "count": 0
           },
           {
            "bin_end": 2.7,
            "bin_start": 2.6,
            "count": 0
           },
           {
            "bin_end": 2.8,
            "bin_start": 2.7,
            "count": 0
           },
           {
            "bin_end": 2.9,
            "bin_start": 2.8,
            "count": 0
           },
           {
            "bin_end": 3,
            "bin_start": 2.9,
            "count": 1
           }
          ],
          "max": "3.0",
          "min": "2.0",
          "nan_count": 0,
          "unique_count": 2
         }
        },
        {
         "dtype": "float64",
         "name": "karnofsky_score",
         "stats": {
          "histogram": [
           {
            "bin_end": 89.6,
            "bin_start": 89.5,
            "count": 0
           },
           {
            "bin_end": 89.7,
            "bin_start": 89.6,
            "count": 0
           },
           {
            "bin_end": 89.8,
            "bin_start": 89.7,
            "count": 0
           },
           {
            "bin_end": 89.9,
            "bin_start": 89.8,
            "count": 0
           },
           {
            "bin_end": 90,
            "bin_start": 89.9,
            "count": 0
           },
           {
            "bin_end": 90.1,
            "bin_start": 90,
            "count": 2
           },
           {
            "bin_end": 90.2,
            "bin_start": 90.1,
            "count": 0
           },
           {
            "bin_end": 90.3,
            "bin_start": 90.2,
            "count": 0
           },
           {
            "bin_end": 90.4,
            "bin_start": 90.3,
            "count": 0
           },
           {
            "bin_end": 90.5,
            "bin_start": 90.4,
            "count": 0
           }
          ],
          "max": "90.0",
          "min": "90.0",
          "nan_count": 0,
          "unique_count": 1
         }
        },
        {
         "dtype": "object",
         "name": "hepatic_mild",
         "stats": {
          "categories": [
           {
            "count": 1,
            "name": "No"
           },
           {
            "count": 1,
            "name": "Missing"
           }
          ],
          "nan_count": 1,
          "unique_count": 1
         }
        },
        {
         "dtype": "object",
         "name": "tce_div_match",
         "stats": {
          "categories": [
           {
            "count": 1,
            "name": "Permissive mismatched"
           },
           {
            "count": 1,
            "name": "Missing"
           }
          ],
          "nan_count": 1,
          "unique_count": 1
         }
        },
        {
         "dtype": "object",
         "name": "donor_related",
         "stats": {
          "categories": [
           {
            "count": 2,
            "name": "Related"
           }
          ],
          "nan_count": 0,
          "unique_count": 1
         }
        },
        {
         "dtype": "object",
         "name": "melphalan_dose",
         "stats": {
          "categories": [
           {
            "count": 1,
            "name": "N/A, Mel not given"
           },
           {
            "count": 1,
            "name": "Missing"
           }
          ],
          "nan_count": 1,
          "unique_count": 1
         }
        },
        {
         "dtype": "float64",
         "name": "hla_low_res_8",
         "stats": {
          "histogram": [
           {
            "bin_end": 7.6,
            "bin_start": 7.5,
            "count": 0
           },
           {
            "bin_end": 7.7,
            "bin_start": 7.6,
            "count": 0
           },
           {
            "bin_end": 7.8,
            "bin_start": 7.7,
            "count": 0
           },
           {
            "bin_end": 7.9,
            "bin_start": 7.8,
            "count": 0
           },
           {
            "bin_end": 8,
            "bin_start": 7.9,
            "count": 0
           },
           {
            "bin_end": 8.1,
            "bin_start": 8,
            "count": 1
           },
           {
            "bin_end": 8.2,
            "bin_start": 8.1,
            "count": 0
           },
           {
            "bin_end": 8.3,
            "bin_start": 8.2,
            "count": 0
           },
           {
            "bin_end": 8.4,
            "bin_start": 8.3,
            "count": 0
           },
           {
            "bin_end": 8.5,
            "bin_start": 8.4,
            "count": 0
           }
          ],
          "max": "8.0",
          "min": "8.0",
          "nan_count": 1,
          "unique_count": 1
         }
        },
        {
         "dtype": "object",
         "name": "cardiac",
         "stats": {
          "categories": [
           {
            "count": 1,
            "name": "No"
           },
           {
            "count": 1,
            "name": "Missing"
           }
          ],
          "nan_count": 1,
          "unique_count": 1
         }
        },
        {
         "dtype": "float64",
         "name": "hla_match_drb1_high",
         "stats": {
          "histogram": [
           {
            "bin_end": 1.1,
            "bin_start": 1,
            "count": 1
           },
           {
            "bin_end": 1.2,
            "bin_start": 1.1,
            "count": 0
           },
           {
            "bin_end": 1.3,
            "bin_start": 1.2,
            "count": 0
           },
           {
            "bin_end": 1.4,
            "bin_start": 1.3,
            "count": 0
           },
           {
            "bin_end": 1.5,
            "bin_start": 1.4,
            "count": 0
           },
           {
            "bin_end": 1.6,
            "bin_start": 1.5,
            "count": 0
           },
           {
            "bin_end": 1.7000000000000002,
            "bin_start": 1.6,
            "count": 0
           },
           {
            "bin_end": 1.8,
            "bin_start": 1.7000000000000002,
            "count": 0
           },
           {
            "bin_end": 1.9,
            "bin_start": 1.8,
            "count": 0
           },
           {
            "bin_end": 2,
            "bin_start": 1.9,
            "count": 1
           }
          ],
          "max": "2.0",
          "min": "1.0",
          "nan_count": 0,
          "unique_count": 2
         }
        },
        {
         "dtype": "object",
         "name": "pulm_moderate",
         "stats": {
          "categories": [
           {
            "count": 2,
            "name": "No"
           }
          ],
          "nan_count": 0,
          "unique_count": 1
         }
        },
        {
         "dtype": "float64",
         "name": "hla_low_res_10",
         "stats": {
          "histogram": [
           {
            "bin_end": 9.6,
            "bin_start": 9.5,
            "count": 0
           },
           {
            "bin_end": 9.7,
            "bin_start": 9.6,
            "count": 0
           },
           {
            "bin_end": 9.8,
            "bin_start": 9.7,
            "count": 0
           },
           {
            "bin_end": 9.9,
            "bin_start": 9.8,
            "count": 0
           },
           {
            "bin_end": 10,
            "bin_start": 9.9,
            "count": 0
           },
           {
            "bin_end": 10.1,
            "bin_start": 10,
            "count": 1
           },
           {
            "bin_end": 10.2,
            "bin_start": 10.1,
            "count": 0
           },
           {
            "bin_end": 10.3,
            "bin_start": 10.2,
            "count": 0
           },
           {
            "bin_end": 10.4,
            "bin_start": 10.3,
            "count": 0
           },
           {
            "bin_end": 10.5,
            "bin_start": 10.4,
            "count": 0
           }
          ],
          "max": "10.0",
          "min": "10.0",
          "nan_count": 1,
          "unique_count": 1
         }
        },
        {
         "dtype": "float64",
         "name": "efs",
         "stats": {
          "histogram": [
           {
            "bin_end": -0.4,
            "bin_start": -0.5,
            "count": 0
           },
           {
            "bin_end": -0.3,
            "bin_start": -0.4,
            "count": 0
           },
           {
            "bin_end": -0.19999999999999996,
            "bin_start": -0.3,
            "count": 0
           },
           {
            "bin_end": -0.09999999999999998,
            "bin_start": -0.19999999999999996,
            "count": 0
           },
           {
            "bin_end": 0,
            "bin_start": -0.09999999999999998,
            "count": 0
           },
           {
            "bin_end": 0.10000000000000009,
            "bin_start": 0,
            "count": 2
           },
           {
            "bin_end": 0.20000000000000007,
            "bin_start": 0.10000000000000009,
            "count": 0
           },
           {
            "bin_end": 0.30000000000000004,
            "bin_start": 0.20000000000000007,
            "count": 0
           },
           {
            "bin_end": 0.4,
            "bin_start": 0.30000000000000004,
            "count": 0
           },
           {
            "bin_end": 0.5,
            "bin_start": 0.4,
            "count": 0
           }
          ],
          "max": "0.0",
          "min": "0.0",
          "nan_count": 0,
          "unique_count": 1
         }
        },
        {
         "dtype": "float64",
         "name": "efs_time",
         "stats": {
          "histogram": [
           {
            "bin_end": 11.7674,
            "bin_start": 11.709,
            "count": 1
           },
           {
            "bin_end": 11.8258,
            "bin_start": 11.7674,
            "count": 0
           },
           {
            "bin_end": 11.8842,
            "bin_start": 11.8258,
            "count": 0
           },
           {
            "bin_end": 11.942599999999999,
            "bin_start": 11.8842,
            "count": 0
           },
           {
            "bin_end": 12.001,
            "bin_start": 11.942599999999999,
            "count": 0
           },
           {
            "bin_end": 12.0594,
            "bin_start": 12.001,
            "count": 0
           },
           {
            "bin_end": 12.117799999999999,
            "bin_start": 12.0594,
            "count": 0
           },
           {
            "bin_end": 12.1762,
            "bin_start": 12.117799999999999,
            "count": 0
           },
           {
            "bin_end": 12.234599999999999,
            "bin_start": 12.1762,
            "count": 0
           },
           {
            "bin_end": 12.293,
            "bin_start": 12.234599999999999,
            "count": 1
           }
          ],
          "max": "12.293",
          "min": "11.709",
          "nan_count": 0,
          "unique_count": 2
         }
        },
        {
         "dtype": "int64",
         "name": "_deepnote_index_column"
        }
       ],
       "row_count": 2,
       "rows": [
        {
         "ID": 9747,
         "_deepnote_index_column": 9747,
         "age_at_hct": 55.607,
         "arrhythmia": "No",
         "cardiac": "No",
         "cmv_status": "+/+",
         "comorbidity_score": 3,
         "conditioning_intensity": "RIC",
         "cyto_score": "TBD",
         "cyto_score_detail": "nan",
         "diabetes": "No",
         "donor_age": 34.056,
         "donor_related": "Related",
         "dri_score": "Intermediate - TED AML case <missing cytogenetics",
         "efs": 0,
         "efs_time": 11.709,
         "ethnicity": "Not Hispanic or Latino",
         "graft_type": "Peripheral blood",
         "gvhd_proph": "Cyclophosphamide alone",
         "hepatic_mild": "No",
         "hepatic_severe": "No",
         "hla_high_res_10": "nan",
         "hla_high_res_6": 3,
         "hla_high_res_8": 4,
         "hla_low_res_10": "nan",
         "hla_low_res_6": "nan",
         "hla_low_res_8": "nan",
         "hla_match_a_high": 1,
         "hla_match_a_low": "nan",
         "hla_match_b_high": 1,
         "hla_match_b_low": 1,
         "hla_match_c_high": 1,
         "hla_match_c_low": 2,
         "hla_match_dqb1_high": "nan",
         "hla_match_dqb1_low": "nan",
         "hla_match_drb1_high": 1,
         "hla_match_drb1_low": 2,
         "hla_nmdp_6": 3,
         "in_vivo_tcd": "No",
         "karnofsky_score": 90,
         "melphalan_dose": "nan",
         "mrd_hct": "Negative",
         "obesity": "No",
         "peptic_ulcer": "No",
         "prim_disease_hct": "ALL",
         "prior_tumor": "No",
         "prod_type": "PB",
         "psych_disturb": "No",
         "pulm_moderate": "No",
         "pulm_severe": "No",
         "race_group": "Native Hawaiian or other Pacific Islander",
         "renal_issue": "No",
         "rheum_issue": "No",
         "rituximab": "No",
         "sex_match": "F-M",
         "tbi_status": "TBI + Cy +- Other",
         "tce_div_match": "nan",
         "tce_imm_match": "nan",
         "tce_match": "nan",
         "vent_hist": "No",
         "year_hct": 2020
        },
        {
         "ID": 14796,
         "_deepnote_index_column": 14796,
         "age_at_hct": 10.578,
         "arrhythmia": "nan",
         "cardiac": "nan",
         "cmv_status": "+/+",
         "comorbidity_score": 2,
         "conditioning_intensity": "nan",
         "cyto_score": "nan",
         "cyto_score_detail": "nan",
         "diabetes": "No",
         "donor_age": "nan",
         "donor_related": "Related",
         "dri_score": "N/A - pediatric",
         "efs": 0,
         "efs_time": 12.293,
         "ethnicity": "Not Hispanic or Latino",
         "graft_type": "Bone marrow",
         "gvhd_proph": "CSA + MMF +- others(not FK)",
         "hepatic_mild": "nan",
         "hepatic_severe": "nan",
         "hla_high_res_10": 9,
         "hla_high_res_6": 6,
         "hla_high_res_8": 8,
         "hla_low_res_10": 10,
         "hla_low_res_6": 6,
         "hla_low_res_8": 8,
         "hla_match_a_high": 2,
         "hla_match_a_low": 2,
         "hla_match_b_high": 2,
         "hla_match_b_low": 2,
         "hla_match_c_high": 2,
         "hla_match_c_low": 2,
         "hla_match_dqb1_high": 1,
         "hla_match_dqb1_low": 2,
         "hla_match_drb1_high": 2,
         "hla_match_drb1_low": 2,
         "hla_nmdp_6": 6,
         "in_vivo_tcd": "No",
         "karnofsky_score": 90,
         "melphalan_dose": "N/A, Mel not given",
         "mrd_hct": "nan",
         "obesity": "nan",
         "peptic_ulcer": "nan",
         "prim_disease_hct": "IEA",
         "prior_tumor": "No",
         "prod_type": "BM",
         "psych_disturb": "nan",
         "pulm_moderate": "No",
         "pulm_severe": "nan",
         "race_group": "More than one race",
         "renal_issue": "nan",
         "rheum_issue": "nan",
         "rituximab": "nan",
         "sex_match": "F-M",
         "tbi_status": "No TBI",
         "tce_div_match": "Permissive mismatched",
         "tce_imm_match": "P/P",
         "tce_match": "nan",
         "vent_hist": "No",
         "year_hct": 2020
        }
       ]
      },
      "text/html": [
       "<div>\n",
       "<style scoped>\n",
       "    .dataframe tbody tr th:only-of-type {\n",
       "        vertical-align: middle;\n",
       "    }\n",
       "\n",
       "    .dataframe tbody tr th {\n",
       "        vertical-align: top;\n",
       "    }\n",
       "\n",
       "    .dataframe thead th {\n",
       "        text-align: right;\n",
       "    }\n",
       "</style>\n",
       "<table border=\"1\" class=\"dataframe\">\n",
       "  <thead>\n",
       "    <tr style=\"text-align: right;\">\n",
       "      <th></th>\n",
       "      <th>ID</th>\n",
       "      <th>dri_score</th>\n",
       "      <th>psych_disturb</th>\n",
       "      <th>cyto_score</th>\n",
       "      <th>diabetes</th>\n",
       "      <th>hla_match_c_high</th>\n",
       "      <th>hla_high_res_8</th>\n",
       "      <th>tbi_status</th>\n",
       "      <th>arrhythmia</th>\n",
       "      <th>hla_low_res_6</th>\n",
       "      <th>...</th>\n",
       "      <th>tce_div_match</th>\n",
       "      <th>donor_related</th>\n",
       "      <th>melphalan_dose</th>\n",
       "      <th>hla_low_res_8</th>\n",
       "      <th>cardiac</th>\n",
       "      <th>hla_match_drb1_high</th>\n",
       "      <th>pulm_moderate</th>\n",
       "      <th>hla_low_res_10</th>\n",
       "      <th>efs</th>\n",
       "      <th>efs_time</th>\n",
       "    </tr>\n",
       "  </thead>\n",
       "  <tbody>\n",
       "    <tr>\n",
       "      <th>9747</th>\n",
       "      <td>9747</td>\n",
       "      <td>Intermediate - TED AML case &lt;missing cytogenetics</td>\n",
       "      <td>No</td>\n",
       "      <td>TBD</td>\n",
       "      <td>No</td>\n",
       "      <td>1.0</td>\n",
       "      <td>4.0</td>\n",
       "      <td>TBI + Cy +- Other</td>\n",
       "      <td>No</td>\n",
       "      <td>NaN</td>\n",
       "      <td>...</td>\n",
       "      <td>NaN</td>\n",
       "      <td>Related</td>\n",
       "      <td>NaN</td>\n",
       "      <td>NaN</td>\n",
       "      <td>No</td>\n",
       "      <td>1.0</td>\n",
       "      <td>No</td>\n",
       "      <td>NaN</td>\n",
       "      <td>0.0</td>\n",
       "      <td>11.709</td>\n",
       "    </tr>\n",
       "    <tr>\n",
       "      <th>14796</th>\n",
       "      <td>14796</td>\n",
       "      <td>N/A - pediatric</td>\n",
       "      <td>NaN</td>\n",
       "      <td>NaN</td>\n",
       "      <td>No</td>\n",
       "      <td>2.0</td>\n",
       "      <td>8.0</td>\n",
       "      <td>No TBI</td>\n",
       "      <td>NaN</td>\n",
       "      <td>6.0</td>\n",
       "      <td>...</td>\n",
       "      <td>Permissive mismatched</td>\n",
       "      <td>Related</td>\n",
       "      <td>N/A, Mel not given</td>\n",
       "      <td>8.0</td>\n",
       "      <td>NaN</td>\n",
       "      <td>2.0</td>\n",
       "      <td>No</td>\n",
       "      <td>10.0</td>\n",
       "      <td>0.0</td>\n",
       "      <td>12.293</td>\n",
       "    </tr>\n",
       "  </tbody>\n",
       "</table>\n",
       "<p>2 rows × 60 columns</p>\n",
       "</div>"
      ],
      "text/plain": [
       "          ID                                          dri_score psych_disturb  \\\n",
       "9747    9747  Intermediate - TED AML case <missing cytogenetics            No   \n",
       "14796  14796                                    N/A - pediatric           NaN   \n",
       "\n",
       "      cyto_score diabetes  hla_match_c_high  hla_high_res_8  \\\n",
       "9747         TBD       No               1.0             4.0   \n",
       "14796        NaN       No               2.0             8.0   \n",
       "\n",
       "              tbi_status arrhythmia  hla_low_res_6  ...  \\\n",
       "9747   TBI + Cy +- Other         No            NaN  ...   \n",
       "14796             No TBI        NaN            6.0  ...   \n",
       "\n",
       "               tce_div_match donor_related      melphalan_dose hla_low_res_8  \\\n",
       "9747                     NaN       Related                 NaN           NaN   \n",
       "14796  Permissive mismatched       Related  N/A, Mel not given           8.0   \n",
       "\n",
       "      cardiac  hla_match_drb1_high pulm_moderate  hla_low_res_10  efs efs_time  \n",
       "9747       No                  1.0            No             NaN  0.0   11.709  \n",
       "14796     NaN                  2.0            No            10.0  0.0   12.293  \n",
       "\n",
       "[2 rows x 60 columns]"
      ]
     },
     "execution_count": 8,
     "metadata": {},
     "output_type": "execute_result"
    }
   ],
   "source": [
    "train.loc[(train.efs == 0) & (train.year_hct >= 2020)]"
   ]
  },
  {
   "cell_type": "code",
   "execution_count": 9,
   "metadata": {
    "cell_id": "53fe8df5ba2a4fac91d38541a2b72de2",
    "deepnote_app_block_visible": true,
    "deepnote_app_is_code_hidden": false,
    "deepnote_app_is_output_hidden": false,
    "deepnote_cell_type": "code",
    "execution_context_id": "253f212a-52c9-4a6a-a70e-bf980c65b184",
    "execution_millis": 344,
    "execution_start": 1738762368592,
    "source_hash": "96784c9d"
   },
   "outputs": [
    {
     "data": {
      "image/png": "[encoded data removed]",
      "text/plain": [
       "<Figure size 1200x500 with 1 Axes>"
      ]
     },
     "metadata": {
      "image/png": {
       "height": 470,
       "width": 1014
      }
     },
     "output_type": "display_data"
    }
   ],
   "source": [
    "# Define the bin edges\n",
    "bins = np.arange(train['year_hct'].min(), train['year_hct'].max() + 1, 3)\n",
    "labels = [f\"{bins[i]}-{bins[i+1]-1}\" for i in range(len(bins)-1)]\n",
    "\n",
    "# Use pd.cut to create a new column with the ranges\n",
    "train['range'] = pd.cut(train['year_hct'], bins, labels=labels, include_lowest=True)\n",
    "\n",
    "plt.figure(figsize=(12, 5))\n",
    "sns.histplot(data=train.loc[train.efs == 0], x='efs_time', bins=20, hue=\"range\", multiple=\"dodge\")\n",
    "max_val = train['efs_time'].max()\n",
    "xticks = np.arange(0, max_val + 1, 6)\n",
    "    \n",
    "plt.xticks(xticks)\n",
    "plt.xlabel('EFS Time (Months)')\n",
    "plt.ylabel('Count')\n",
    "plt.title('Distribution of EFS Time')\n",
    "plt.show()"
   ]
  },
  {
   "cell_type": "markdown",
   "metadata": {
    "cell_id": "8e5d717025cb4ef3802eef674fb57964",
    "deepnote_app_block_visible": true,
    "deepnote_cell_type": "text-cell-p",
    "formattedRanges": []
   },
   "source": [
    "Before everything else, let's first take a look at the race distribution of the patients:"
   ]
  },
  {
   "cell_type": "code",
   "execution_count": 10,
   "metadata": {
    "cell_id": "87f49fd135a84687beca6dbd70f23982",
    "deepnote_app_block_visible": true,
    "deepnote_app_is_code_hidden": false,
    "deepnote_app_is_output_hidden": false,
    "deepnote_cell_type": "code",
    "execution_context_id": "253f212a-52c9-4a6a-a70e-bf980c65b184",
    "execution_millis": 151,
    "execution_start": 1738762369059,
    "source_hash": "ec59571"
   },
   "outputs": [
    {
     "data": {
      "image/png": "[encoded data removed]",
      "text/plain": [
       "<Figure size 1200x400 with 1 Axes>"
      ]
     },
     "metadata": {
      "image/png": {
       "height": 566,
       "width": 1018
      }
     },
     "output_type": "display_data"
    }
   ],
   "source": [
    "plt.figure(figsize=(12, 4))\n",
    "race_counts = train['race_group'].value_counts()\n",
    "\n",
    "bars = plt.bar(race_counts.index, race_counts.values)\n",
    "plt.xlabel('Race Group')\n",
    "plt.ylabel('Count')\n",
    "plt.xticks(rotation=45)\n",
    "\n",
    "for bar in bars:\n",
    "    height = bar.get_height()\n",
    "    plt.text(bar.get_x() + bar.get_width() / 2, height, f'{int(height)}', \n",
    "             ha='center', va='bottom', fontsize=10, color='black')\n",
    "\n",
    "plt.show()"
   ]
  },
  {
   "cell_type": "markdown",
   "metadata": {
    "cell_id": "44704aa8daf64bc2a4a25a805c8c0cf9",
    "deepnote_app_block_visible": true,
    "deepnote_cell_type": "text-cell-p",
    "formattedRanges": []
   },
   "source": [
    "As we can see, the data features equal representation across recipient racial categories"
   ]
  },
  {
   "cell_type": "code",
   "execution_count": 11,
   "metadata": {
    "cell_id": "dcf514b6d5034bba8972d589d50bc0b0",
    "deepnote_app_block_visible": false,
    "deepnote_app_is_code_hidden": true,
    "deepnote_app_is_output_hidden": true,
    "deepnote_cell_type": "sql",
    "deepnote_sql_source": "SELECT *\nFROM 'data_dictionary.csv'",
    "deepnote_table_loading": false,
    "deepnote_table_state": {
     "cellFormattingRules": [],
     "columnDisplayNames": [],
     "columnOrder": [
      "column0",
      "column1",
      "column2",
      "column3"
     ],
     "conditionalFilters": [],
     "filters": [],
     "hiddenColumnIds": [],
     "pageIndex": 2,
     "pageSize": 25,
     "sortBy": [],
     "wrappedTextColumnIds": []
    },
    "deepnote_variable_name": "df_1",
    "execution_context_id": "253f212a-52c9-4a6a-a70e-bf980c65b184",
    "execution_millis": 1767,
    "execution_start": 1738762369328,
    "source_hash": "c8b6bed7",
    "sql_integration_id": "deepnote-dataframe-sql"
   },
   "outputs": [
    {
     "data": {
      "application/vnd.deepnote.dataframe.v3+json": {
       "column_count": 4,
       "columns": [
        {
         "dtype": "object",
         "name": "column0",
         "stats": {
          "categories": [
           {
            "count": 1,
            "name": "variable"
           },
           {
            "count": 1,
            "name": "dri_score"
           },
           {
            "count": 58,
            "name": "58 others"
           }
          ],
          "nan_count": 0,
          "unique_count": 60
         }
        },
        {
         "dtype": "object",
         "name": "column1",
         "stats": {
          "categories": [
           {
            "count": 2,
            "name": "T-cell epitope matching"
           },
           {
            "count": 57,
            "name": "57 others"
           },
           {
            "count": 1,
            "name": "Missing"
           }
          ],
          "nan_count": 1,
          "unique_count": 58
         }
        },
        {
         "dtype": "object",
         "name": "column2",
         "stats": {
          "categories": [
           {
            "count": 36,
            "name": "Categorical"
           },
           {
            "count": 23,
            "name": "Numerical"
           },
           {
            "count": 1,
            "name": "type"
           }
          ],
          "nan_count": 0,
          "unique_count": 3
         }
        },
        {
         "dtype": "object",
         "name": "column3",
         "stats": {
          "categories": [
           {
            "count": 5,
            "name": "['No' 'Yes' nan 'Not done']"
           },
           {
            "count": 32,
            "name": "26 others"
           },
           {
            "count": 23,
            "name": "Missing"
           }
          ],
          "nan_count": 23,
          "unique_count": 27
         }
        },
        {
         "dtype": "int64",
         "name": "_deepnote_index_column"
        }
       ],
       "row_count": 60,
       "rows": [
        {
         "_deepnote_index_column": 50,
         "column0": "tce_div_match",
         "column1": "T-cell epitope matching",
         "column2": "Categorical",
         "column3": "['Permissive mismatched' 'Bi-directional non-permissive' nan\n 'GvH non-permissive' 'HvG non-permissive']"
        },
        {
         "_deepnote_index_column": 51,
         "column0": "donor_related",
         "column1": "Related vs. unrelated donor",
         "column2": "Categorical",
         "column3": "['Unrelated' 'Related' 'Multiple donor (non-UCB)' nan]"
        },
        {
         "_deepnote_index_column": 52,
         "column0": "melphalan_dose",
         "column1": "Melphalan dose (mg/m^2)",
         "column2": "Categorical",
         "column3": "['N/A, Mel not given' 'MEL' nan]"
        },
        {
         "_deepnote_index_column": 53,
         "column0": "hla_low_res_8",
         "column1": "Recipient / 1st donor antigen-level (low resolution) matching at HLA-A,-B,-C,-DRB1",
         "column2": "Numerical",
         "column3": "None"
        },
        {
         "_deepnote_index_column": 54,
         "column0": "cardiac",
         "column1": "Cardiac",
         "column2": "Categorical",
         "column3": "['No' 'Yes' nan 'Not done']"
        },
        {
         "_deepnote_index_column": 55,
         "column0": "hla_match_drb1_high",
         "column1": "Recipient / 1st donor allele level (high resolution) matching at HLA-DRB1",
         "column2": "Numerical",
         "column3": "None"
        },
        {
         "_deepnote_index_column": 56,
         "column0": "pulm_moderate",
         "column1": "Pulmonary, moderate",
         "column2": "Categorical",
         "column3": "['Yes' 'Not done' 'No' nan]"
        },
        {
         "_deepnote_index_column": 57,
         "column0": "hla_low_res_10",
         "column1": "None",
         "column2": "Numerical",
         "column3": "None"
        },
        {
         "_deepnote_index_column": 58,
         "column0": "efs",
         "column1": "Event-free survival",
         "column2": "Categorical",
         "column3": "['Event' 'Censoring']"
        },
        {
         "_deepnote_index_column": 59,
         "column0": "efs_time",
         "column1": "Time to event-free survival, months",
         "column2": "Numerical",
         "column3": "None"
        }
       ]
      },
      "text/html": [
       "<div>\n",
       "<style scoped>\n",
       "    .dataframe tbody tr th:only-of-type {\n",
       "        vertical-align: middle;\n",
       "    }\n",
       "\n",
       "    .dataframe tbody tr th {\n",
       "        vertical-align: top;\n",
       "    }\n",
       "\n",
       "    .dataframe thead th {\n",
       "        text-align: right;\n",
       "    }\n",
       "</style>\n",
       "<table border=\"1\" class=\"dataframe\">\n",
       "  <thead>\n",
       "    <tr style=\"text-align: right;\">\n",
       "      <th></th>\n",
       "      <th>column0</th>\n",
       "      <th>column1</th>\n",
       "      <th>column2</th>\n",
       "      <th>column3</th>\n",
       "    </tr>\n",
       "  </thead>\n",
       "  <tbody>\n",
       "    <tr>\n",
       "      <th>0</th>\n",
       "      <td>variable</td>\n",
       "      <td>description</td>\n",
       "      <td>type</td>\n",
       "      <td>values</td>\n",
       "    </tr>\n",
       "    <tr>\n",
       "      <th>1</th>\n",
       "      <td>dri_score</td>\n",
       "      <td>Refined disease risk index</td>\n",
       "      <td>Categorical</td>\n",
       "      <td>['Intermediate' 'High' 'N/A - non-malignant in...</td>\n",
       "    </tr>\n",
       "    <tr>\n",
       "      <th>2</th>\n",
       "      <td>psych_disturb</td>\n",
       "      <td>Psychiatric disturbance</td>\n",
       "      <td>Categorical</td>\n",
       "      <td>['Yes' 'No' nan 'Not done']</td>\n",
       "    </tr>\n",
       "    <tr>\n",
       "      <th>3</th>\n",
       "      <td>cyto_score</td>\n",
       "      <td>Cytogenetic score</td>\n",
       "      <td>Categorical</td>\n",
       "      <td>['Intermediate' 'Favorable' 'Poor' 'TBD' nan '...</td>\n",
       "    </tr>\n",
       "    <tr>\n",
       "      <th>4</th>\n",
       "      <td>diabetes</td>\n",
       "      <td>Diabetes</td>\n",
       "      <td>Categorical</td>\n",
       "      <td>['No' 'Yes' nan 'Not done']</td>\n",
       "    </tr>\n",
       "    <tr>\n",
       "      <th>5</th>\n",
       "      <td>hla_match_c_high</td>\n",
       "      <td>Recipient / 1st donor allele level (high resol...</td>\n",
       "      <td>Numerical</td>\n",
       "      <td>None</td>\n",
       "    </tr>\n",
       "    <tr>\n",
       "      <th>6</th>\n",
       "      <td>hla_high_res_8</td>\n",
       "      <td>Recipient / 1st donor allele-level (high resol...</td>\n",
       "      <td>Numerical</td>\n",
       "      <td>None</td>\n",
       "    </tr>\n",
       "    <tr>\n",
       "      <th>7</th>\n",
       "      <td>tbi_status</td>\n",
       "      <td>TBI</td>\n",
       "      <td>Categorical</td>\n",
       "      <td>['No TBI' 'TBI + Cy +- Other' 'TBI +- Other, &lt;...</td>\n",
       "    </tr>\n",
       "    <tr>\n",
       "      <th>8</th>\n",
       "      <td>arrhythmia</td>\n",
       "      <td>Arrhythmia</td>\n",
       "      <td>Categorical</td>\n",
       "      <td>['No' nan 'Yes' 'Not done']</td>\n",
       "    </tr>\n",
       "    <tr>\n",
       "      <th>9</th>\n",
       "      <td>hla_low_res_6</td>\n",
       "      <td>Recipient / 1st donor antigen-level (low resol...</td>\n",
       "      <td>Numerical</td>\n",
       "      <td>None</td>\n",
       "    </tr>\n",
       "    <tr>\n",
       "      <th>10</th>\n",
       "      <td>graft_type</td>\n",
       "      <td>Graft type</td>\n",
       "      <td>Categorical</td>\n",
       "      <td>['Peripheral blood' 'Bone marrow']</td>\n",
       "    </tr>\n",
       "    <tr>\n",
       "      <th>11</th>\n",
       "      <td>vent_hist</td>\n",
       "      <td>History of mechanical ventilation</td>\n",
       "      <td>Categorical</td>\n",
       "      <td>['No' 'Yes' nan]</td>\n",
       "    </tr>\n",
       "    <tr>\n",
       "      <th>12</th>\n",
       "      <td>renal_issue</td>\n",
       "      <td>Renal, moderate / severe</td>\n",
       "      <td>Categorical</td>\n",
       "      <td>['No' nan 'Yes' 'Not done']</td>\n",
       "    </tr>\n",
       "    <tr>\n",
       "      <th>13</th>\n",
       "      <td>pulm_severe</td>\n",
       "      <td>Pulmonary, severe</td>\n",
       "      <td>Categorical</td>\n",
       "      <td>['No' 'Yes' nan 'Not done']</td>\n",
       "    </tr>\n",
       "    <tr>\n",
       "      <th>14</th>\n",
       "      <td>prim_disease_hct</td>\n",
       "      <td>Primary disease for HCT</td>\n",
       "      <td>Categorical</td>\n",
       "      <td>['ALL' 'MPN' 'IPA' 'AML' 'MDS' 'Other acute le...</td>\n",
       "    </tr>\n",
       "    <tr>\n",
       "      <th>15</th>\n",
       "      <td>hla_high_res_6</td>\n",
       "      <td>Recipient / 1st donor allele-level (high resol...</td>\n",
       "      <td>Numerical</td>\n",
       "      <td>None</td>\n",
       "    </tr>\n",
       "    <tr>\n",
       "      <th>16</th>\n",
       "      <td>cmv_status</td>\n",
       "      <td>Donor/recipient CMV serostatus</td>\n",
       "      <td>Categorical</td>\n",
       "      <td>['+/-' '+/+' '-/-' '-/+' nan]</td>\n",
       "    </tr>\n",
       "    <tr>\n",
       "      <th>17</th>\n",
       "      <td>hla_high_res_10</td>\n",
       "      <td>Recipient / 1st donor allele-level (high resol...</td>\n",
       "      <td>Numerical</td>\n",
       "      <td>None</td>\n",
       "    </tr>\n",
       "    <tr>\n",
       "      <th>18</th>\n",
       "      <td>hla_match_dqb1_high</td>\n",
       "      <td>Recipient / 1st donor allele level (high resol...</td>\n",
       "      <td>Numerical</td>\n",
       "      <td>None</td>\n",
       "    </tr>\n",
       "    <tr>\n",
       "      <th>19</th>\n",
       "      <td>tce_imm_match</td>\n",
       "      <td>T-cell epitope immunogenicity/diversity match</td>\n",
       "      <td>Categorical</td>\n",
       "      <td>['P/P' nan 'G/G' 'H/H' 'G/B' 'H/B' 'P/H' 'P/G'...</td>\n",
       "    </tr>\n",
       "    <tr>\n",
       "      <th>20</th>\n",
       "      <td>hla_nmdp_6</td>\n",
       "      <td>Recipient / 1st donor matching at HLA-A(lo),-B...</td>\n",
       "      <td>Numerical</td>\n",
       "      <td>None</td>\n",
       "    </tr>\n",
       "    <tr>\n",
       "      <th>21</th>\n",
       "      <td>hla_match_c_low</td>\n",
       "      <td>Recipient / 1st donor antigen level (low resol...</td>\n",
       "      <td>Numerical</td>\n",
       "      <td>None</td>\n",
       "    </tr>\n",
       "    <tr>\n",
       "      <th>22</th>\n",
       "      <td>rituximab</td>\n",
       "      <td>Rituximab given in conditioning</td>\n",
       "      <td>Categorical</td>\n",
       "      <td>['No' 'Yes' nan]</td>\n",
       "    </tr>\n",
       "    <tr>\n",
       "      <th>23</th>\n",
       "      <td>hla_match_drb1_low</td>\n",
       "      <td>Recipient / 1st donor antigen level (low resol...</td>\n",
       "      <td>Numerical</td>\n",
       "      <td>None</td>\n",
       "    </tr>\n",
       "    <tr>\n",
       "      <th>24</th>\n",
       "      <td>hla_match_dqb1_low</td>\n",
       "      <td>Recipient / 1st donor antigen level (low resol...</td>\n",
       "      <td>Numerical</td>\n",
       "      <td>None</td>\n",
       "    </tr>\n",
       "    <tr>\n",
       "      <th>25</th>\n",
       "      <td>prod_type</td>\n",
       "      <td>Product type</td>\n",
       "      <td>Categorical</td>\n",
       "      <td>['PB' 'BM']</td>\n",
       "    </tr>\n",
       "    <tr>\n",
       "      <th>26</th>\n",
       "      <td>cyto_score_detail</td>\n",
       "      <td>Cytogenetics for DRI (AML/MDS)</td>\n",
       "      <td>Categorical</td>\n",
       "      <td>['Intermediate' nan 'TBD' 'Favorable' 'Poor' '...</td>\n",
       "    </tr>\n",
       "    <tr>\n",
       "      <th>27</th>\n",
       "      <td>conditioning_intensity</td>\n",
       "      <td>Computed planned conditioning intensity</td>\n",
       "      <td>Categorical</td>\n",
       "      <td>['RIC' nan 'NMA' 'MAC' 'TBD' 'No drugs reporte...</td>\n",
       "    </tr>\n",
       "    <tr>\n",
       "      <th>28</th>\n",
       "      <td>ethnicity</td>\n",
       "      <td>Ethnicity</td>\n",
       "      <td>Categorical</td>\n",
       "      <td>['Not Hispanic or Latino' 'Hispanic or Latino'...</td>\n",
       "    </tr>\n",
       "    <tr>\n",
       "      <th>29</th>\n",
       "      <td>year_hct</td>\n",
       "      <td>Year of HCT</td>\n",
       "      <td>Numerical</td>\n",
       "      <td>None</td>\n",
       "    </tr>\n",
       "    <tr>\n",
       "      <th>30</th>\n",
       "      <td>obesity</td>\n",
       "      <td>Obesity</td>\n",
       "      <td>Categorical</td>\n",
       "      <td>['No' 'Yes' nan 'Not done']</td>\n",
       "    </tr>\n",
       "    <tr>\n",
       "      <th>31</th>\n",
       "      <td>mrd_hct</td>\n",
       "      <td>MRD at time of HCT (AML/ALL)</td>\n",
       "      <td>Categorical</td>\n",
       "      <td>[nan 'Negative' 'Positive']</td>\n",
       "    </tr>\n",
       "    <tr>\n",
       "      <th>32</th>\n",
       "      <td>in_vivo_tcd</td>\n",
       "      <td>In-vivo T-cell depletion (ATG/alemtuzumab)</td>\n",
       "      <td>Categorical</td>\n",
       "      <td>['Yes' 'No' nan]</td>\n",
       "    </tr>\n",
       "    <tr>\n",
       "      <th>33</th>\n",
       "      <td>tce_match</td>\n",
       "      <td>T-cell epitope matching</td>\n",
       "      <td>Categorical</td>\n",
       "      <td>['Permissive' 'Fully matched' nan 'GvH non-per...</td>\n",
       "    </tr>\n",
       "    <tr>\n",
       "      <th>34</th>\n",
       "      <td>hla_match_a_high</td>\n",
       "      <td>Recipient / 1st donor allele level (high resol...</td>\n",
       "      <td>Numerical</td>\n",
       "      <td>None</td>\n",
       "    </tr>\n",
       "    <tr>\n",
       "      <th>35</th>\n",
       "      <td>hepatic_severe</td>\n",
       "      <td>Hepatic, moderate / severe</td>\n",
       "      <td>Categorical</td>\n",
       "      <td>['No' nan 'Yes' 'Not done']</td>\n",
       "    </tr>\n",
       "    <tr>\n",
       "      <th>36</th>\n",
       "      <td>donor_age</td>\n",
       "      <td>Donor age</td>\n",
       "      <td>Numerical</td>\n",
       "      <td>None</td>\n",
       "    </tr>\n",
       "    <tr>\n",
       "      <th>37</th>\n",
       "      <td>prior_tumor</td>\n",
       "      <td>Solid tumor, prior</td>\n",
       "      <td>Categorical</td>\n",
       "      <td>['Yes' 'No' nan 'Not done']</td>\n",
       "    </tr>\n",
       "    <tr>\n",
       "      <th>38</th>\n",
       "      <td>hla_match_b_low</td>\n",
       "      <td>Recipient / 1st donor antigen level (low resol...</td>\n",
       "      <td>Numerical</td>\n",
       "      <td>None</td>\n",
       "    </tr>\n",
       "    <tr>\n",
       "      <th>39</th>\n",
       "      <td>peptic_ulcer</td>\n",
       "      <td>Peptic ulcer</td>\n",
       "      <td>Categorical</td>\n",
       "      <td>['No' nan 'Yes' 'Not done']</td>\n",
       "    </tr>\n",
       "    <tr>\n",
       "      <th>40</th>\n",
       "      <td>age_at_hct</td>\n",
       "      <td>Age at HCT</td>\n",
       "      <td>Numerical</td>\n",
       "      <td>None</td>\n",
       "    </tr>\n",
       "    <tr>\n",
       "      <th>41</th>\n",
       "      <td>hla_match_a_low</td>\n",
       "      <td>Recipient / 1st donor antigen level (low resol...</td>\n",
       "      <td>Numerical</td>\n",
       "      <td>None</td>\n",
       "    </tr>\n",
       "    <tr>\n",
       "      <th>42</th>\n",
       "      <td>gvhd_proph</td>\n",
       "      <td>Planned GVHD prophylaxis</td>\n",
       "      <td>Categorical</td>\n",
       "      <td>['FK+ MMF +- others' 'Parent Q = yes, but no a...</td>\n",
       "    </tr>\n",
       "    <tr>\n",
       "      <th>43</th>\n",
       "      <td>rheum_issue</td>\n",
       "      <td>Rheumatologic</td>\n",
       "      <td>Categorical</td>\n",
       "      <td>['No' nan 'Yes' 'Not done']</td>\n",
       "    </tr>\n",
       "    <tr>\n",
       "      <th>44</th>\n",
       "      <td>sex_match</td>\n",
       "      <td>Donor/recipient sex match</td>\n",
       "      <td>Categorical</td>\n",
       "      <td>['M-M' 'F-F' 'F-M' 'M-F' nan]</td>\n",
       "    </tr>\n",
       "    <tr>\n",
       "      <th>45</th>\n",
       "      <td>hla_match_b_high</td>\n",
       "      <td>Recipient / 1st donor allele level (high resol...</td>\n",
       "      <td>Numerical</td>\n",
       "      <td>None</td>\n",
       "    </tr>\n",
       "    <tr>\n",
       "      <th>46</th>\n",
       "      <td>race_group</td>\n",
       "      <td>Race</td>\n",
       "      <td>Categorical</td>\n",
       "      <td>['White' 'Black or African-American'\\n 'Native...</td>\n",
       "    </tr>\n",
       "    <tr>\n",
       "      <th>47</th>\n",
       "      <td>comorbidity_score</td>\n",
       "      <td>Sorror comorbidity score</td>\n",
       "      <td>Numerical</td>\n",
       "      <td>None</td>\n",
       "    </tr>\n",
       "    <tr>\n",
       "      <th>48</th>\n",
       "      <td>karnofsky_score</td>\n",
       "      <td>KPS at HCT</td>\n",
       "      <td>Numerical</td>\n",
       "      <td>None</td>\n",
       "    </tr>\n",
       "    <tr>\n",
       "      <th>49</th>\n",
       "      <td>hepatic_mild</td>\n",
       "      <td>Hepatic, mild</td>\n",
       "      <td>Categorical</td>\n",
       "      <td>['No' 'Yes' nan 'Not done']</td>\n",
       "    </tr>\n",
       "    <tr>\n",
       "      <th>50</th>\n",
       "      <td>tce_div_match</td>\n",
       "      <td>T-cell epitope matching</td>\n",
       "      <td>Categorical</td>\n",
       "      <td>['Permissive mismatched' 'Bi-directional non-p...</td>\n",
       "    </tr>\n",
       "    <tr>\n",
       "      <th>51</th>\n",
       "      <td>donor_related</td>\n",
       "      <td>Related vs. unrelated donor</td>\n",
       "      <td>Categorical</td>\n",
       "      <td>['Unrelated' 'Related' 'Multiple donor (non-UC...</td>\n",
       "    </tr>\n",
       "    <tr>\n",
       "      <th>52</th>\n",
       "      <td>melphalan_dose</td>\n",
       "      <td>Melphalan dose (mg/m^2)</td>\n",
       "      <td>Categorical</td>\n",
       "      <td>['N/A, Mel not given' 'MEL' nan]</td>\n",
       "    </tr>\n",
       "    <tr>\n",
       "      <th>53</th>\n",
       "      <td>hla_low_res_8</td>\n",
       "      <td>Recipient / 1st donor antigen-level (low resol...</td>\n",
       "      <td>Numerical</td>\n",
       "      <td>None</td>\n",
       "    </tr>\n",
       "    <tr>\n",
       "      <th>54</th>\n",
       "      <td>cardiac</td>\n",
       "      <td>Cardiac</td>\n",
       "      <td>Categorical</td>\n",
       "      <td>['No' 'Yes' nan 'Not done']</td>\n",
       "    </tr>\n",
       "    <tr>\n",
       "      <th>55</th>\n",
       "      <td>hla_match_drb1_high</td>\n",
       "      <td>Recipient / 1st donor allele level (high resol...</td>\n",
       "      <td>Numerical</td>\n",
       "      <td>None</td>\n",
       "    </tr>\n",
       "    <tr>\n",
       "      <th>56</th>\n",
       "      <td>pulm_moderate</td>\n",
       "      <td>Pulmonary, moderate</td>\n",
       "      <td>Categorical</td>\n",
       "      <td>['Yes' 'Not done' 'No' nan]</td>\n",
       "    </tr>\n",
       "    <tr>\n",
       "      <th>57</th>\n",
       "      <td>hla_low_res_10</td>\n",
       "      <td>None</td>\n",
       "      <td>Numerical</td>\n",
       "      <td>None</td>\n",
       "    </tr>\n",
       "    <tr>\n",
       "      <th>58</th>\n",
       "      <td>efs</td>\n",
       "      <td>Event-free survival</td>\n",
       "      <td>Categorical</td>\n",
       "      <td>['Event' 'Censoring']</td>\n",
       "    </tr>\n",
       "    <tr>\n",
       "      <th>59</th>\n",
       "      <td>efs_time</td>\n",
       "      <td>Time to event-free survival, months</td>\n",
       "      <td>Numerical</td>\n",
       "      <td>None</td>\n",
       "    </tr>\n",
       "  </tbody>\n",
       "</table>\n",
       "</div>"
      ],
      "text/plain": [
       "                   column0                                            column1  \\\n",
       "0                 variable                                        description   \n",
       "1                dri_score                         Refined disease risk index   \n",
       "2            psych_disturb                            Psychiatric disturbance   \n",
       "3               cyto_score                                  Cytogenetic score   \n",
       "4                 diabetes                                           Diabetes   \n",
       "5         hla_match_c_high  Recipient / 1st donor allele level (high resol...   \n",
       "6           hla_high_res_8  Recipient / 1st donor allele-level (high resol...   \n",
       "7               tbi_status                                                TBI   \n",
       "8               arrhythmia                                         Arrhythmia   \n",
       "9            hla_low_res_6  Recipient / 1st donor antigen-level (low resol...   \n",
       "10              graft_type                                         Graft type   \n",
       "11               vent_hist                  History of mechanical ventilation   \n",
       "12             renal_issue                           Renal, moderate / severe   \n",
       "13             pulm_severe                                  Pulmonary, severe   \n",
       "14        prim_disease_hct                            Primary disease for HCT   \n",
       "15          hla_high_res_6  Recipient / 1st donor allele-level (high resol...   \n",
       "16              cmv_status                     Donor/recipient CMV serostatus   \n",
       "17         hla_high_res_10  Recipient / 1st donor allele-level (high resol...   \n",
       "18     hla_match_dqb1_high  Recipient / 1st donor allele level (high resol...   \n",
       "19           tce_imm_match      T-cell epitope immunogenicity/diversity match   \n",
       "20              hla_nmdp_6  Recipient / 1st donor matching at HLA-A(lo),-B...   \n",
       "21         hla_match_c_low  Recipient / 1st donor antigen level (low resol...   \n",
       "22               rituximab                    Rituximab given in conditioning   \n",
       "23      hla_match_drb1_low  Recipient / 1st donor antigen level (low resol...   \n",
       "24      hla_match_dqb1_low  Recipient / 1st donor antigen level (low resol...   \n",
       "25               prod_type                                       Product type   \n",
       "26       cyto_score_detail                     Cytogenetics for DRI (AML/MDS)   \n",
       "27  conditioning_intensity            Computed planned conditioning intensity   \n",
       "28               ethnicity                                          Ethnicity   \n",
       "29                year_hct                                        Year of HCT   \n",
       "30                 obesity                                            Obesity   \n",
       "31                 mrd_hct                       MRD at time of HCT (AML/ALL)   \n",
       "32             in_vivo_tcd         In-vivo T-cell depletion (ATG/alemtuzumab)   \n",
       "33               tce_match                            T-cell epitope matching   \n",
       "34        hla_match_a_high  Recipient / 1st donor allele level (high resol...   \n",
       "35          hepatic_severe                         Hepatic, moderate / severe   \n",
       "36               donor_age                                          Donor age   \n",
       "37             prior_tumor                                 Solid tumor, prior   \n",
       "38         hla_match_b_low  Recipient / 1st donor antigen level (low resol...   \n",
       "39            peptic_ulcer                                       Peptic ulcer   \n",
       "40              age_at_hct                                         Age at HCT   \n",
       "41         hla_match_a_low  Recipient / 1st donor antigen level (low resol...   \n",
       "42              gvhd_proph                           Planned GVHD prophylaxis   \n",
       "43             rheum_issue                                      Rheumatologic   \n",
       "44               sex_match                          Donor/recipient sex match   \n",
       "45        hla_match_b_high  Recipient / 1st donor allele level (high resol...   \n",
       "46              race_group                                               Race   \n",
       "47       comorbidity_score                           Sorror comorbidity score   \n",
       "48         karnofsky_score                                         KPS at HCT   \n",
       "49            hepatic_mild                                      Hepatic, mild   \n",
       "50           tce_div_match                            T-cell epitope matching   \n",
       "51           donor_related                        Related vs. unrelated donor   \n",
       "52          melphalan_dose                            Melphalan dose (mg/m^2)   \n",
       "53           hla_low_res_8  Recipient / 1st donor antigen-level (low resol...   \n",
       "54                 cardiac                                            Cardiac   \n",
       "55     hla_match_drb1_high  Recipient / 1st donor allele level (high resol...   \n",
       "56           pulm_moderate                                Pulmonary, moderate   \n",
       "57          hla_low_res_10                                               None   \n",
       "58                     efs                                Event-free survival   \n",
       "59                efs_time                Time to event-free survival, months   \n",
       "\n",
       "        column2                                            column3  \n",
       "0          type                                             values  \n",
       "1   Categorical  ['Intermediate' 'High' 'N/A - non-malignant in...  \n",
       "2   Categorical                        ['Yes' 'No' nan 'Not done']  \n",
       "3   Categorical  ['Intermediate' 'Favorable' 'Poor' 'TBD' nan '...  \n",
       "4   Categorical                        ['No' 'Yes' nan 'Not done']  \n",
       "5     Numerical                                               None  \n",
       "6     Numerical                                               None  \n",
       "7   Categorical  ['No TBI' 'TBI + Cy +- Other' 'TBI +- Other, <...  \n",
       "8   Categorical                        ['No' nan 'Yes' 'Not done']  \n",
       "9     Numerical                                               None  \n",
       "10  Categorical                 ['Peripheral blood' 'Bone marrow']  \n",
       "11  Categorical                                   ['No' 'Yes' nan]  \n",
       "12  Categorical                        ['No' nan 'Yes' 'Not done']  \n",
       "13  Categorical                        ['No' 'Yes' nan 'Not done']  \n",
       "14  Categorical  ['ALL' 'MPN' 'IPA' 'AML' 'MDS' 'Other acute le...  \n",
       "15    Numerical                                               None  \n",
       "16  Categorical                      ['+/-' '+/+' '-/-' '-/+' nan]  \n",
       "17    Numerical                                               None  \n",
       "18    Numerical                                               None  \n",
       "19  Categorical  ['P/P' nan 'G/G' 'H/H' 'G/B' 'H/B' 'P/H' 'P/G'...  \n",
       "20    Numerical                                               None  \n",
       "21    Numerical                                               None  \n",
       "22  Categorical                                   ['No' 'Yes' nan]  \n",
       "23    Numerical                                               None  \n",
       "24    Numerical                                               None  \n",
       "25  Categorical                                        ['PB' 'BM']  \n",
       "26  Categorical  ['Intermediate' nan 'TBD' 'Favorable' 'Poor' '...  \n",
       "27  Categorical  ['RIC' nan 'NMA' 'MAC' 'TBD' 'No drugs reporte...  \n",
       "28  Categorical  ['Not Hispanic or Latino' 'Hispanic or Latino'...  \n",
       "29    Numerical                                               None  \n",
       "30  Categorical                        ['No' 'Yes' nan 'Not done']  \n",
       "31  Categorical                        [nan 'Negative' 'Positive']  \n",
       "32  Categorical                                   ['Yes' 'No' nan]  \n",
       "33  Categorical  ['Permissive' 'Fully matched' nan 'GvH non-per...  \n",
       "34    Numerical                                               None  \n",
       "35  Categorical                        ['No' nan 'Yes' 'Not done']  \n",
       "36    Numerical                                               None  \n",
       "37  Categorical                        ['Yes' 'No' nan 'Not done']  \n",
       "38    Numerical                                               None  \n",
       "39  Categorical                        ['No' nan 'Yes' 'Not done']  \n",
       "40    Numerical                                               None  \n",
       "41    Numerical                                               None  \n",
       "42  Categorical  ['FK+ MMF +- others' 'Parent Q = yes, but no a...  \n",
       "43  Categorical                        ['No' nan 'Yes' 'Not done']  \n",
       "44  Categorical                      ['M-M' 'F-F' 'F-M' 'M-F' nan]  \n",
       "45    Numerical                                               None  \n",
       "46  Categorical  ['White' 'Black or African-American'\\n 'Native...  \n",
       "47    Numerical                                               None  \n",
       "48    Numerical                                               None  \n",
       "49  Categorical                        ['No' 'Yes' nan 'Not done']  \n",
       "50  Categorical  ['Permissive mismatched' 'Bi-directional non-p...  \n",
       "51  Categorical  ['Unrelated' 'Related' 'Multiple donor (non-UC...  \n",
       "52  Categorical                   ['N/A, Mel not given' 'MEL' nan]  \n",
       "53    Numerical                                               None  \n",
       "54  Categorical                        ['No' 'Yes' nan 'Not done']  \n",
       "55    Numerical                                               None  \n",
       "56  Categorical                        ['Yes' 'Not done' 'No' nan]  \n",
       "57    Numerical                                               None  \n",
       "58  Categorical                              ['Event' 'Censoring']  \n",
       "59    Numerical                                               None  "
      ]
     },
     "execution_count": 11,
     "metadata": {},
     "output_type": "execute_result"
    }
   ],
   "source": [
    "df_1 = (lambda: _deepnote_execute_sql('SELECT *\\nFROM \\'data_dictionary.csv\\'', 'SQL_DEEPNOTE_DATAFRAME_SQL', audit_sql_comment='', sql_cache_mode='cache_disabled') if '_deepnote_execute_sql' in globals() else _dntk.execute_sql('SELECT *\\nFROM \\'data_dictionary.csv\\'', 'SQL_DEEPNOTE_DATAFRAME_SQL', audit_sql_comment='', sql_cache_mode='cache_disabled'))()\n",
    "df_1"
   ]
  },
  {
   "cell_type": "code",
   "execution_count": 12,
   "metadata": {
    "cell_id": "b6fb3f4bc5d14e8db6e1f950ab7f3c36",
    "deepnote_app_block_visible": true,
    "deepnote_app_is_code_hidden": false,
    "deepnote_app_is_output_hidden": false,
    "deepnote_cell_type": "code",
    "execution_context_id": "253f212a-52c9-4a6a-a70e-bf980c65b184",
    "execution_millis": 672,
    "execution_start": 1738762371140,
    "source_hash": "dbacbf19"
   },
   "outputs": [
    {
     "name": "stderr",
     "output_type": "stream",
     "text": [
      "/tmp/ipykernel_302/2897442710.py:10: FutureWarning: \n",
      "\n",
      "Passing `palette` without assigning `hue` is deprecated and will be removed in v0.14.0. Assign the `y` variable to `hue` and set `legend=False` for the same effect.\n",
      "\n",
      "  bars = sns.barplot(y=missing_values.index, x=missing_values.values, palette=colors)\n"
     ]
    },
    {
     "data": {
      "image/png": "[encoded data removed]",
      "text/plain": [
       "<Figure size 1400x1000 with 1 Axes>"
      ]
     },
     "metadata": {
      "image/png": {
       "height": 866,
       "width": 1337
      }
     },
     "output_type": "display_data"
    }
   ],
   "source": [
    "# Calculate missing values percentage\n",
    "missing_values = train.isnull().sum() / len(train) * 100\n",
    "missing_values = missing_values[missing_values > 0].sort_values(ascending=False)\n",
    "\n",
    "# Generate a color gradient from dark blue (low missing) to red (high missing)\n",
    "colors = sns.color_palette(\"coolwarm\", len(missing_values))[::-1]\n",
    "\n",
    "# Plot missing values with updated formatting\n",
    "plt.figure(figsize=(14, 10))\n",
    "bars = sns.barplot(y=missing_values.index, x=missing_values.values, palette=colors)\n",
    "\n",
    "# Set x-axis to always go up to 100%\n",
    "plt.xlim(0, 100)\n",
    "\n",
    "# Labels and title\n",
    "plt.xlabel(\"Percentage of Missing Values\", fontsize=14)\n",
    "plt.ylabel(\"Feature Name\", fontsize=14)\n",
    "plt.title(\"Missing Values Percentage per Feature\", fontsize=16)\n",
    "\n",
    "# Rotate x-axis ticks for better visibility\n",
    "plt.xticks(fontsize=12)\n",
    "plt.yticks(fontsize=12, rotation=0)\n",
    "\n",
    "# Annotate each bar with its missing percentage\n",
    "for bar, value in zip(bars.patches, missing_values.values):\n",
    "    plt.text(bar.get_width() + 2, bar.get_y() + bar.get_height()/2, \n",
    "             f\"{value:.1f}%\", ha='left', va='center', fontsize=12, color='black')\n",
    "\n",
    "plt.show()"
   ]
  },
  {
   "cell_type": "code",
   "execution_count": 13,
   "metadata": {
    "cell_id": "1f46a1f36d004550b1bac1c2400de37b",
    "deepnote_app_block_visible": true,
    "deepnote_app_is_code_hidden": false,
    "deepnote_app_is_output_hidden": false,
    "deepnote_cell_type": "code",
    "execution_context_id": "253f212a-52c9-4a6a-a70e-bf980c65b184",
    "execution_millis": 491,
    "execution_start": 1738762371868,
    "source_hash": "e07556da"
   },
   "outputs": [
    {
     "data": {
      "image/png": "[encoded data removed]",
      "text/plain": [
       "<Figure size 800x500 with 1 Axes>"
      ]
     },
     "metadata": {
      "image/png": {
       "height": 470,
       "width": 704
      }
     },
     "output_type": "display_data"
    }
   ],
   "source": [
    "plt.figure(figsize=(8, 5))\n",
    "sns.histplot(train[\"age_at_hct\"], bins=30, kde=True, color=\"orange\")\n",
    "plt.title(\"Distribution of Age at HCT\")\n",
    "plt.xlabel(\"Age at HCT\")\n",
    "plt.ylabel(\"Count\")\n",
    "plt.show()"
   ]
  },
  {
   "cell_type": "markdown",
   "metadata": {
    "cell_id": "95cbd77ce4fe403abf1cea7427e786b8",
    "deepnote_app_block_visible": true,
    "deepnote_cell_type": "text-cell-p",
    "formattedRanges": []
   },
   "source": [
    "Explanation:\n",
    "\t•\tHistogram (histplot) shows the age distribution of HCT patients.\n",
    "\t•\tbins=30 groups ages into 30 bins."
   ]
  },
  {
   "cell_type": "markdown",
   "metadata": {
    "created_in_deepnote_cell": true,
    "deepnote_cell_type": "markdown"
   },
   "source": [
    "<a style='text-decoration:none;line-height:16px;display:flex;color:#5B5B62;padding:10px;justify-content:end;' href='https://deepnote.com?utm_source=created-in-deepnote-cell&projectId=570728b2-204d-4c1a-965f-ed3ff56c2393' target=\"_blank\">\n",
    "<img alt='Created in deepnote.com' style='display:inline;max-height:16px;margin:0px;margin-right:7.5px;' src='data:image/svg+xml;base64,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' > </img>\n",
    "Created in <span style='font-weight:600;margin-left:4px;'>Deepnote</span></a>"
   ]
  }
 ],
 "metadata": {
  "deepnote_app_clear_outputs": false,
  "deepnote_app_comments_enabled": false,
  "deepnote_app_execution_enabled": false,
  "deepnote_app_hide_all_code_blocks_enabled": false,
  "deepnote_app_layout": "powerful-article",
  "deepnote_app_reactivity_enabled": false,
  "deepnote_app_run_on_input_enabled": false,
  "deepnote_app_run_on_load_enabled": false,
  "deepnote_app_table_of_contents_enabled": true,
  "deepnote_full_width": false,
  "deepnote_notebook_id": "f2534997540745b1b91fcf35c59d3eb2",
  "kernelspec": {
   "display_name": "Python 3",
   "language": "python",
   "name": "python3"
  },
  "language_info": {
   "codemirror_mode": {
    "name": "ipython",
    "version": 3
   },
   "file_extension": ".py",
   "mimetype": "text/x-python",
   "name": "python",
   "nbconvert_exporter": "python",
   "pygments_lexer": "ipython3",
   "version": "3.11.3"
  }
 },
 "nbformat": 4,
 "nbformat_minor": 0
}
